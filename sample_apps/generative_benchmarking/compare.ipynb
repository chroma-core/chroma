{
 "cells": [
  {
   "cell_type": "markdown",
   "metadata": {},
   "source": [
    "# Compare Embedding Models\n",
    "\n",
    "This notebook walks through how to compare various embedding models with your custom benchmark results."
   ]
  },
  {
   "cell_type": "markdown",
   "metadata": {},
   "source": [
    "## 1. Setup"
   ]
  },
  {
   "cell_type": "markdown",
   "metadata": {},
   "source": [
    "### 1.1 Install & Import\n",
    "\n",
    "Install the necessary packages."
   ]
  },
  {
   "cell_type": "code",
   "execution_count": null,
   "metadata": {},
   "outputs": [],
   "source": [
    "%pip install -r requirements.txt"
   ]
  },
  {
   "cell_type": "code",
   "execution_count": 1,
   "metadata": {},
   "outputs": [],
   "source": [
    "%load_ext autoreload\n",
    "%autoreload 2\n",
    "\n",
    "import pandas as pd\n",
    "import numpy as np\n",
    "import json\n",
    "import os\n",
    "from pathlib import Path\n",
    "from functions.utils import *\n",
    "from functions.visualize import *"
   ]
  },
  {
   "cell_type": "markdown",
   "metadata": {},
   "source": [
    "### 1.2 Load in Results"
   ]
  },
  {
   "cell_type": "code",
   "execution_count": 6,
   "metadata": {},
   "outputs": [],
   "source": [
    "results_dir = Path(\"results\")\n",
    "\n",
    "with open(os.path.join(results_dir, \"2025-03-31--14-01-03.json\"), \"r\") as f:\n",
    "    openai_small_results = json.load(f)\n",
    "\n",
    "with open(os.path.join(results_dir, \"2025-03-31--13-59-25.json\"), \"r\") as f:\n",
    "    openai_large_results = json.load(f)\n",
    "    \n",
    "with open(os.path.join(results_dir, \"2025-03-31--14-08-55.json\"), \"r\") as f:\n",
    "    jina_results = json.load(f)\n",
    "\n",
    "with open(os.path.join(results_dir, \"2025-03-31--14-10-29.json\"), \"r\") as f:\n",
    "    voyage_results = json.load(f)\n",
    "\n",
    "# Load in the results you wish to compare"
   ]
  },
  {
   "cell_type": "code",
   "execution_count": null,
   "metadata": {},
   "outputs": [],
   "source": [
    "results_list = [openai_small_results, openai_large_results, jina_results, voyage_results] # Add as many results as you want to compare\n",
    "\n",
    "# Create a dataframe of the results\n",
    "metrics_df = create_metrics_dataframe(results_list)\n",
    "\n",
    "metrics_df"
   ]
  },
  {
   "cell_type": "markdown",
   "metadata": {},
   "source": [
    "## 2. Compare"
   ]
  },
  {
   "cell_type": "code",
   "execution_count": null,
   "metadata": {},
   "outputs": [],
   "source": [
    "compare_embedding_models(\n",
    "    metrics_df = metrics_df,\n",
    "    metric = \"Recall@3\",\n",
    "    title = \"Recall@3 Scores by Model\"\n",
    ")"
   ]
  },
  {
   "cell_type": "code",
   "execution_count": null,
   "metadata": {},
   "outputs": [],
   "source": []
  }
 ],
 "metadata": {
  "kernelspec": {
   "display_name": "Python 3",
   "language": "python",
   "name": "python3"
  },
  "language_info": {
   "codemirror_mode": {
    "name": "ipython",
    "version": 3
   },
   "file_extension": ".py",
   "mimetype": "text/x-python",
   "name": "python",
   "nbconvert_exporter": "python",
   "pygments_lexer": "ipython3",
   "version": "3.9.6"
  }
 },
 "nbformat": 4,
 "nbformat_minor": 2
}
