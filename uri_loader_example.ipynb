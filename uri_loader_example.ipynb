{
 "cells": [
  {
   "cell_type": "code",
   "execution_count": 1,
   "metadata": {},
   "outputs": [],
   "source": [
    "import chromadb\n",
    "client = chromadb.Client()\n"
   ]
  },
  {
   "cell_type": "code",
   "execution_count": 2,
   "metadata": {},
   "outputs": [],
   "source": [
    "from chromadb.utils.embedding_functions import OpenCLIPEmbeddingFunction\n",
    "from chromadb.utils.data_loaders import ImageLoader\n",
    "\n",
    "embedding_function = OpenCLIPEmbeddingFunction()\n",
    "image_loader = ImageLoader()"
   ]
  },
  {
   "cell_type": "code",
   "execution_count": 3,
   "metadata": {},
   "outputs": [],
   "source": [
    "collection = client.create_collection('test_collection', embedding_function=embedding_function, data_loader=image_loader)"
   ]
  },
  {
   "cell_type": "code",
   "execution_count": 4,
   "metadata": {},
   "outputs": [],
   "source": [
    "collection.add(ids='a', uris='test_img.jpeg')\n",
    "collection.add(ids='b', documents='hello world')"
   ]
  },
  {
   "cell_type": "code",
   "execution_count": 5,
   "metadata": {},
   "outputs": [
    {
     "data": {
      "text/plain": [
       "{'ids': ['a', 'b'],\n",
       " 'embeddings': None,\n",
       " 'metadatas': None,\n",
       " 'documents': [None, 'hello world'],\n",
       " 'uris': ['test_img.jpeg', None],\n",
       " 'datas': [array([[[ 23, 159, 237],\n",
       "          [ 23, 159, 237],\n",
       "          [ 24, 160, 238],\n",
       "          ...,\n",
       "          [ 26, 163, 243],\n",
       "          [ 26, 163, 243],\n",
       "          [ 26, 163, 243]],\n",
       "  \n",
       "         [[ 23, 159, 237],\n",
       "          [ 23, 159, 237],\n",
       "          [ 24, 160, 238],\n",
       "          ...,\n",
       "          [ 25, 162, 242],\n",
       "          [ 25, 162, 242],\n",
       "          [ 25, 162, 242]],\n",
       "  \n",
       "         [[ 23, 159, 237],\n",
       "          [ 23, 159, 237],\n",
       "          [ 24, 160, 238],\n",
       "          ...,\n",
       "          [ 24, 161, 241],\n",
       "          [ 24, 161, 241],\n",
       "          [ 24, 161, 241]],\n",
       "  \n",
       "         ...,\n",
       "  \n",
       "         [[ 20,  88,  49],\n",
       "          [ 21,  87,  49],\n",
       "          [ 21,  87,  49],\n",
       "          ...,\n",
       "          [ 40, 105,  75],\n",
       "          [ 41, 106,  76],\n",
       "          [ 41, 106,  76]],\n",
       "  \n",
       "         [[ 10,  82,  42],\n",
       "          [ 11,  82,  42],\n",
       "          [ 14,  82,  43],\n",
       "          ...,\n",
       "          [ 37, 102,  72],\n",
       "          [ 37, 102,  72],\n",
       "          [ 37, 102,  72]],\n",
       "  \n",
       "         [[  0,  75,  34],\n",
       "          [  3,  75,  35],\n",
       "          [  5,  76,  36],\n",
       "          ...,\n",
       "          [ 26,  89,  60],\n",
       "          [ 35, 100,  70],\n",
       "          [ 41, 106,  76]]], dtype=uint8),\n",
       "  None]}"
      ]
     },
     "execution_count": 5,
     "metadata": {},
     "output_type": "execute_result"
    }
   ],
   "source": [
    "collection.get(include=['documents', 'datas'])"
   ]
  }
 ],
 "metadata": {
  "kernelspec": {
   "display_name": "chroma",
   "language": "python",
   "name": "python3"
  },
  "language_info": {
   "codemirror_mode": {
    "name": "ipython",
    "version": 3
   },
   "file_extension": ".py",
   "mimetype": "text/x-python",
   "name": "python",
   "nbconvert_exporter": "python",
   "pygments_lexer": "ipython3",
   "version": "3.9.16"
  }
 },
 "nbformat": 4,
 "nbformat_minor": 2
}
