{
 "cells": [
  {
   "cell_type": "markdown",
   "source": [
    "# How Collection Metadata Works in ChromaDB\n",
    "\n",
    "It works in overwrite mode where the whole metadata for the collection is overwritten."
   ],
   "metadata": {
    "collapsed": false
   },
   "id": "531d9558d51ea04a"
  },
  {
   "cell_type": "code",
   "execution_count": 1,
   "id": "initial_id",
   "metadata": {
    "collapsed": true,
    "ExecuteTime": {
     "end_time": "2024-01-15T15:02:27.997337Z",
     "start_time": "2024-01-15T15:02:27.337038Z"
    }
   },
   "outputs": [
    {
     "data": {
      "text/plain": "{'test': True}"
     },
     "execution_count": 1,
     "metadata": {},
     "output_type": "execute_result"
    }
   ],
   "source": [
    "import chromadb\n",
    "\n",
    "client = chromadb.Client()\n",
    "\n",
    "col = client.get_or_create_collection(\"test\",metadata={\"test\":True})\n",
    "\n",
    "col.metadata"
   ]
  },
  {
   "cell_type": "code",
   "outputs": [
    {
     "data": {
      "text/plain": "{'test1': False}"
     },
     "execution_count": 3,
     "metadata": {},
     "output_type": "execute_result"
    }
   ],
   "source": [
    "col.modify(metadata={\"test1\":False})\n",
    "col.metadata"
   ],
   "metadata": {
    "collapsed": false,
    "ExecuteTime": {
     "end_time": "2024-01-15T14:13:01.165430Z",
     "start_time": "2024-01-15T14:13:01.157947Z"
    }
   },
   "id": "d8e56a1bc12de7db",
   "execution_count": 3
  },
  {
   "cell_type": "markdown",
   "source": [
    "# How Collection Metadata Works in ChromaDB\n",
    "\n",
    "Append only"
   ],
   "metadata": {
    "collapsed": false
   },
   "id": "db23e753775605b8"
  },
  {
   "cell_type": "code",
   "outputs": [
    {
     "name": "stdout",
     "output_type": "stream",
     "text": [
      "[]\n"
     ]
    },
    {
     "data": {
      "text/plain": "{'ids': ['1'],\n 'embeddings': None,\n 'metadatas': [{'test': True}],\n 'documents': ['test'],\n 'uris': None,\n 'data': None}"
     },
     "execution_count": 3,
     "metadata": {},
     "output_type": "execute_result"
    }
   ],
   "source": [
    "col.add(ids=[\"1\"],documents=[\"test\"],metadatas=[{\"test\":True}])\n",
    "\n",
    "col.get(ids=[\"1\"])"
   ],
   "metadata": {
    "collapsed": false,
    "ExecuteTime": {
     "end_time": "2024-01-15T15:02:47.328196Z",
     "start_time": "2024-01-15T15:02:47.297677Z"
    }
   },
   "id": "89efef3324c0d1bb",
   "execution_count": 3
  },
  {
   "cell_type": "code",
   "outputs": [
    {
     "data": {
      "text/plain": "{'ids': ['1'],\n 'embeddings': None,\n 'metadatas': [{'test': True, 'test1': False}],\n 'documents': ['test'],\n 'uris': None,\n 'data': None}"
     },
     "execution_count": 6,
     "metadata": {},
     "output_type": "execute_result"
    }
   ],
   "source": [
    "col.upsert(ids=[\"1\"],documents=[\"test\"],metadatas=[{\"test1\":False}])\n",
    "col.get(ids=[\"1\"])"
   ],
   "metadata": {
    "collapsed": false,
    "ExecuteTime": {
     "end_time": "2024-01-15T14:44:09.807810Z",
     "start_time": "2024-01-15T14:44:09.767616Z"
    }
   },
   "id": "3d41e5a2d0e1f9b4",
   "execution_count": 6
  },
  {
   "cell_type": "code",
   "outputs": [
    {
     "data": {
      "text/plain": "{'ids': ['1'],\n 'embeddings': None,\n 'metadatas': [{'test': True, 'test1': False, 'test2': False}],\n 'documents': ['test'],\n 'uris': None,\n 'data': None}"
     },
     "execution_count": 7,
     "metadata": {},
     "output_type": "execute_result"
    }
   ],
   "source": [
    "col.update(ids=[\"1\"],documents=[\"test\"],metadatas=[{\"test2\":False}])\n",
    "col.get(ids=[\"1\"])"
   ],
   "metadata": {
    "collapsed": false,
    "ExecuteTime": {
     "end_time": "2024-01-15T14:44:26.032117Z",
     "start_time": "2024-01-15T14:44:25.993189Z"
    }
   },
   "id": "7833b10bc195ef8f",
   "execution_count": 7
  },
  {
   "cell_type": "code",
   "outputs": [
    {
     "ename": "ValueError",
     "evalue": "Expected metadata value to be a str, int, float or bool, got None which is a <class 'NoneType'>",
     "output_type": "error",
     "traceback": [
      "\u001B[0;31m---------------------------------------------------------------------------\u001B[0m",
      "\u001B[0;31mValueError\u001B[0m                                Traceback (most recent call last)",
      "Cell \u001B[0;32mIn[8], line 1\u001B[0m\n\u001B[0;32m----> 1\u001B[0m \u001B[43mcol\u001B[49m\u001B[38;5;241;43m.\u001B[39;49m\u001B[43mupdate\u001B[49m\u001B[43m(\u001B[49m\u001B[43mids\u001B[49m\u001B[38;5;241;43m=\u001B[39;49m\u001B[43m[\u001B[49m\u001B[38;5;124;43m\"\u001B[39;49m\u001B[38;5;124;43m1\u001B[39;49m\u001B[38;5;124;43m\"\u001B[39;49m\u001B[43m]\u001B[49m\u001B[43m,\u001B[49m\u001B[43mdocuments\u001B[49m\u001B[38;5;241;43m=\u001B[39;49m\u001B[43m[\u001B[49m\u001B[38;5;124;43m\"\u001B[39;49m\u001B[38;5;124;43mtest\u001B[39;49m\u001B[38;5;124;43m\"\u001B[39;49m\u001B[43m]\u001B[49m\u001B[43m,\u001B[49m\u001B[43mmetadatas\u001B[49m\u001B[38;5;241;43m=\u001B[39;49m\u001B[43m[\u001B[49m\u001B[43m{\u001B[49m\u001B[38;5;124;43m\"\u001B[39;49m\u001B[38;5;124;43mtest2\u001B[39;49m\u001B[38;5;124;43m\"\u001B[39;49m\u001B[43m:\u001B[49m\u001B[38;5;28;43;01mNone\u001B[39;49;00m\u001B[43m}\u001B[49m\u001B[43m]\u001B[49m\u001B[43m)\u001B[49m\n\u001B[1;32m      2\u001B[0m col\u001B[38;5;241m.\u001B[39mget(ids\u001B[38;5;241m=\u001B[39m[\u001B[38;5;124m\"\u001B[39m\u001B[38;5;124m1\u001B[39m\u001B[38;5;124m\"\u001B[39m])\n",
      "File \u001B[0;32m~/experiments/chroma/oss/1591-chroma-core/chromadb/api/models/Collection.py:426\u001B[0m, in \u001B[0;36mCollection.update\u001B[0;34m(self, ids, embeddings, metadatas, documents, images, uris)\u001B[0m\n\u001B[1;32m    393\u001B[0m \u001B[38;5;28;01mdef\u001B[39;00m \u001B[38;5;21mupdate\u001B[39m(\n\u001B[1;32m    394\u001B[0m     \u001B[38;5;28mself\u001B[39m,\n\u001B[1;32m    395\u001B[0m     ids: OneOrMany[ID],\n\u001B[0;32m   (...)\u001B[0m\n\u001B[1;32m    405\u001B[0m     uris: Optional[OneOrMany[URI]] \u001B[38;5;241m=\u001B[39m \u001B[38;5;28;01mNone\u001B[39;00m,\n\u001B[1;32m    406\u001B[0m ) \u001B[38;5;241m-\u001B[39m\u001B[38;5;241m>\u001B[39m \u001B[38;5;28;01mNone\u001B[39;00m:\n\u001B[1;32m    407\u001B[0m \u001B[38;5;250m    \u001B[39m\u001B[38;5;124;03m\"\"\"Update the embeddings, metadatas or documents for provided ids.\u001B[39;00m\n\u001B[1;32m    408\u001B[0m \n\u001B[1;32m    409\u001B[0m \u001B[38;5;124;03m    Args:\u001B[39;00m\n\u001B[0;32m   (...)\u001B[0m\n\u001B[1;32m    416\u001B[0m \u001B[38;5;124;03m        None\u001B[39;00m\n\u001B[1;32m    417\u001B[0m \u001B[38;5;124;03m    \"\"\"\u001B[39;00m\n\u001B[1;32m    419\u001B[0m     (\n\u001B[1;32m    420\u001B[0m         ids,\n\u001B[1;32m    421\u001B[0m         embeddings,\n\u001B[1;32m    422\u001B[0m         metadatas,\n\u001B[1;32m    423\u001B[0m         documents,\n\u001B[1;32m    424\u001B[0m         images,\n\u001B[1;32m    425\u001B[0m         uris,\n\u001B[0;32m--> 426\u001B[0m     ) \u001B[38;5;241m=\u001B[39m \u001B[38;5;28;43mself\u001B[39;49m\u001B[38;5;241;43m.\u001B[39;49m\u001B[43m_validate_embedding_set\u001B[49m\u001B[43m(\u001B[49m\n\u001B[1;32m    427\u001B[0m \u001B[43m        \u001B[49m\u001B[43mids\u001B[49m\u001B[43m,\u001B[49m\n\u001B[1;32m    428\u001B[0m \u001B[43m        \u001B[49m\u001B[43membeddings\u001B[49m\u001B[43m,\u001B[49m\n\u001B[1;32m    429\u001B[0m \u001B[43m        \u001B[49m\u001B[43mmetadatas\u001B[49m\u001B[43m,\u001B[49m\n\u001B[1;32m    430\u001B[0m \u001B[43m        \u001B[49m\u001B[43mdocuments\u001B[49m\u001B[43m,\u001B[49m\n\u001B[1;32m    431\u001B[0m \u001B[43m        \u001B[49m\u001B[43mimages\u001B[49m\u001B[43m,\u001B[49m\n\u001B[1;32m    432\u001B[0m \u001B[43m        \u001B[49m\u001B[43muris\u001B[49m\u001B[43m,\u001B[49m\n\u001B[1;32m    433\u001B[0m \u001B[43m        \u001B[49m\u001B[43mrequire_embeddings_or_data\u001B[49m\u001B[38;5;241;43m=\u001B[39;49m\u001B[38;5;28;43;01mFalse\u001B[39;49;00m\u001B[43m,\u001B[49m\n\u001B[1;32m    434\u001B[0m \u001B[43m    \u001B[49m\u001B[43m)\u001B[49m\n\u001B[1;32m    436\u001B[0m     \u001B[38;5;28;01mif\u001B[39;00m embeddings \u001B[38;5;129;01mis\u001B[39;00m \u001B[38;5;28;01mNone\u001B[39;00m:\n\u001B[1;32m    437\u001B[0m         \u001B[38;5;28;01mif\u001B[39;00m documents \u001B[38;5;129;01mis\u001B[39;00m \u001B[38;5;129;01mnot\u001B[39;00m \u001B[38;5;28;01mNone\u001B[39;00m:\n",
      "File \u001B[0;32m~/experiments/chroma/oss/1591-chroma-core/chromadb/api/models/Collection.py:554\u001B[0m, in \u001B[0;36mCollection._validate_embedding_set\u001B[0;34m(self, ids, embeddings, metadatas, documents, images, uris, require_embeddings_or_data)\u001B[0m\n\u001B[1;32m    545\u001B[0m valid_ids \u001B[38;5;241m=\u001B[39m validate_ids(maybe_cast_one_to_many_ids(ids))\n\u001B[1;32m    546\u001B[0m valid_embeddings \u001B[38;5;241m=\u001B[39m (\n\u001B[1;32m    547\u001B[0m     validate_embeddings(\n\u001B[1;32m    548\u001B[0m         \u001B[38;5;28mself\u001B[39m\u001B[38;5;241m.\u001B[39m_normalize_embeddings(maybe_cast_one_to_many_embedding(embeddings))\n\u001B[0;32m   (...)\u001B[0m\n\u001B[1;32m    551\u001B[0m     \u001B[38;5;28;01melse\u001B[39;00m \u001B[38;5;28;01mNone\u001B[39;00m\n\u001B[1;32m    552\u001B[0m )\n\u001B[1;32m    553\u001B[0m valid_metadatas \u001B[38;5;241m=\u001B[39m (\n\u001B[0;32m--> 554\u001B[0m     \u001B[43mvalidate_metadatas\u001B[49m\u001B[43m(\u001B[49m\u001B[43mmaybe_cast_one_to_many_metadata\u001B[49m\u001B[43m(\u001B[49m\u001B[43mmetadatas\u001B[49m\u001B[43m)\u001B[49m\u001B[43m)\u001B[49m\n\u001B[1;32m    555\u001B[0m     \u001B[38;5;28;01mif\u001B[39;00m metadatas \u001B[38;5;129;01mis\u001B[39;00m \u001B[38;5;129;01mnot\u001B[39;00m \u001B[38;5;28;01mNone\u001B[39;00m\n\u001B[1;32m    556\u001B[0m     \u001B[38;5;28;01melse\u001B[39;00m \u001B[38;5;28;01mNone\u001B[39;00m\n\u001B[1;32m    557\u001B[0m )\n\u001B[1;32m    558\u001B[0m valid_documents \u001B[38;5;241m=\u001B[39m (\n\u001B[1;32m    559\u001B[0m     maybe_cast_one_to_many_document(documents)\n\u001B[1;32m    560\u001B[0m     \u001B[38;5;28;01mif\u001B[39;00m documents \u001B[38;5;129;01mis\u001B[39;00m \u001B[38;5;129;01mnot\u001B[39;00m \u001B[38;5;28;01mNone\u001B[39;00m\n\u001B[1;32m    561\u001B[0m     \u001B[38;5;28;01melse\u001B[39;00m \u001B[38;5;28;01mNone\u001B[39;00m\n\u001B[1;32m    562\u001B[0m )\n\u001B[1;32m    563\u001B[0m valid_images \u001B[38;5;241m=\u001B[39m (\n\u001B[1;32m    564\u001B[0m     maybe_cast_one_to_many_image(images) \u001B[38;5;28;01mif\u001B[39;00m images \u001B[38;5;129;01mis\u001B[39;00m \u001B[38;5;129;01mnot\u001B[39;00m \u001B[38;5;28;01mNone\u001B[39;00m \u001B[38;5;28;01melse\u001B[39;00m \u001B[38;5;28;01mNone\u001B[39;00m\n\u001B[1;32m    565\u001B[0m )\n",
      "File \u001B[0;32m~/experiments/chroma/oss/1591-chroma-core/chromadb/api/types.py:302\u001B[0m, in \u001B[0;36mvalidate_metadatas\u001B[0;34m(metadatas)\u001B[0m\n\u001B[1;32m    300\u001B[0m     \u001B[38;5;28;01mraise\u001B[39;00m \u001B[38;5;167;01mValueError\u001B[39;00m(\u001B[38;5;124mf\u001B[39m\u001B[38;5;124m\"\u001B[39m\u001B[38;5;124mExpected metadatas to be a list, got \u001B[39m\u001B[38;5;132;01m{\u001B[39;00mmetadatas\u001B[38;5;132;01m}\u001B[39;00m\u001B[38;5;124m\"\u001B[39m)\n\u001B[1;32m    301\u001B[0m \u001B[38;5;28;01mfor\u001B[39;00m metadata \u001B[38;5;129;01min\u001B[39;00m metadatas:\n\u001B[0;32m--> 302\u001B[0m     \u001B[43mvalidate_metadata\u001B[49m\u001B[43m(\u001B[49m\u001B[43mmetadata\u001B[49m\u001B[43m)\u001B[49m\n\u001B[1;32m    303\u001B[0m \u001B[38;5;28;01mreturn\u001B[39;00m metadatas\n",
      "File \u001B[0;32m~/experiments/chroma/oss/1591-chroma-core/chromadb/api/types.py:270\u001B[0m, in \u001B[0;36mvalidate_metadata\u001B[0;34m(metadata)\u001B[0m\n\u001B[1;32m    268\u001B[0m     \u001B[38;5;66;03m# isinstance(True, int) evaluates to True, so we need to check for bools separately\u001B[39;00m\n\u001B[1;32m    269\u001B[0m     \u001B[38;5;28;01mif\u001B[39;00m \u001B[38;5;129;01mnot\u001B[39;00m \u001B[38;5;28misinstance\u001B[39m(value, \u001B[38;5;28mbool\u001B[39m) \u001B[38;5;129;01mand\u001B[39;00m \u001B[38;5;129;01mnot\u001B[39;00m \u001B[38;5;28misinstance\u001B[39m(value, (\u001B[38;5;28mstr\u001B[39m, \u001B[38;5;28mint\u001B[39m, \u001B[38;5;28mfloat\u001B[39m)):\n\u001B[0;32m--> 270\u001B[0m         \u001B[38;5;28;01mraise\u001B[39;00m \u001B[38;5;167;01mValueError\u001B[39;00m(\n\u001B[1;32m    271\u001B[0m             \u001B[38;5;124mf\u001B[39m\u001B[38;5;124m\"\u001B[39m\u001B[38;5;124mExpected metadata value to be a str, int, float or bool, got \u001B[39m\u001B[38;5;132;01m{\u001B[39;00mvalue\u001B[38;5;132;01m}\u001B[39;00m\u001B[38;5;124m which is a \u001B[39m\u001B[38;5;132;01m{\u001B[39;00m\u001B[38;5;28mtype\u001B[39m(value)\u001B[38;5;132;01m}\u001B[39;00m\u001B[38;5;124m\"\u001B[39m\n\u001B[1;32m    272\u001B[0m         )\n\u001B[1;32m    273\u001B[0m \u001B[38;5;28;01mreturn\u001B[39;00m metadata\n",
      "\u001B[0;31mValueError\u001B[0m: Expected metadata value to be a str, int, float or bool, got None which is a <class 'NoneType'>"
     ]
    }
   ],
   "source": [
    "col.update(ids=[\"1\"],documents=[\"test\"],metadatas=[{\"test2\":None}])\n",
    "col.get(ids=[\"1\"])"
   ],
   "metadata": {
    "collapsed": false,
    "ExecuteTime": {
     "end_time": "2024-01-15T14:44:44.260382Z",
     "start_time": "2024-01-15T14:44:43.987339Z"
    }
   },
   "id": "ddf851f7620aaeca",
   "execution_count": 8
  },
  {
   "cell_type": "code",
   "outputs": [
    {
     "ename": "NameError",
     "evalue": "name 'col' is not defined",
     "output_type": "error",
     "traceback": [
      "\u001B[0;31m---------------------------------------------------------------------------\u001B[0m",
      "\u001B[0;31mNameError\u001B[0m                                 Traceback (most recent call last)",
      "Cell \u001B[0;32mIn[1], line 1\u001B[0m\n\u001B[0;32m----> 1\u001B[0m \u001B[43mcol\u001B[49m\u001B[38;5;241m.\u001B[39mupsert(ids\u001B[38;5;241m=\u001B[39m[\u001B[38;5;124m\"\u001B[39m\u001B[38;5;124m1\u001B[39m\u001B[38;5;124m\"\u001B[39m],documents\u001B[38;5;241m=\u001B[39m[\u001B[38;5;124m\"\u001B[39m\u001B[38;5;124mtest\u001B[39m\u001B[38;5;124m\"\u001B[39m],metadatas\u001B[38;5;241m=\u001B[39m[\u001B[38;5;28;01mNone\u001B[39;00m])\n\u001B[1;32m      2\u001B[0m col\u001B[38;5;241m.\u001B[39mget(ids\u001B[38;5;241m=\u001B[39m[\u001B[38;5;124m\"\u001B[39m\u001B[38;5;124m1\u001B[39m\u001B[38;5;124m\"\u001B[39m])\n\u001B[1;32m      3\u001B[0m \u001B[38;5;66;03m# does not work\u001B[39;00m\n",
      "\u001B[0;31mNameError\u001B[0m: name 'col' is not defined"
     ]
    }
   ],
   "source": [
    "col.upsert(ids=[\"1\"],documents=[\"test\"],metadatas=[None])\n",
    "col.get(ids=[\"1\"])\n",
    "# does not work"
   ],
   "metadata": {
    "collapsed": false,
    "ExecuteTime": {
     "end_time": "2024-01-15T15:45:14.334368Z",
     "start_time": "2024-01-15T15:45:14.025864Z"
    }
   },
   "id": "eb0ffb476a667928",
   "execution_count": 1
  },
  {
   "cell_type": "code",
   "outputs": [
    {
     "name": "stdout",
     "output_type": "stream",
     "text": [
      "{'ids': ['1'], 'embeddings': None, 'metadatas': [None], 'documents': ['test'], 'uris': None, 'data': None}\n"
     ]
    }
   ],
   "source": [
    "\n",
    "import chromadb\n",
    "\n",
    "client = chromadb.Client()\n",
    "\n",
    "col = client.get_or_create_collection(\"test\",metadata={\"test\":True})\n",
    "col.add(ids=[\"1\"],documents=[\"test-meta-none\"],metadatas=[{\"test\":True}])\n",
    "col.update(ids=[\"1\"],documents=[\"test\"],metadatas=[None])\n",
    "res = col.get(ids=[\"1\"])\n",
    "print(res)\n",
    "assert res[\"metadatas\"][0] is None\n",
    "# does not work"
   ],
   "metadata": {
    "collapsed": false,
    "ExecuteTime": {
     "end_time": "2024-01-15T15:54:39.624869Z",
     "start_time": "2024-01-15T15:54:38.939473Z"
    }
   },
   "id": "e6e69613c6d76e0a",
   "execution_count": 1
  },
  {
   "cell_type": "code",
   "outputs": [
    {
     "name": "stdout",
     "output_type": "stream",
     "text": [
      "{'ids': ['1'], 'embeddings': None, 'metadatas': [{'test': True, 'test1': False}], 'documents': ['test'], 'uris': None, 'data': None}\n"
     ]
    }
   ],
   "source": [
    "import chromadb\n",
    "\n",
    "client = chromadb.Client()\n",
    "\n",
    "col = client.get_or_create_collection(\"test-partial\",metadata={\"test\":True})\n",
    "col.add(ids=[\"1\"],documents=[\"test\"],metadatas=[{\"test\":True,\"test1\":False}])\n",
    "print(col.get(ids=[\"1\"]))\n",
    "col.update(ids=[\"1\"],documents=[\"test\"],metadatas=[{\"test1\":None}])\n",
    "res = col.get(ids=[\"1\"])\n",
    "assert res[\"metadatas\"][0] == {\"test\":True}"
   ],
   "metadata": {
    "collapsed": false,
    "ExecuteTime": {
     "end_time": "2024-01-15T15:54:40.312788Z",
     "start_time": "2024-01-15T15:54:40.222702Z"
    }
   },
   "id": "8b3801799734adfc",
   "execution_count": 2
  },
  {
   "cell_type": "code",
   "outputs": [
    {
     "name": "stdout",
     "output_type": "stream",
     "text": [
      "{'ids': ['1'], 'embeddings': None, 'metadatas': [{'test': True, 'test1': False}], 'documents': ['test-no-meta'], 'uris': None, 'data': None}\n",
      "{'ids': ['1'], 'embeddings': None, 'metadatas': [{'test': True, 'test1': False}], 'documents': ['test1'], 'uris': None, 'data': None}\n"
     ]
    }
   ],
   "source": [
    "import chromadb\n",
    "\n",
    "client = chromadb.Client()\n",
    "\n",
    "col = client.get_or_create_collection(\"test-no-meta\",metadata={\"test\":True})\n",
    "col.add(ids=[\"1\"],documents=[\"test-no-meta\"],metadatas=[{\"test\":True,\"test1\":False}])\n",
    "print(col.get(ids=[\"1\"]))\n",
    "col.update(ids=[\"1\"],documents=[\"test1\"]) # this is a bug that removes all the metadata\n",
    "res = col.get(ids=[\"1\"])\n",
    "print(res)\n",
    "assert res[\"metadatas\"][0] == {\"test\":True,\"test1\":False}"
   ],
   "metadata": {
    "collapsed": false,
    "ExecuteTime": {
     "end_time": "2024-01-15T15:54:41.279471Z",
     "start_time": "2024-01-15T15:54:41.099774Z"
    }
   },
   "id": "1605851d52086e46",
   "execution_count": 3
  },
  {
   "cell_type": "code",
   "outputs": [],
   "source": [],
   "metadata": {
    "collapsed": false
   },
   "id": "c8b71ccd6576ba2e"
  }
 ],
 "metadata": {
  "kernelspec": {
   "display_name": "Python 3",
   "language": "python",
   "name": "python3"
  },
  "language_info": {
   "codemirror_mode": {
    "name": "ipython",
    "version": 2
   },
   "file_extension": ".py",
   "mimetype": "text/x-python",
   "name": "python",
   "nbconvert_exporter": "python",
   "pygments_lexer": "ipython2",
   "version": "2.7.6"
  }
 },
 "nbformat": 4,
 "nbformat_minor": 5
}
