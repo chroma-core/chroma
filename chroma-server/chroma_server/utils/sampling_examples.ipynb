{
 "cells": [
  {
   "cell_type": "code",
   "execution_count": 1,
   "metadata": {},
   "outputs": [],
   "source": [
    "%load_ext autoreload\n",
    "%autoreload 2"
   ]
  },
  {
   "cell_type": "code",
   "execution_count": 2,
   "metadata": {},
   "outputs": [],
   "source": [
    "from chroma_server.db.clickhouse import Clickhouse\n",
    "from chroma_server.index.hnswlib import Hnswlib\n",
    "\n",
    "from chroma_server.utils.sampling import *"
   ]
  },
  {
   "cell_type": "code",
   "execution_count": 5,
   "metadata": {},
   "outputs": [
    {
     "name": "stdout",
     "output_type": "stream",
     "text": [
      "time to fetch 1677402 embeddings:  7.514243125915527\n",
      "time to fetch 205777 embeddings:  1.2197113037109375\n"
     ]
    }
   ],
   "source": [
    "db = Clickhouse()\n",
    "model_space = \"default_scope\"\n",
    "\n",
    "training_dataset_name = \"waymo-phx-train-hc\"\n",
    "inference_dataset_name = \"waymo-sf-val-hc\"\n",
    "\n",
    "training_data = db.fetch(\n",
    "    where={\"model_space\": model_space, \"dataset\": training_dataset_name}\n",
    ")\n",
    "inference_data = db.fetch(\n",
    "    where={\"model_space\": model_space, \"dataset\": inference_dataset_name}\n",
    ")\n",
    "\n",
    "ann_index = Hnswlib()\n",
    "\n",
    "ann_index.run(\n",
    "    model_space=model_space,\n",
    "    uuids=training_data[\"uuid\"].tolist() + inference_data[\"uuid\"].tolist(),\n",
    "    embeddings=training_data[\"embedding\"].tolist() + inference_data[\"embedding\"].tolist(),\n",
    "    num_threads=8\n",
    ")"
   ]
  },
  {
   "cell_type": "markdown",
   "metadata": {},
   "source": [
    "# Score and Store"
   ]
  },
  {
   "cell_type": "code",
   "execution_count": 8,
   "metadata": {},
   "outputs": [
    {
     "name": "stdout",
     "output_type": "stream",
     "text": [
      "time to fetch 1677402 embeddings:  11.789789915084839\n",
      "time to fetch 205777 embeddings:  0.9775769710540771\n"
     ]
    }
   ],
   "source": [
    "score_and_store(\n",
    "    training_dataset_name=training_dataset_name,\n",
    "    inference_dataset_name=inference_dataset_name,\n",
    "    db_connection=db,\n",
    "    ann_index=ann_index,\n",
    "    model_space=model_space,\n",
    ")"
   ]
  },
  {
   "cell_type": "markdown",
   "metadata": {},
   "source": [
    "# Get Samples"
   ]
  },
  {
   "cell_type": "code",
   "execution_count": 12,
   "metadata": {},
   "outputs": [],
   "source": [
    "sample_proportions = {\n",
    "    \"activation_uncertainty\": 0.3,\n",
    "    \"boundary_uncertainty\": 0.3,\n",
    "    \"representative_cluster_outlier\": 0.2,\n",
    "    \"random\": 0.2,\n",
    "}\n",
    "\n",
    "samples = get_sample(dataset_name=inference_dataset_name, n_samples=1000, sample_proportions=sample_proportions, db_connection=db, model_space=model_space)"
   ]
  }
 ],
 "metadata": {
  "kernelspec": {
   "display_name": "Python 3.9.13 ('chroma')",
   "language": "python",
   "name": "python3"
  },
  "language_info": {
   "codemirror_mode": {
    "name": "ipython",
    "version": 3
   },
   "file_extension": ".py",
   "mimetype": "text/x-python",
   "name": "python",
   "nbconvert_exporter": "python",
   "pygments_lexer": "ipython3",
   "version": "3.9.13"
  },
  "orig_nbformat": 4,
  "vscode": {
   "interpreter": {
    "hash": "88f09714c9334832bac29166716f9f6a879ee2a4ed4822c1d4120cb2393b58dd"
   }
  }
 },
 "nbformat": 4,
 "nbformat_minor": 2
}
