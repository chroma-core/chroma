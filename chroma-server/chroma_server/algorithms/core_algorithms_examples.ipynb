{
 "cells": [
  {
   "cell_type": "code",
   "execution_count": 2,
   "metadata": {},
   "outputs": [],
   "source": [
    "%load_ext autoreload\n",
    "%autoreload 2"
   ]
  },
  {
   "cell_type": "code",
   "execution_count": 3,
   "metadata": {},
   "outputs": [],
   "source": [
    "import matplotlib.pyplot as plt\n",
    "\n",
    "from chroma_server.db.clickhouse import Clickhouse\n",
    "from chroma_server.index.hnswlib import Hnswlib\n",
    "from chroma_server.algorithms.core_algorithms import *"
   ]
  },
  {
   "cell_type": "code",
   "execution_count": 4,
   "metadata": {},
   "outputs": [
    {
     "name": "stdout",
     "output_type": "stream",
     "text": [
      "time to fetch 1677402 embeddings:  7.624547958374023\n",
      "time to fetch 205777 embeddings:  1.596100091934204\n"
     ]
    }
   ],
   "source": [
    "db = Clickhouse()\n",
    "model_space = \"default_scope\"\n",
    "\n",
    "training_dataset_name = \"waymo-phx-train-hc\"\n",
    "inference_dataset_name = \"waymo-sf-val-hc\"\n",
    "\n",
    "training_data = db.fetch(\n",
    "    where_filter={\"model_space\": model_space, \"dataset\": training_dataset_name}\n",
    ")\n",
    "inference_data = db.fetch(\n",
    "    where_filter={\"model_space\": model_space, \"dataset\": inference_dataset_name}\n",
    ")\n",
    "\n",
    "ann_index = Hnswlib()\n",
    "\n",
    "ann_index.run(\n",
    "    model_space=model_space,\n",
    "    uuids=training_data[\"uuid\"].tolist() + inference_data[\"uuid\"].tolist(),\n",
    "    embeddings=training_data[\"embedding\"].tolist() + inference_data[\"embedding\"].tolist(),\n",
    "    num_threads=8\n",
    ")"
   ]
  },
  {
   "cell_type": "markdown",
   "metadata": {},
   "source": [
    "# Activation Uncertainty"
   ]
  },
  {
   "cell_type": "code",
   "execution_count": 11,
   "metadata": {},
   "outputs": [],
   "source": [
    "activation_uncertainty_percentiles = activation_uncertainty(training_data=training_data, inference_data=inference_data)"
   ]
  },
  {
   "cell_type": "code",
   "execution_count": 12,
   "metadata": {},
   "outputs": [
    {
     "data": {
      "image/png": "[encoded data removed]",
      "text/plain": [
       "<Figure size 640x480 with 1 Axes>"
      ]
     },
     "metadata": {},
     "output_type": "display_data"
    }
   ],
   "source": [
    "# Plot a histogram of the activation uncertainty percentiles\n",
    "import matplotlib.pyplot as plt\n",
    "plt.hist(activation_uncertainty_percentiles, bins=100, density=True, cumulative=True)\n",
    "plt.show()"
   ]
  },
  {
   "cell_type": "markdown",
   "metadata": {},
   "source": [
    "# Boundary Uncertainty"
   ]
  },
  {
   "cell_type": "code",
   "execution_count": 13,
   "metadata": {},
   "outputs": [],
   "source": [
    "boundary_uncertainties = boundary_uncertainty(training_data=training_data, inference_data=inference_data, ann_index=ann_index)"
   ]
  },
  {
   "cell_type": "code",
   "execution_count": 16,
   "metadata": {},
   "outputs": [
    {
     "data": {
      "image/png": "[encoded data removed]",
      "text/plain": [
       "<Figure size 640x480 with 1 Axes>"
      ]
     },
     "metadata": {},
     "output_type": "display_data"
    }
   ],
   "source": [
    "# Plot a histogram of the boundary uncertainty percentiles\n",
    "plt.hist(boundary_uncertainties, bins=10, density=True)\n",
    "plt.show()"
   ]
  },
  {
   "cell_type": "markdown",
   "metadata": {},
   "source": [
    "# Cluster Outliers"
   ]
  },
  {
   "cell_type": "code",
   "execution_count": 14,
   "metadata": {},
   "outputs": [
    {
     "ename": "KeyboardInterrupt",
     "evalue": "",
     "output_type": "error",
     "traceback": [
      "\u001b[0;31m---------------------------------------------------------------------------\u001b[0m",
      "\u001b[0;31mKeyboardInterrupt\u001b[0m                         Traceback (most recent call last)",
      "Cell \u001b[0;32mIn [14], line 1\u001b[0m\n\u001b[0;32m----> 1\u001b[0m representative_cluster_percentiles, difficult_cluster_percentiles \u001b[39m=\u001b[39m cluster_outliers(training_data\u001b[39m=\u001b[39;49mtraining_data, inference_data\u001b[39m=\u001b[39;49minference_data, training_subsample\u001b[39m=\u001b[39;49m\u001b[39m1\u001b[39;49m)\n",
      "File \u001b[0;32m~/Projects/chroma/chroma-server/chroma_server/algorithms/core_algorithms.py:175\u001b[0m, in \u001b[0;36mcluster_outliers\u001b[0;34m(training_data, inference_data, training_subsample, min_cluster_size, min_samples, metric)\u001b[0m\n\u001b[1;32m    171\u001b[0m \u001b[39m# Cluster the training data\u001b[39;00m\n\u001b[1;32m    172\u001b[0m training_clusterer \u001b[39m=\u001b[39m hdbscan\u001b[39m.\u001b[39mHDBSCAN(\n\u001b[1;32m    173\u001b[0m     min_cluster_size\u001b[39m=\u001b[39mmin_cluster_size, min_samples\u001b[39m=\u001b[39mmin_samples, metric\u001b[39m=\u001b[39mmetric\n\u001b[1;32m    174\u001b[0m )\n\u001b[0;32m--> 175\u001b[0m training_clusterer\u001b[39m.\u001b[39;49mfit(training_data[\u001b[39m\"\u001b[39;49m\u001b[39membedding\u001b[39;49m\u001b[39m\"\u001b[39;49m]\u001b[39m.\u001b[39;49mtolist()[::training_subsample])\n\u001b[1;32m    176\u001b[0m training_clusterer\u001b[39m.\u001b[39mgenerate_prediction_data()\n\u001b[1;32m    178\u001b[0m \u001b[39m# Cluster the inference data\u001b[39;00m\n",
      "File \u001b[0;32m~/miniforge3/envs/chroma/lib/python3.9/site-packages/hdbscan/hdbscan_.py:1190\u001b[0m, in \u001b[0;36mHDBSCAN.fit\u001b[0;34m(self, X, y)\u001b[0m\n\u001b[1;32m   1180\u001b[0m kwargs\u001b[39m.\u001b[39mpop(\u001b[39m\"\u001b[39m\u001b[39mprediction_data\u001b[39m\u001b[39m\"\u001b[39m, \u001b[39mNone\u001b[39;00m)\n\u001b[1;32m   1181\u001b[0m kwargs\u001b[39m.\u001b[39mupdate(\u001b[39mself\u001b[39m\u001b[39m.\u001b[39m_metric_kwargs)\n\u001b[1;32m   1183\u001b[0m (\n\u001b[1;32m   1184\u001b[0m     \u001b[39mself\u001b[39m\u001b[39m.\u001b[39mlabels_,\n\u001b[1;32m   1185\u001b[0m     \u001b[39mself\u001b[39m\u001b[39m.\u001b[39mprobabilities_,\n\u001b[1;32m   1186\u001b[0m     \u001b[39mself\u001b[39m\u001b[39m.\u001b[39mcluster_persistence_,\n\u001b[1;32m   1187\u001b[0m     \u001b[39mself\u001b[39m\u001b[39m.\u001b[39m_condensed_tree,\n\u001b[1;32m   1188\u001b[0m     \u001b[39mself\u001b[39m\u001b[39m.\u001b[39m_single_linkage_tree,\n\u001b[1;32m   1189\u001b[0m     \u001b[39mself\u001b[39m\u001b[39m.\u001b[39m_min_spanning_tree,\n\u001b[0;32m-> 1190\u001b[0m ) \u001b[39m=\u001b[39m hdbscan(clean_data, \u001b[39m*\u001b[39;49m\u001b[39m*\u001b[39;49mkwargs)\n\u001b[1;32m   1192\u001b[0m \u001b[39mif\u001b[39;00m \u001b[39mself\u001b[39m\u001b[39m.\u001b[39mmetric \u001b[39m!=\u001b[39m \u001b[39m\"\u001b[39m\u001b[39mprecomputed\u001b[39m\u001b[39m\"\u001b[39m \u001b[39mand\u001b[39;00m \u001b[39mnot\u001b[39;00m \u001b[39mself\u001b[39m\u001b[39m.\u001b[39m_all_finite:\n\u001b[1;32m   1193\u001b[0m     \u001b[39m# remap indices to align with original data in the case of non-finite entries.\u001b[39;00m\n\u001b[1;32m   1194\u001b[0m     \u001b[39mself\u001b[39m\u001b[39m.\u001b[39m_condensed_tree \u001b[39m=\u001b[39m remap_condensed_tree(\n\u001b[1;32m   1195\u001b[0m         \u001b[39mself\u001b[39m\u001b[39m.\u001b[39m_condensed_tree, internal_to_raw, outliers\n\u001b[1;32m   1196\u001b[0m     )\n",
      "File \u001b[0;32m~/miniforge3/envs/chroma/lib/python3.9/site-packages/hdbscan/hdbscan_.py:822\u001b[0m, in \u001b[0;36mhdbscan\u001b[0;34m(X, min_cluster_size, min_samples, alpha, cluster_selection_epsilon, max_cluster_size, metric, p, leaf_size, algorithm, memory, approx_min_span_tree, gen_min_span_tree, core_dist_n_jobs, cluster_selection_method, allow_single_cluster, match_reference_implementation, **kwargs)\u001b[0m\n\u001b[1;32m    809\u001b[0m         (single_linkage_tree, result_min_span_tree) \u001b[39m=\u001b[39m memory\u001b[39m.\u001b[39mcache(\n\u001b[1;32m    810\u001b[0m             _hdbscan_prims_kdtree\n\u001b[1;32m    811\u001b[0m         )(\n\u001b[0;32m   (...)\u001b[0m\n\u001b[1;32m    819\u001b[0m             \u001b[39m*\u001b[39m\u001b[39m*\u001b[39mkwargs\n\u001b[1;32m    820\u001b[0m         )\n\u001b[1;32m    821\u001b[0m     \u001b[39melse\u001b[39;00m:\n\u001b[0;32m--> 822\u001b[0m         (single_linkage_tree, result_min_span_tree) \u001b[39m=\u001b[39m memory\u001b[39m.\u001b[39;49mcache(\n\u001b[1;32m    823\u001b[0m             _hdbscan_boruvka_kdtree\n\u001b[1;32m    824\u001b[0m         )(\n\u001b[1;32m    825\u001b[0m             X,\n\u001b[1;32m    826\u001b[0m             min_samples,\n\u001b[1;32m    827\u001b[0m             alpha,\n\u001b[1;32m    828\u001b[0m             metric,\n\u001b[1;32m    829\u001b[0m             p,\n\u001b[1;32m    830\u001b[0m             leaf_size,\n\u001b[1;32m    831\u001b[0m             approx_min_span_tree,\n\u001b[1;32m    832\u001b[0m             gen_min_span_tree,\n\u001b[1;32m    833\u001b[0m             core_dist_n_jobs,\n\u001b[1;32m    834\u001b[0m             \u001b[39m*\u001b[39;49m\u001b[39m*\u001b[39;49mkwargs\n\u001b[1;32m    835\u001b[0m         )\n\u001b[1;32m    836\u001b[0m \u001b[39melse\u001b[39;00m:  \u001b[39m# Metric is a valid BallTree metric\u001b[39;00m\n\u001b[1;32m    837\u001b[0m     \u001b[39m# TO DO: Need heuristic to decide when to go to boruvka;\u001b[39;00m\n\u001b[1;32m    838\u001b[0m     \u001b[39m# still debugging for now\u001b[39;00m\n\u001b[1;32m    839\u001b[0m     \u001b[39mif\u001b[39;00m X\u001b[39m.\u001b[39mshape[\u001b[39m1\u001b[39m] \u001b[39m>\u001b[39m \u001b[39m60\u001b[39m:\n",
      "File \u001b[0;32m~/miniforge3/envs/chroma/lib/python3.9/site-packages/joblib/memory.py:349\u001b[0m, in \u001b[0;36mNotMemorizedFunc.__call__\u001b[0;34m(self, *args, **kwargs)\u001b[0m\n\u001b[1;32m    348\u001b[0m \u001b[39mdef\u001b[39;00m \u001b[39m__call__\u001b[39m(\u001b[39mself\u001b[39m, \u001b[39m*\u001b[39margs, \u001b[39m*\u001b[39m\u001b[39m*\u001b[39mkwargs):\n\u001b[0;32m--> 349\u001b[0m     \u001b[39mreturn\u001b[39;00m \u001b[39mself\u001b[39;49m\u001b[39m.\u001b[39;49mfunc(\u001b[39m*\u001b[39;49margs, \u001b[39m*\u001b[39;49m\u001b[39m*\u001b[39;49mkwargs)\n",
      "File \u001b[0;32m~/miniforge3/envs/chroma/lib/python3.9/site-packages/hdbscan/hdbscan_.py:325\u001b[0m, in \u001b[0;36m_hdbscan_boruvka_kdtree\u001b[0;34m(X, min_samples, alpha, metric, p, leaf_size, approx_min_span_tree, gen_min_span_tree, core_dist_n_jobs, **kwargs)\u001b[0m\n\u001b[1;32m    322\u001b[0m     X \u001b[39m=\u001b[39m X\u001b[39m.\u001b[39mastype(np\u001b[39m.\u001b[39mfloat64)\n\u001b[1;32m    324\u001b[0m tree \u001b[39m=\u001b[39m KDTree(X, metric\u001b[39m=\u001b[39mmetric, leaf_size\u001b[39m=\u001b[39mleaf_size, \u001b[39m*\u001b[39m\u001b[39m*\u001b[39mkwargs)\n\u001b[0;32m--> 325\u001b[0m alg \u001b[39m=\u001b[39m KDTreeBoruvkaAlgorithm(\n\u001b[1;32m    326\u001b[0m     tree,\n\u001b[1;32m    327\u001b[0m     min_samples,\n\u001b[1;32m    328\u001b[0m     metric\u001b[39m=\u001b[39;49mmetric,\n\u001b[1;32m    329\u001b[0m     leaf_size\u001b[39m=\u001b[39;49mleaf_size \u001b[39m/\u001b[39;49m\u001b[39m/\u001b[39;49m \u001b[39m3\u001b[39;49m,\n\u001b[1;32m    330\u001b[0m     approx_min_span_tree\u001b[39m=\u001b[39;49mapprox_min_span_tree,\n\u001b[1;32m    331\u001b[0m     n_jobs\u001b[39m=\u001b[39;49mcore_dist_n_jobs,\n\u001b[1;32m    332\u001b[0m     \u001b[39m*\u001b[39;49m\u001b[39m*\u001b[39;49mkwargs\n\u001b[1;32m    333\u001b[0m )\n\u001b[1;32m    334\u001b[0m min_spanning_tree \u001b[39m=\u001b[39m alg\u001b[39m.\u001b[39mspanning_tree()\n\u001b[1;32m    335\u001b[0m \u001b[39m# Sort edges of the min_spanning_tree by weight\u001b[39;00m\n",
      "File \u001b[0;32mhdbscan/_hdbscan_boruvka.pyx:392\u001b[0m, in \u001b[0;36mhdbscan._hdbscan_boruvka.KDTreeBoruvkaAlgorithm.__init__\u001b[0;34m()\u001b[0m\n",
      "File \u001b[0;32mhdbscan/_hdbscan_boruvka.pyx:426\u001b[0m, in \u001b[0;36mhdbscan._hdbscan_boruvka.KDTreeBoruvkaAlgorithm._compute_bounds\u001b[0;34m()\u001b[0m\n",
      "File \u001b[0;32m~/miniforge3/envs/chroma/lib/python3.9/site-packages/joblib/parallel.py:1098\u001b[0m, in \u001b[0;36mParallel.__call__\u001b[0;34m(self, iterable)\u001b[0m\n\u001b[1;32m   1095\u001b[0m     \u001b[39mself\u001b[39m\u001b[39m.\u001b[39m_iterating \u001b[39m=\u001b[39m \u001b[39mFalse\u001b[39;00m\n\u001b[1;32m   1097\u001b[0m \u001b[39mwith\u001b[39;00m \u001b[39mself\u001b[39m\u001b[39m.\u001b[39m_backend\u001b[39m.\u001b[39mretrieval_context():\n\u001b[0;32m-> 1098\u001b[0m     \u001b[39mself\u001b[39;49m\u001b[39m.\u001b[39;49mretrieve()\n\u001b[1;32m   1099\u001b[0m \u001b[39m# Make sure that we get a last message telling us we are done\u001b[39;00m\n\u001b[1;32m   1100\u001b[0m elapsed_time \u001b[39m=\u001b[39m time\u001b[39m.\u001b[39mtime() \u001b[39m-\u001b[39m \u001b[39mself\u001b[39m\u001b[39m.\u001b[39m_start_time\n",
      "File \u001b[0;32m~/miniforge3/envs/chroma/lib/python3.9/site-packages/joblib/parallel.py:975\u001b[0m, in \u001b[0;36mParallel.retrieve\u001b[0;34m(self)\u001b[0m\n\u001b[1;32m    973\u001b[0m \u001b[39mtry\u001b[39;00m:\n\u001b[1;32m    974\u001b[0m     \u001b[39mif\u001b[39;00m \u001b[39mgetattr\u001b[39m(\u001b[39mself\u001b[39m\u001b[39m.\u001b[39m_backend, \u001b[39m'\u001b[39m\u001b[39msupports_timeout\u001b[39m\u001b[39m'\u001b[39m, \u001b[39mFalse\u001b[39;00m):\n\u001b[0;32m--> 975\u001b[0m         \u001b[39mself\u001b[39m\u001b[39m.\u001b[39m_output\u001b[39m.\u001b[39mextend(job\u001b[39m.\u001b[39;49mget(timeout\u001b[39m=\u001b[39;49m\u001b[39mself\u001b[39;49m\u001b[39m.\u001b[39;49mtimeout))\n\u001b[1;32m    976\u001b[0m     \u001b[39melse\u001b[39;00m:\n\u001b[1;32m    977\u001b[0m         \u001b[39mself\u001b[39m\u001b[39m.\u001b[39m_output\u001b[39m.\u001b[39mextend(job\u001b[39m.\u001b[39mget())\n",
      "File \u001b[0;32m~/miniforge3/envs/chroma/lib/python3.9/site-packages/joblib/_parallel_backends.py:567\u001b[0m, in \u001b[0;36mLokyBackend.wrap_future_result\u001b[0;34m(future, timeout)\u001b[0m\n\u001b[1;32m    564\u001b[0m \u001b[39m\"\"\"Wrapper for Future.result to implement the same behaviour as\u001b[39;00m\n\u001b[1;32m    565\u001b[0m \u001b[39mAsyncResults.get from multiprocessing.\"\"\"\u001b[39;00m\n\u001b[1;32m    566\u001b[0m \u001b[39mtry\u001b[39;00m:\n\u001b[0;32m--> 567\u001b[0m     \u001b[39mreturn\u001b[39;00m future\u001b[39m.\u001b[39;49mresult(timeout\u001b[39m=\u001b[39;49mtimeout)\n\u001b[1;32m    568\u001b[0m \u001b[39mexcept\u001b[39;00m CfTimeoutError \u001b[39mas\u001b[39;00m e:\n\u001b[1;32m    569\u001b[0m     \u001b[39mraise\u001b[39;00m \u001b[39mTimeoutError\u001b[39;00m \u001b[39mfrom\u001b[39;00m \u001b[39me\u001b[39;00m\n",
      "File \u001b[0;32m~/miniforge3/envs/chroma/lib/python3.9/concurrent/futures/_base.py:441\u001b[0m, in \u001b[0;36mFuture.result\u001b[0;34m(self, timeout)\u001b[0m\n\u001b[1;32m    438\u001b[0m \u001b[39melif\u001b[39;00m \u001b[39mself\u001b[39m\u001b[39m.\u001b[39m_state \u001b[39m==\u001b[39m FINISHED:\n\u001b[1;32m    439\u001b[0m     \u001b[39mreturn\u001b[39;00m \u001b[39mself\u001b[39m\u001b[39m.\u001b[39m__get_result()\n\u001b[0;32m--> 441\u001b[0m \u001b[39mself\u001b[39;49m\u001b[39m.\u001b[39;49m_condition\u001b[39m.\u001b[39;49mwait(timeout)\n\u001b[1;32m    443\u001b[0m \u001b[39mif\u001b[39;00m \u001b[39mself\u001b[39m\u001b[39m.\u001b[39m_state \u001b[39min\u001b[39;00m [CANCELLED, CANCELLED_AND_NOTIFIED]:\n\u001b[1;32m    444\u001b[0m     \u001b[39mraise\u001b[39;00m CancelledError()\n",
      "File \u001b[0;32m~/miniforge3/envs/chroma/lib/python3.9/threading.py:312\u001b[0m, in \u001b[0;36mCondition.wait\u001b[0;34m(self, timeout)\u001b[0m\n\u001b[1;32m    310\u001b[0m \u001b[39mtry\u001b[39;00m:    \u001b[39m# restore state no matter what (e.g., KeyboardInterrupt)\u001b[39;00m\n\u001b[1;32m    311\u001b[0m     \u001b[39mif\u001b[39;00m timeout \u001b[39mis\u001b[39;00m \u001b[39mNone\u001b[39;00m:\n\u001b[0;32m--> 312\u001b[0m         waiter\u001b[39m.\u001b[39;49macquire()\n\u001b[1;32m    313\u001b[0m         gotit \u001b[39m=\u001b[39m \u001b[39mTrue\u001b[39;00m\n\u001b[1;32m    314\u001b[0m     \u001b[39melse\u001b[39;00m:\n",
      "\u001b[0;31mKeyboardInterrupt\u001b[0m: "
     ]
    },
    {
     "ename": "",
     "evalue": "",
     "output_type": "error",
     "traceback": [
      "\u001b[1;31mThe Kernel crashed while executing code in the the current cell or a previous cell. Please review the code in the cell(s) to identify a possible cause of the failure. Click <a href='https://aka.ms/vscodeJupyterKernelCrash'>here</a> for more info. View Jupyter <a href='command:jupyter.viewOutput'>log</a> for further details."
     ]
    }
   ],
   "source": [
    "representative_cluster_percentiles, difficult_cluster_percentiles = cluster_outliers(training_data=training_data, inference_data=inference_data)"
   ]
  },
  {
   "cell_type": "code",
   "execution_count": 13,
   "metadata": {},
   "outputs": [
    {
     "data": {
      "image/png": "[encoded data removed]",
      "text/plain": [
       "<Figure size 640x480 with 1 Axes>"
      ]
     },
     "metadata": {},
     "output_type": "display_data"
    }
   ],
   "source": [
    "# Plot the representative and difficult cluster outlier percentiles, on the same plot\n",
    "plt.hist(representative_cluster_percentiles, bins=10, density=True, cumulative=True, alpha=0.5)\n",
    "plt.hist(difficult_cluster_percentiles, bins=10, density=True, cumulative=True, alpha=0.5)\n",
    "plt.show()"
   ]
  },
  {
   "cell_type": "markdown",
   "metadata": {},
   "source": [
    "# Class Outliers [Not Yet Functioning]\n",
    "\n",
    "Filtering the ANN index causes the connectivity graph to become disconnected, so nearest neighbors aren't found. \n",
    "The proximal solution is to create class-wise indices per dataset. These could be created dynamically.\n",
    "The long term solution is to modify hnsw so that it takes this kind of partitioning into account, when it's known in advance.\n",
    "\n",
    "Some more ideas: https://blog.vasnetsov.com/posts/categorical-hnsw/"
   ]
  },
  {
   "cell_type": "code",
   "execution_count": 18,
   "metadata": {},
   "outputs": [
    {
     "ename": "RuntimeError",
     "evalue": "Cannot return the results in a contigious 2D array. Probably ef or M is too small",
     "output_type": "error",
     "traceback": [
      "\u001b[0;31m---------------------------------------------------------------------------\u001b[0m",
      "\u001b[0;31mRuntimeError\u001b[0m                              Traceback (most recent call last)",
      "Cell \u001b[0;32mIn [18], line 1\u001b[0m\n\u001b[0;32m----> 1\u001b[0m representative_class_outliers, difficult_class_outliers \u001b[39m=\u001b[39m class_outliers(training_data\u001b[39m=\u001b[39;49mtraining_data, inference_data\u001b[39m=\u001b[39;49minference_data, ann_index\u001b[39m=\u001b[39;49mann_index, n_neighbors\u001b[39m=\u001b[39;49m\u001b[39m10\u001b[39;49m)\n",
      "File \u001b[0;32m~/Projects/chroma/chroma-server/chroma_server/algorithms/core_algorithms.py:121\u001b[0m, in \u001b[0;36mclass_outliers\u001b[0;34m(training_data, inference_data, ann_index, n_neighbors, model_space)\u001b[0m\n\u001b[1;32m    113\u001b[0m inference_data_class \u001b[39m=\u001b[39m inference_data[inference_data[\u001b[39m\"\u001b[39m\u001b[39minference_class\u001b[39m\u001b[39m\"\u001b[39m] \u001b[39m==\u001b[39m class_name]\n\u001b[1;32m    115\u001b[0m t_neighbor_ids, t_neighbor_dists \u001b[39m=\u001b[39m ann_index\u001b[39m.\u001b[39mget_nearest_neighbors(\n\u001b[1;32m    116\u001b[0m     model_space\u001b[39m=\u001b[39mmodel_space,\n\u001b[1;32m    117\u001b[0m     query\u001b[39m=\u001b[39minference_data_class[\u001b[39m\"\u001b[39m\u001b[39membedding\u001b[39m\u001b[39m\"\u001b[39m]\u001b[39m.\u001b[39mtolist(),\n\u001b[1;32m    118\u001b[0m     k\u001b[39m=\u001b[39mn_neighbors,\n\u001b[1;32m    119\u001b[0m     uuids\u001b[39m=\u001b[39mtraining_data_class[\u001b[39m\"\u001b[39m\u001b[39muuid\u001b[39m\u001b[39m\"\u001b[39m]\u001b[39m.\u001b[39mtolist(),\n\u001b[1;32m    120\u001b[0m )\n\u001b[0;32m--> 121\u001b[0m v_neighbor_ids, v_neighbor_dists \u001b[39m=\u001b[39m ann_index\u001b[39m.\u001b[39;49mget_nearest_neighbors(\n\u001b[1;32m    122\u001b[0m     model_space\u001b[39m=\u001b[39;49mmodel_space,\n\u001b[1;32m    123\u001b[0m     query\u001b[39m=\u001b[39;49minference_data_class[\u001b[39m\"\u001b[39;49m\u001b[39membedding\u001b[39;49m\u001b[39m\"\u001b[39;49m]\u001b[39m.\u001b[39;49mtolist(),\n\u001b[1;32m    124\u001b[0m     k\u001b[39m=\u001b[39;49mn_neighbors,\n\u001b[1;32m    125\u001b[0m     uuids\u001b[39m=\u001b[39;49minference_data_class[\u001b[39m\"\u001b[39;49m\u001b[39muuid\u001b[39;49m\u001b[39m\"\u001b[39;49m]\u001b[39m.\u001b[39;49mtolist(),\n\u001b[1;32m    126\u001b[0m )\n\u001b[1;32m    128\u001b[0m dist_diff \u001b[39m=\u001b[39m np\u001b[39m.\u001b[39mmedian(t_neighbor_dists, axis\u001b[39m=\u001b[39m\u001b[39m1\u001b[39m) \u001b[39m-\u001b[39m np\u001b[39m.\u001b[39mmedian(v_neighbor_dists, axis\u001b[39m=\u001b[39m\u001b[39m1\u001b[39m)\n\u001b[1;32m    129\u001b[0m dist_diff_percentiles \u001b[39m=\u001b[39m np\u001b[39m.\u001b[39margsort(dist_diff) \u001b[39m/\u001b[39m \u001b[39mlen\u001b[39m(dist_diff)\n",
      "File \u001b[0;32m~/Projects/chroma/chroma-server/chroma_server/index/hnswlib.py:113\u001b[0m, in \u001b[0;36mHnswlib.get_nearest_neighbors\u001b[0;34m(self, model_space, query, k, uuids)\u001b[0m\n\u001b[1;32m    110\u001b[0m logger\u001b[39m.\u001b[39mdebug(\u001b[39mf\u001b[39m\u001b[39m'\u001b[39m\u001b[39mtime to pre process our knn query: \u001b[39m\u001b[39m{\u001b[39;00mtime\u001b[39m.\u001b[39mtime() \u001b[39m-\u001b[39m s2\u001b[39m}\u001b[39;00m\u001b[39m'\u001b[39m)\n\u001b[1;32m    112\u001b[0m s3\u001b[39m=\u001b[39m time\u001b[39m.\u001b[39mtime()\n\u001b[0;32m--> 113\u001b[0m database_ids, distances \u001b[39m=\u001b[39m \u001b[39mself\u001b[39;49m\u001b[39m.\u001b[39;49m_index\u001b[39m.\u001b[39;49mknn_query(query, k\u001b[39m=\u001b[39;49mk, \u001b[39mfilter\u001b[39;49m\u001b[39m=\u001b[39;49mfilter_function)\n\u001b[1;32m    114\u001b[0m logger\u001b[39m.\u001b[39mdebug(\u001b[39mf\u001b[39m\u001b[39m'\u001b[39m\u001b[39mtime to run knn query: \u001b[39m\u001b[39m{\u001b[39;00mtime\u001b[39m.\u001b[39mtime() \u001b[39m-\u001b[39m s3\u001b[39m}\u001b[39;00m\u001b[39m'\u001b[39m)\n\u001b[1;32m    116\u001b[0m uuids \u001b[39m=\u001b[39m [[\u001b[39mself\u001b[39m\u001b[39m.\u001b[39m_id_to_uuid[\u001b[39mid\u001b[39m] \u001b[39mfor\u001b[39;00m \u001b[39mid\u001b[39m \u001b[39min\u001b[39;00m ids] \u001b[39mfor\u001b[39;00m ids \u001b[39min\u001b[39;00m database_ids]\n",
      "\u001b[0;31mRuntimeError\u001b[0m: Cannot return the results in a contigious 2D array. Probably ef or M is too small"
     ]
    }
   ],
   "source": [
    "representative_class_outliers, difficult_class_outliers = class_outliers(training_data=training_data, inference_data=inference_data, ann_index=ann_index, n_neighbors=10)"
   ]
  },
  {
   "cell_type": "code",
   "execution_count": null,
   "metadata": {},
   "outputs": [],
   "source": [
    "# Plot histograms of the representative and difficult class outlier scores, on the same plot\n",
    "plt.hist(representative_class_outliers, bins=100, density=True, cumulative=True, alpha=0.5)\n",
    "plt.hist(difficult_class_outliers, bins=100, density=True, cumulative=True, alpha=0.5)\n",
    "plt.show()"
   ]
  }
 ],
 "metadata": {
  "kernelspec": {
   "display_name": "Python 3.9.13 ('chroma')",
   "language": "python",
   "name": "python3"
  },
  "language_info": {
   "codemirror_mode": {
    "name": "ipython",
    "version": 3
   },
   "file_extension": ".py",
   "mimetype": "text/x-python",
   "name": "python",
   "nbconvert_exporter": "python",
   "pygments_lexer": "ipython3",
   "version": "3.9.13"
  },
  "orig_nbformat": 4,
  "vscode": {
   "interpreter": {
    "hash": "88f09714c9334832bac29166716f9f6a879ee2a4ed4822c1d4120cb2393b58dd"
   }
  }
 },
 "nbformat": 4,
 "nbformat_minor": 2
}
