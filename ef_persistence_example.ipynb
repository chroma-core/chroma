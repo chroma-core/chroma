{
 "cells": [
  {
   "cell_type": "code",
   "execution_count": 1,
   "metadata": {},
   "outputs": [],
   "source": [
    "from chromadb.utils.embedding_functions import ONNXMiniLM_L6_V2, EmbeddingFunction\n",
    "from chromadb.api.types import Documents\n",
    "\n",
    "class RegisterableStorableEF(EmbeddingFunction[Documents]):\n",
    "    \n",
    "    def __init__(self, *args, **kwargs):\n",
    "        super().__init__()\n",
    "        self._ef = ONNXMiniLM_L6_V2()\n",
    "    \n",
    "    def __call__(self, input: Documents):\n",
    "        return self._ef(input=input)"
   ]
  },
  {
   "cell_type": "code",
   "execution_count": 2,
   "metadata": {},
   "outputs": [
    {
     "data": {
      "text/plain": [
       "{'EmbeddingFunction': chromadb.api.types.EmbeddingFunction,\n",
       " 'SentenceTransformerEmbeddingFunction': chromadb.utils.embedding_functions.SentenceTransformerEmbeddingFunction,\n",
       " 'Text2VecEmbeddingFunction': chromadb.utils.embedding_functions.Text2VecEmbeddingFunction,\n",
       " 'OpenAIEmbeddingFunction': chromadb.utils.embedding_functions.OpenAIEmbeddingFunction,\n",
       " 'CohereEmbeddingFunction': chromadb.utils.embedding_functions.CohereEmbeddingFunction,\n",
       " 'HuggingFaceEmbeddingFunction': chromadb.utils.embedding_functions.HuggingFaceEmbeddingFunction,\n",
       " 'JinaEmbeddingFunction': chromadb.utils.embedding_functions.JinaEmbeddingFunction,\n",
       " 'InstructorEmbeddingFunction': chromadb.utils.embedding_functions.InstructorEmbeddingFunction,\n",
       " 'ONNXMiniLM_L6_V2': chromadb.utils.embedding_functions.ONNXMiniLM_L6_V2,\n",
       " 'GooglePalmEmbeddingFunction': chromadb.utils.embedding_functions.GooglePalmEmbeddingFunction,\n",
       " 'GoogleGenerativeAiEmbeddingFunction': chromadb.utils.embedding_functions.GoogleGenerativeAiEmbeddingFunction,\n",
       " 'GoogleVertexEmbeddingFunction': chromadb.utils.embedding_functions.GoogleVertexEmbeddingFunction,\n",
       " 'OpenCLIPEmbeddingFunction': chromadb.utils.embedding_functions.OpenCLIPEmbeddingFunction,\n",
       " 'RoboflowEmbeddingFunction': chromadb.utils.embedding_functions.RoboflowEmbeddingFunction,\n",
       " 'AmazonBedrockEmbeddingFunction': chromadb.utils.embedding_functions.AmazonBedrockEmbeddingFunction,\n",
       " 'HuggingFaceEmbeddingServer': chromadb.utils.embedding_functions.HuggingFaceEmbeddingServer,\n",
       " 'OllamaEmbeddingFunction': chromadb.utils.embedding_functions.OllamaEmbeddingFunction,\n",
       " 'RegisterableStorableEF': __main__.RegisterableStorableEF}"
      ]
     },
     "execution_count": 2,
     "metadata": {},
     "output_type": "execute_result"
    }
   ],
   "source": [
    "import chromadb\n",
    "import chromadb.utils\n",
    "import chromadb.utils.the_registry\n",
    "\n",
    "chromadb.utils.the_registry._TheChromaObjectRegistry._instance.registry"
   ]
  },
  {
   "cell_type": "code",
   "execution_count": 3,
   "metadata": {},
   "outputs": [],
   "source": [
    "ef = RegisterableStorableEF(1,4,5,arg=\"some nonsesne\")"
   ]
  },
  {
   "cell_type": "code",
   "execution_count": 4,
   "metadata": {},
   "outputs": [],
   "source": [
    "import chromadb\n",
    "\n",
    "client = chromadb.Client()\n",
    "\n",
    "collection = client.create_collection(\"test_collection\", embedding_function=ef)"
   ]
  },
  {
   "cell_type": "code",
   "execution_count": 5,
   "metadata": {},
   "outputs": [],
   "source": [
    "gottem = client.get_collection(name=\"test_collection\", embedding_function=None)"
   ]
  },
  {
   "cell_type": "code",
   "execution_count": 7,
   "metadata": {},
   "outputs": [
    {
     "data": {
      "text/plain": [
       "'{\"args\": [1, 4, 5], \"kwargs\": {\"arg\": \"some nonsesne\"}}'"
      ]
     },
     "execution_count": 7,
     "metadata": {},
     "output_type": "execute_result"
    }
   ],
   "source": [
    "gottem._embedding_function._init_args"
   ]
  }
 ],
 "metadata": {
  "kernelspec": {
   "display_name": "chroma",
   "language": "python",
   "name": "python3"
  },
  "language_info": {
   "codemirror_mode": {
    "name": "ipython",
    "version": 3
   },
   "file_extension": ".py",
   "mimetype": "text/x-python",
   "name": "python",
   "nbconvert_exporter": "python",
   "pygments_lexer": "ipython3",
   "version": "3.12.2"
  }
 },
 "nbformat": 4,
 "nbformat_minor": 2
}
