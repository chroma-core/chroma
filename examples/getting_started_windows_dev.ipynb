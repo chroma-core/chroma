{
 "cells": [
  {
   "cell_type": "markdown",
   "id": "8ec3ad5a",
   "metadata": {},
   "source": [
    "# Getting started: Python-only dev on Windows (PowerShell)\n",
    "\n",
    "This notebook shows a minimal example you can run after setting up the Python-only developer environment described in `DEVELOP.md` -> 'Python-only dev setup (Windows)'.\n",
    "\n",
    "If you installed the repository in editable mode (`pip install -e .`) in the same environment used to run this notebook, you can import `chromadb` directly below."
   ]
  },
  {
   "cell_type": "code",
   "execution_count": 2,
   "id": "9eec5697",
   "metadata": {},
   "outputs": [
    {
     "name": "stdout",
     "output_type": "stream",
     "text": [
      "Query results: {'ids': [['w1']], 'embeddings': None, 'documents': [['Hello from Windows']], 'uris': None, 'included': ['metadatas', 'documents', 'distances'], 'data': None, 'metadatas': [[{'source': 'notebook'}]], 'distances': [[0.8225913047790527]]}\n"
     ]
    }
   ],
   "source": [
    "# Minimal runtime example: create a client, a collection, add docs, and query\n",
    "try:\n",
    "    import chromadb\n",
    "    client = chromadb.Client()\n",
    "    collection = client.create_collection('example_windows')\n",
    "    collection.add(documents=['Hello from Windows','Second doc'], metadatas=[{'source':'notebook'},{'source':'notebook'}], ids=['w1','w2'])\n",
    "    results = collection.query(query_texts=['Hello'], n_results=1)\n",
    "    print('Query results:', results)\n",
    "except Exception as e:\n",
    "    print('Make sure you have followed the Windows Python-only setup in DEVELOP.md and installed the package in the active virtualenv. Error:', e)"
   ]
  }
 ],
 "metadata": {
  "kernelspec": {
   "display_name": ".venv (3.13.7)",
   "language": "python",
   "name": "python3"
  },
  "language_info": {
   "codemirror_mode": {
    "name": "ipython",
    "version": 3
   },
   "file_extension": ".py",
   "mimetype": "text/x-python",
   "name": "python",
   "nbconvert_exporter": "python",
   "pygments_lexer": "ipython3",
   "version": "3.13.7"
  }
 },
 "nbformat": 4,
 "nbformat_minor": 5
}
