{
 "cells": [
  {
   "cell_type": "code",
   "execution_count": 1,
   "id": "initial_id",
   "metadata": {
    "collapsed": true,
    "ExecuteTime": {
     "end_time": "2023-12-06T13:56:26.590470Z",
     "start_time": "2023-12-06T13:56:26.054659Z"
    }
   },
   "outputs": [
    {
     "name": "stdout",
     "output_type": "stream",
     "text": [
      "{'client': {'chroma_version': '0.4.18', 'is_persistent': True, 'api': 'chromadb.api.segment.SegmentAPI', 'datetime': '2023-12-06T15:56:26.564277', 'persist_directory': 'testchroma', 'python_version': '3.11.2', 'os': 'Darwin', 'os_version': '22.6.0', 'os_release': 'ProductName: macOS ProductVersion: 13.6.2 BuildVersion: 22G320', 'memory_info': {'free_memory': 9616818176, 'total_memory': 34359738368, 'process_memory': {'rss': 121454592, 'vms': 420668538880}}, 'cpu_info': {'architecture': 'arm64', 'number_of_cpus': 12}, 'disk_info': {'total_space': 994662584320, 'used_space': 870198599680, 'free_space': 109242904576}, 'mode': 'persistent'}}\n"
     ]
    }
   ],
   "source": [
    "import chromadb\n",
    "\n",
    "client = chromadb.PersistentClient(path=\"testchroma\")\n",
    "\n",
    "print(client.env())"
   ]
  },
  {
   "cell_type": "code",
   "execution_count": 2,
   "outputs": [
    {
     "name": "stdout",
     "output_type": "stream",
     "text": [
      "{'client': {'chroma_version': '0.4.18', 'is_persistent': False, 'api': 'chromadb.api.segment.SegmentAPI', 'datetime': '2023-12-06T15:56:27.472255', 'persist_directory': './chroma', 'python_version': '3.11.2', 'os': 'Darwin', 'os_version': '22.6.0', 'os_release': 'ProductName: macOS ProductVersion: 13.6.2 BuildVersion: 22G320', 'memory_info': {'free_memory': 9614688256, 'total_memory': 34359738368, 'process_memory': {'rss': 130760704, 'vms': 420671635456}}, 'cpu_info': {'architecture': 'arm64', 'number_of_cpus': 12}, 'mode': 'ephemeral'}}\n"
     ]
    }
   ],
   "source": [
    "import chromadb\n",
    "\n",
    "client = chromadb.EphemeralClient()\n",
    "\n",
    "print(client.env())"
   ],
   "metadata": {
    "collapsed": false,
    "ExecuteTime": {
     "end_time": "2023-12-06T13:56:27.498081Z",
     "start_time": "2023-12-06T13:56:27.467481Z"
    }
   },
   "id": "cc5e2580061ebbfe"
  },
  {
   "cell_type": "code",
   "execution_count": 3,
   "outputs": [
    {
     "name": "stdout",
     "output_type": "stream",
     "text": [
      "{'client': {'chroma_version': '0.4.18', 'is_persistent': False, 'api': 'chromadb.api.fastapi.FastAPI', 'datetime': '2023-12-06T15:56:30.815835', 'persist_directory': './chroma', 'python_version': '3.11.2', 'os': 'Darwin', 'os_version': '22.6.0', 'os_release': 'ProductName: macOS ProductVersion: 13.6.2 BuildVersion: 22G320', 'memory_info': {'free_memory': 9734914048, 'total_memory': 34359738368, 'process_memory': {'rss': 130891776, 'vms': 420671635456}}, 'cpu_info': {'architecture': 'arm64', 'number_of_cpus': 12}, 'mode': 'http'}, 'server': {'chroma_version': '0.4.18', 'is_persistent': True, 'api': 'chromadb.api.segment.SegmentAPI', 'datetime': '2023-12-06T15:56:30.798970', 'persist_directory': './chroma', 'python_version': '3.11.2', 'os': 'Darwin', 'os_version': '22.6.0', 'os_release': 'ProductName: macOS ProductVersion: 13.6.2 BuildVersion: 22G320', 'memory_info': {'free_memory': 9735716864, 'total_memory': 34359738368, 'process_memory': {'rss': 97288192, 'vms': 420529405952}}, 'cpu_info': {'architecture': 'arm64', 'number_of_cpus': 12}, 'disk_info': {'total_space': 994662584320, 'used_space': 870196727808, 'free_space': 109244776448}}}\n"
     ]
    }
   ],
   "source": [
    "import chromadb\n",
    "client2 = chromadb.HttpClient()\n",
    "\n",
    "print(client2.env())"
   ],
   "metadata": {
    "collapsed": false,
    "ExecuteTime": {
     "end_time": "2023-12-06T13:56:30.834060Z",
     "start_time": "2023-12-06T13:56:30.740966Z"
    }
   },
   "id": "c639117528aada53"
  },
  {
   "cell_type": "code",
   "execution_count": null,
   "outputs": [],
   "source": [],
   "metadata": {
    "collapsed": false
   },
   "id": "7790a7e03e5aba89"
  }
 ],
 "metadata": {
  "kernelspec": {
   "display_name": "Python 3",
   "language": "python",
   "name": "python3"
  },
  "language_info": {
   "codemirror_mode": {
    "name": "ipython",
    "version": 2
   },
   "file_extension": ".py",
   "mimetype": "text/x-python",
   "name": "python",
   "nbconvert_exporter": "python",
   "pygments_lexer": "ipython2",
   "version": "2.7.6"
  }
 },
 "nbformat": 4,
 "nbformat_minor": 5
}
