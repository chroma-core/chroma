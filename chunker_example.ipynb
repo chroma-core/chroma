{
 "cells": [
  {
   "cell_type": "code",
   "execution_count": 1,
   "metadata": {},
   "outputs": [
    {
     "data": {
      "text/plain": [
       "[['This is a test of the chunker. It should chunk this text into a list of',\n",
       "  'sentences. This is the first sentence. This is the second sentence.',\n",
       "  'Folks, this example has so many beautiful sentences. I love it.',\n",
       "  'You guys. The test. Ten thousand blistering blue barnacles.',\n",
       "  \"It's great.\\n\\n\\nIt's the best example ever. I'm so happy to be working on this.\"]]"
      ]
     },
     "execution_count": 1,
     "metadata": {},
     "output_type": "execute_result"
    }
   ],
   "source": [
    "from chromadb.utils.chunkers.default_chunker import DefaultTextChunker\n",
    "\n",
    "chunker = DefaultTextChunker()\n",
    "\n",
    "test_text = \"\"\"\n",
    "This is a test of the chunker. It should chunk this text into a list of\n",
    "sentences. This is the first sentence. This is the second sentence.\n",
    "\n",
    "\n",
    "Folks, this example has so many beautiful sentences. I love it.\n",
    "You guys. The test. Ten thousand blistering blue barnacles.\n",
    "\n",
    "It's great.\n",
    "\n",
    "\n",
    "It's the best example ever. I'm so happy to be working on this.\n",
    "\"\"\"\n",
    "\n",
    "chunker([test_text], max_chunk_size=100)"
   ]
  },
  {
   "cell_type": "code",
   "execution_count": 2,
   "metadata": {},
   "outputs": [
    {
     "data": {
      "text/plain": [
       "{'ids': ['test_id_0', 'test_id_1', 'test_id_2', 'test_id_3', 'test_id_4'],\n",
       " 'embeddings': None,\n",
       " 'metadatas': [None, None, None, None, None],\n",
       " 'documents': ['This is a test of the chunker. It should chunk this text into a list of',\n",
       "  'sentences. This is the first sentence. This is the second sentence.',\n",
       "  'Folks, this example has so many beautiful sentences. I love it.',\n",
       "  'You guys. The test. Ten thousand blistering blue barnacles.',\n",
       "  \"It's great.\\n\\n\\nIt's the best example ever. I'm so happy to be working on this.\"],\n",
       " 'uris': None,\n",
       " 'data': None,\n",
       " 'included': ['metadatas', 'documents']}"
      ]
     },
     "execution_count": 2,
     "metadata": {},
     "output_type": "execute_result"
    }
   ],
   "source": [
    "import chromadb\n",
    "\n",
    "client = chromadb.Client()\n",
    "collection = client.get_or_create_collection('test_collection')\n",
    "\n",
    "collection.add(ids=['test_id'], documents=[test_text], chunker=DefaultTextChunker(max_chunk_size=100))\n",
    "\n",
    "collection.get()"
   ]
  }
 ],
 "metadata": {
  "kernelspec": {
   "display_name": "chroma",
   "language": "python",
   "name": "python3"
  },
  "language_info": {
   "codemirror_mode": {
    "name": "ipython",
    "version": 3
   },
   "file_extension": ".py",
   "mimetype": "text/x-python",
   "name": "python",
   "nbconvert_exporter": "python",
   "pygments_lexer": "ipython3",
   "version": "3.12.2"
  }
 },
 "nbformat": 4,
 "nbformat_minor": 2
}
