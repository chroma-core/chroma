{
 "cells": [
  {
   "cell_type": "code",
   "execution_count": 1,
   "metadata": {},
   "outputs": [],
   "source": [
    "%load_ext autoreload\n",
    "%autoreload 2"
   ]
  },
  {
   "cell_type": "code",
   "execution_count": 1,
   "metadata": {},
   "outputs": [],
   "source": [
    "from chroma.db.clickhouse import Clickhouse\n",
    "from chroma.db.index.hnswlib import Hnswlib\n",
    "from chroma.config import Settings\n",
    "\n",
    "from chroma.utils.sampling import *"
   ]
  },
  {
   "cell_type": "code",
   "execution_count": 2,
   "metadata": {},
   "outputs": [
    {
     "name": "stdout",
     "output_type": "stream",
     "text": [
      "time to fetch 1677402 embeddings:  7.980594158172607\n",
      "time to fetch 205777 embeddings:  1.0896880626678467\n"
     ]
    }
   ],
   "source": [
    "chroma_settings = Settings()\n",
    "db = Clickhouse(chroma_settings)\n",
    "model_space = \"default_scope\"\n",
    "\n",
    "training_dataset_name = \"waymo-phx-train-hc\"\n",
    "unlabeled_dataset_name = \"waymo-sf-val-hc\"\n",
    "\n",
    "training_data = db.fetch(\n",
    "    where={\"model_space\": model_space, \"dataset\": training_dataset_name}\n",
    ")\n",
    "unlabeled_data = db.fetch(\n",
    "    where={\"model_space\": model_space, \"dataset\": unlabeled_dataset_name}\n",
    ")\n",
    "\n",
    "ann_index = Hnswlib(chroma_settings)\n",
    "\n",
    "ann_index.run(\n",
    "    model_space=model_space,\n",
    "    uuids=training_data[\"uuid\"].tolist(),\n",
    "    embeddings=training_data[\"embedding\"].tolist(),\n",
    "    num_threads=8\n",
    ")"
   ]
  },
  {
   "cell_type": "markdown",
   "metadata": {},
   "source": [
    "# Score and Store"
   ]
  },
  {
   "cell_type": "code",
   "execution_count": 3,
   "metadata": {},
   "outputs": [
    {
     "name": "stdout",
     "output_type": "stream",
     "text": [
      "time to fetch 1677402 embeddings:  7.561792850494385\n",
      "time to fetch 205777 embeddings:  0.8599541187286377\n"
     ]
    }
   ],
   "source": [
    "score_and_store(\n",
    "    training_dataset_name=training_dataset_name,\n",
    "    unlabeled_dataset_name=unlabeled_dataset_name,\n",
    "    db_connection=db,\n",
    "    ann_index=ann_index,\n",
    "    model_space=model_space,\n",
    ")"
   ]
  },
  {
   "cell_type": "markdown",
   "metadata": {},
   "source": [
    "# Get Samples"
   ]
  },
  {
   "cell_type": "code",
   "execution_count": 4,
   "metadata": {},
   "outputs": [],
   "source": [
    "sample_proportions = {\n",
    "    \"activation_uncertainty\": 0.3,\n",
    "    \"boundary_uncertainty\": 0.3,\n",
    "    \"representative_cluster_outlier\": 0.2,\n",
    "    \"random\": 0.2,\n",
    "}\n",
    "\n",
    "samples = get_sample(dataset_name=unlabeled_dataset_name, n_samples=1000, sample_proportions=sample_proportions, db_connection=db, model_space=model_space)"
   ]
  }
 ],
 "metadata": {
  "kernelspec": {
   "display_name": "Python 3.9.13 ('chroma')",
   "language": "python",
   "name": "python3"
  },
  "language_info": {
   "codemirror_mode": {
    "name": "ipython",
    "version": 3
   },
   "file_extension": ".py",
   "mimetype": "text/x-python",
   "name": "python",
   "nbconvert_exporter": "python",
   "pygments_lexer": "ipython3",
   "version": "3.9.13"
  },
  "orig_nbformat": 4,
  "vscode": {
   "interpreter": {
    "hash": "88f09714c9334832bac29166716f9f6a879ee2a4ed4822c1d4120cb2393b58dd"
   }
  }
 },
 "nbformat": 4,
 "nbformat_minor": 2
}
