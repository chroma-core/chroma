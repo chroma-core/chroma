{
 "cells": [
  {
   "cell_type": "code",
   "execution_count": 2,
   "metadata": {},
   "outputs": [],
   "source": [
    "%load_ext autoreload\n",
    "%autoreload 2"
   ]
  },
  {
   "cell_type": "code",
   "execution_count": 4,
   "metadata": {},
   "outputs": [],
   "source": [
    "import matplotlib.pyplot as plt\n",
    "\n",
    "from chroma.db.clickhouse import Clickhouse\n",
    "from chroma.db.index.hnswlib import Hnswlib\n",
    "from chroma.config import Settings\n",
    "from chroma.algorithms.core_algorithms import *"
   ]
  },
  {
   "cell_type": "code",
   "execution_count": 9,
   "metadata": {},
   "outputs": [
    {
     "name": "stdout",
     "output_type": "stream",
     "text": [
      "time to fetch 1677402 embeddings:  8.621602058410645\n",
      "time to fetch 205777 embeddings:  0.9389340877532959\n"
     ]
    }
   ],
   "source": [
    "chroma_settings = Settings()\n",
    "db = Clickhouse(chroma_settings)\n",
    "model_space = \"default_scope\"\n",
    "\n",
    "training_dataset_name = \"waymo-phx-train-hc\"\n",
    "unlabeled_dataset_name = \"waymo-sf-val-hc\"\n",
    "\n",
    "training_data = db.fetch(\n",
    "    where={\"model_space\": model_space, \"dataset\": training_dataset_name}\n",
    ")\n",
    "unlabeled_data = db.fetch(\n",
    "    where={\"model_space\": model_space, \"dataset\": unlabeled_dataset_name}\n",
    ")\n",
    "\n",
    "ann_index = Hnswlib(chroma_settings)\n",
    "\n",
    "ann_index.run(\n",
    "    model_space=model_space,\n",
    "    uuids=training_data[\"uuid\"].tolist(),\n",
    "    embeddings=training_data[\"embedding\"].tolist(),\n",
    "    num_threads=8\n",
    ")"
   ]
  },
  {
   "cell_type": "markdown",
   "metadata": {},
   "source": [
    "# Activation Uncertainty"
   ]
  },
  {
   "cell_type": "code",
   "execution_count": 10,
   "metadata": {},
   "outputs": [],
   "source": [
    "activation_uncertainty_percentiles = activation_uncertainty(training_data=training_data, unlabeled_data=unlabeled_data)"
   ]
  },
  {
   "cell_type": "code",
   "execution_count": 11,
   "metadata": {},
   "outputs": [
    {
     "data": {
      "image/png": "[encoded data removed]",
      "text/plain": [
       "<Figure size 640x480 with 1 Axes>"
      ]
     },
     "metadata": {},
     "output_type": "display_data"
    }
   ],
   "source": [
    "# Plot a histogram of the activation uncertainty percentiles\n",
    "import matplotlib.pyplot as plt\n",
    "plt.hist(activation_uncertainty_percentiles, bins=100, density=True, cumulative=True)\n",
    "plt.show()"
   ]
  },
  {
   "cell_type": "markdown",
   "metadata": {},
   "source": [
    "# Boundary Uncertainty"
   ]
  },
  {
   "cell_type": "code",
   "execution_count": 15,
   "metadata": {},
   "outputs": [],
   "source": [
    "boundary_uncertainties = boundary_uncertainty(training_data=training_data, unlabeled_data=unlabeled_data, ann_index=ann_index, n_neighbors=100)"
   ]
  },
  {
   "cell_type": "code",
   "execution_count": 16,
   "metadata": {},
   "outputs": [
    {
     "data": {
      "image/png": "[encoded data removed]",
      "text/plain": [
       "<Figure size 640x480 with 1 Axes>"
      ]
     },
     "metadata": {},
     "output_type": "display_data"
    }
   ],
   "source": [
    "# Plot a histogram of the boundary uncertainty percentiles\n",
    "plt.hist(boundary_uncertainties, bins=10, density=True)\n",
    "plt.show()"
   ]
  },
  {
   "cell_type": "markdown",
   "metadata": {},
   "source": [
    "# Cluster Outliers"
   ]
  },
  {
   "cell_type": "code",
   "execution_count": 17,
   "metadata": {},
   "outputs": [],
   "source": [
    "representative_cluster_percentiles, difficult_cluster_percentiles = cluster_outliers(training_data=training_data, unlabeled_data=unlabeled_data)"
   ]
  },
  {
   "cell_type": "code",
   "execution_count": 18,
   "metadata": {},
   "outputs": [
    {
     "data": {
      "image/png": "[encoded data removed]",
      "text/plain": [
       "<Figure size 640x480 with 1 Axes>"
      ]
     },
     "metadata": {},
     "output_type": "display_data"
    }
   ],
   "source": [
    "# Plot the representative and difficult cluster outlier percentiles, on the same plot\n",
    "plt.hist(representative_cluster_percentiles, bins=10, density=True, cumulative=True, alpha=0.5)\n",
    "plt.hist(difficult_cluster_percentiles, bins=10, density=True, cumulative=True, alpha=0.5)\n",
    "plt.show()"
   ]
  },
  {
   "cell_type": "markdown",
   "metadata": {},
   "source": [
    "# Class Outliers [Not Yet Functioning]\n",
    "\n",
    "Filtering the ANN index causes the connectivity graph to become disconnected, so nearest neighbors aren't found. \n",
    "The proximal solution is to create class-wise indices per dataset. These could be created dynamically.\n",
    "The long term solution is to modify hnsw so that it takes this kind of partitioning into account, when it's known in advance.\n",
    "\n",
    "Some more ideas: https://blog.vasnetsov.com/posts/categorical-hnsw/"
   ]
  },
  {
   "cell_type": "code",
   "execution_count": 18,
   "metadata": {},
   "outputs": [
    {
     "ename": "RuntimeError",
     "evalue": "Cannot return the results in a contigious 2D array. Probably ef or M is too small",
     "output_type": "error",
     "traceback": [
      "\u001b[0;31m---------------------------------------------------------------------------\u001b[0m",
      "\u001b[0;31mRuntimeError\u001b[0m                              Traceback (most recent call last)",
      "Cell \u001b[0;32mIn [18], line 1\u001b[0m\n\u001b[0;32m----> 1\u001b[0m representative_class_outliers, difficult_class_outliers \u001b[39m=\u001b[39m class_outliers(training_data\u001b[39m=\u001b[39;49mtraining_data, inference_data\u001b[39m=\u001b[39;49minference_data, ann_index\u001b[39m=\u001b[39;49mann_index, n_neighbors\u001b[39m=\u001b[39;49m\u001b[39m10\u001b[39;49m)\n",
      "File \u001b[0;32m~/Projects/chroma/chroma-server/chroma_server/algorithms/core_algorithms.py:121\u001b[0m, in \u001b[0;36mclass_outliers\u001b[0;34m(training_data, inference_data, ann_index, n_neighbors, model_space)\u001b[0m\n\u001b[1;32m    113\u001b[0m inference_data_class \u001b[39m=\u001b[39m inference_data[inference_data[\u001b[39m\"\u001b[39m\u001b[39minference_class\u001b[39m\u001b[39m\"\u001b[39m] \u001b[39m==\u001b[39m class_name]\n\u001b[1;32m    115\u001b[0m t_neighbor_ids, t_neighbor_dists \u001b[39m=\u001b[39m ann_index\u001b[39m.\u001b[39mget_nearest_neighbors(\n\u001b[1;32m    116\u001b[0m     model_space\u001b[39m=\u001b[39mmodel_space,\n\u001b[1;32m    117\u001b[0m     query\u001b[39m=\u001b[39minference_data_class[\u001b[39m\"\u001b[39m\u001b[39membedding\u001b[39m\u001b[39m\"\u001b[39m]\u001b[39m.\u001b[39mtolist(),\n\u001b[1;32m    118\u001b[0m     k\u001b[39m=\u001b[39mn_neighbors,\n\u001b[1;32m    119\u001b[0m     uuids\u001b[39m=\u001b[39mtraining_data_class[\u001b[39m\"\u001b[39m\u001b[39muuid\u001b[39m\u001b[39m\"\u001b[39m]\u001b[39m.\u001b[39mtolist(),\n\u001b[1;32m    120\u001b[0m )\n\u001b[0;32m--> 121\u001b[0m v_neighbor_ids, v_neighbor_dists \u001b[39m=\u001b[39m ann_index\u001b[39m.\u001b[39;49mget_nearest_neighbors(\n\u001b[1;32m    122\u001b[0m     model_space\u001b[39m=\u001b[39;49mmodel_space,\n\u001b[1;32m    123\u001b[0m     query\u001b[39m=\u001b[39;49minference_data_class[\u001b[39m\"\u001b[39;49m\u001b[39membedding\u001b[39;49m\u001b[39m\"\u001b[39;49m]\u001b[39m.\u001b[39;49mtolist(),\n\u001b[1;32m    124\u001b[0m     k\u001b[39m=\u001b[39;49mn_neighbors,\n\u001b[1;32m    125\u001b[0m     uuids\u001b[39m=\u001b[39;49minference_data_class[\u001b[39m\"\u001b[39;49m\u001b[39muuid\u001b[39;49m\u001b[39m\"\u001b[39;49m]\u001b[39m.\u001b[39;49mtolist(),\n\u001b[1;32m    126\u001b[0m )\n\u001b[1;32m    128\u001b[0m dist_diff \u001b[39m=\u001b[39m np\u001b[39m.\u001b[39mmedian(t_neighbor_dists, axis\u001b[39m=\u001b[39m\u001b[39m1\u001b[39m) \u001b[39m-\u001b[39m np\u001b[39m.\u001b[39mmedian(v_neighbor_dists, axis\u001b[39m=\u001b[39m\u001b[39m1\u001b[39m)\n\u001b[1;32m    129\u001b[0m dist_diff_percentiles \u001b[39m=\u001b[39m np\u001b[39m.\u001b[39margsort(dist_diff) \u001b[39m/\u001b[39m \u001b[39mlen\u001b[39m(dist_diff)\n",
      "File \u001b[0;32m~/Projects/chroma/chroma-server/chroma_server/index/hnswlib.py:113\u001b[0m, in \u001b[0;36mHnswlib.get_nearest_neighbors\u001b[0;34m(self, model_space, query, k, uuids)\u001b[0m\n\u001b[1;32m    110\u001b[0m logger\u001b[39m.\u001b[39mdebug(\u001b[39mf\u001b[39m\u001b[39m'\u001b[39m\u001b[39mtime to pre process our knn query: \u001b[39m\u001b[39m{\u001b[39;00mtime\u001b[39m.\u001b[39mtime() \u001b[39m-\u001b[39m s2\u001b[39m}\u001b[39;00m\u001b[39m'\u001b[39m)\n\u001b[1;32m    112\u001b[0m s3\u001b[39m=\u001b[39m time\u001b[39m.\u001b[39mtime()\n\u001b[0;32m--> 113\u001b[0m database_ids, distances \u001b[39m=\u001b[39m \u001b[39mself\u001b[39;49m\u001b[39m.\u001b[39;49m_index\u001b[39m.\u001b[39;49mknn_query(query, k\u001b[39m=\u001b[39;49mk, \u001b[39mfilter\u001b[39;49m\u001b[39m=\u001b[39;49mfilter_function)\n\u001b[1;32m    114\u001b[0m logger\u001b[39m.\u001b[39mdebug(\u001b[39mf\u001b[39m\u001b[39m'\u001b[39m\u001b[39mtime to run knn query: \u001b[39m\u001b[39m{\u001b[39;00mtime\u001b[39m.\u001b[39mtime() \u001b[39m-\u001b[39m s3\u001b[39m}\u001b[39;00m\u001b[39m'\u001b[39m)\n\u001b[1;32m    116\u001b[0m uuids \u001b[39m=\u001b[39m [[\u001b[39mself\u001b[39m\u001b[39m.\u001b[39m_id_to_uuid[\u001b[39mid\u001b[39m] \u001b[39mfor\u001b[39;00m \u001b[39mid\u001b[39m \u001b[39min\u001b[39;00m ids] \u001b[39mfor\u001b[39;00m ids \u001b[39min\u001b[39;00m database_ids]\n",
      "\u001b[0;31mRuntimeError\u001b[0m: Cannot return the results in a contigious 2D array. Probably ef or M is too small"
     ]
    }
   ],
   "source": [
    "representative_class_outliers, difficult_class_outliers = class_outliers(training_data=training_data, inference_data=unlabeled_data, ann_index=ann_index, n_neighbors=10)"
   ]
  },
  {
   "cell_type": "code",
   "execution_count": null,
   "metadata": {},
   "outputs": [],
   "source": [
    "# Plot histograms of the representative and difficult class outlier scores, on the same plot\n",
    "plt.hist(representative_class_outliers, bins=100, density=True, cumulative=True, alpha=0.5)\n",
    "plt.hist(difficult_class_outliers, bins=100, density=True, cumulative=True, alpha=0.5)\n",
    "plt.show()"
   ]
  }
 ],
 "metadata": {
  "kernelspec": {
   "display_name": "Python 3.9.13 ('chroma')",
   "language": "python",
   "name": "python3"
  },
  "language_info": {
   "codemirror_mode": {
    "name": "ipython",
    "version": 3
   },
   "file_extension": ".py",
   "mimetype": "text/x-python",
   "name": "python",
   "nbconvert_exporter": "python",
   "pygments_lexer": "ipython3",
   "version": "3.9.13"
  },
  "orig_nbformat": 4,
  "vscode": {
   "interpreter": {
    "hash": "88f09714c9334832bac29166716f9f6a879ee2a4ed4822c1d4120cb2393b58dd"
   }
  }
 },
 "nbformat": 4,
 "nbformat_minor": 2
}
