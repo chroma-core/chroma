{
 "cells": [
  {
   "cell_type": "code",
   "execution_count": 10,
   "metadata": {},
   "outputs": [],
   "source": [
    "import chromadb\n",
    "from chromadb.api.types import Embeddings, Metadata\n",
    "from chromadb.api.types import Documents, EmbeddingFunction, Embeddings\n",
    "from chromadb.config import Settings"
   ]
  },
  {
   "cell_type": "code",
   "execution_count": 11,
   "metadata": {},
   "outputs": [],
   "source": [
    "client = chromadb.Client(\n",
    "    Settings(chroma_db_impl=\"postgres\", postgres_username=\"postgres\", \n",
    "                                postgres_password=\"postgres\", \n",
    "                                postgres_hostname=\"localhost\", \n",
    "                                postgres_port=\"5445\", \n",
    "                                postgres_databasename=\"postgres\")\n",
    "    )\n",
    "\n",
    "# Everything that works with the client below should work with the above client\n",
    "# client = chromadb.Client()"
   ]
  },
  {
   "cell_type": "code",
   "execution_count": null,
   "metadata": {},
   "outputs": [],
   "source": []
  },
  {
   "cell_type": "code",
   "execution_count": 16,
   "metadata": {},
   "outputs": [],
   "source": [
    "collection = client.create_collection(\"all-my-documents\", get_or_create=True)\n",
    "collection2 = client.create_collection(\"empty-collection\", get_or_create=True)\n",
    "collection3 = client.get_or_create_collection(\"extra-documents\")"
   ]
  },
  {
   "cell_type": "code",
   "execution_count": 17,
   "metadata": {},
   "outputs": [
    {
     "name": "stdout",
     "output_type": "stream",
     "text": [
      "[Collection(name=empty-collection), Collection(name=extra-documents), Collection(name=all-my-documents)]\n",
      "name='all-my-documents' id=UUID('2a48e5df-f275-4915-b97f-82805e8c2536') metadata=None\n"
     ]
    }
   ],
   "source": [
    "# list all collections\n",
    "print(client.list_collections())\n",
    "# get an existing collection\n",
    "print(client.get_collection(\"all-my-documents\"))"
   ]
  },
  {
   "cell_type": "code",
   "execution_count": 18,
   "metadata": {},
   "outputs": [
    {
     "name": "stdout",
     "output_type": "stream",
     "text": [
      "0\n",
      "0\n"
     ]
    }
   ],
   "source": [
    "print(collection.count())\n",
    "print(collection2.count())"
   ]
  },
  {
   "cell_type": "code",
   "execution_count": 19,
   "metadata": {},
   "outputs": [
    {
     "ename": "IndexError",
     "evalue": "list index out of range",
     "output_type": "error",
     "traceback": [
      "\u001b[0;31m---------------------------------------------------------------------------\u001b[0m",
      "\u001b[0;31mIndexError\u001b[0m                                Traceback (most recent call last)",
      "Cell \u001b[0;32mIn[19], line 2\u001b[0m\n\u001b[1;32m      1\u001b[0m \u001b[39m# delete a collection that doesn't exist\u001b[39;00m\n\u001b[0;32m----> 2\u001b[0m client\u001b[39m.\u001b[39;49mdelete_collection(\u001b[39m\"\u001b[39;49m\u001b[39mdne-connection\u001b[39;49m\u001b[39m\"\u001b[39;49m)\n",
      "File \u001b[0;32m~/Projects/polychroma/chromadb/api/local.py:230\u001b[0m, in \u001b[0;36mLocalAPI.delete_collection\u001b[0;34m(self, name)\u001b[0m\n\u001b[1;32m    216\u001b[0m \u001b[39m@override\u001b[39m\n\u001b[1;32m    217\u001b[0m \u001b[39mdef\u001b[39;00m \u001b[39mdelete_collection\u001b[39m(\u001b[39mself\u001b[39m, name: \u001b[39mstr\u001b[39m) \u001b[39m-\u001b[39m\u001b[39m>\u001b[39m \u001b[39mNone\u001b[39;00m:\n\u001b[1;32m    218\u001b[0m \u001b[39m    \u001b[39m\u001b[39m\"\"\"Delete a collection with the given name.\u001b[39;00m\n\u001b[1;32m    219\u001b[0m \u001b[39m    Args:\u001b[39;00m\n\u001b[1;32m    220\u001b[0m \u001b[39m        name: The name of the collection to delete\u001b[39;00m\n\u001b[0;32m   (...)\u001b[0m\n\u001b[1;32m    228\u001b[0m \u001b[39m        ```\u001b[39;00m\n\u001b[1;32m    229\u001b[0m \u001b[39m    \"\"\"\u001b[39;00m\n\u001b[0;32m--> 230\u001b[0m     \u001b[39mself\u001b[39;49m\u001b[39m.\u001b[39;49m_db\u001b[39m.\u001b[39;49mdelete_collection(name)\n",
      "File \u001b[0;32m~/Projects/polychroma/chromadb/db/postgres.py:233\u001b[0m, in \u001b[0;36mPostgres.delete_collection\u001b[0;34m(self, name)\u001b[0m\n\u001b[1;32m    231\u001b[0m \u001b[39m@override\u001b[39m\n\u001b[1;32m    232\u001b[0m \u001b[39mdef\u001b[39;00m \u001b[39mdelete_collection\u001b[39m(\u001b[39mself\u001b[39m, name: \u001b[39mstr\u001b[39m) \u001b[39m-\u001b[39m\u001b[39m>\u001b[39m \u001b[39mNone\u001b[39;00m:\n\u001b[0;32m--> 233\u001b[0m     collection_uuid \u001b[39m=\u001b[39m \u001b[39mself\u001b[39;49m\u001b[39m.\u001b[39;49mget_collection_uuid_from_name(name)\n\u001b[1;32m    235\u001b[0m     \u001b[39mif\u001b[39;00m \u001b[39mself\u001b[39m\u001b[39m.\u001b[39mindex_cache\u001b[39m.\u001b[39mget(collection_uuid) \u001b[39mis\u001b[39;00m \u001b[39mnot\u001b[39;00m \u001b[39mNone\u001b[39;00m:\n\u001b[1;32m    236\u001b[0m         \u001b[39mself\u001b[39m\u001b[39m.\u001b[39m_delete_index(collection_uuid)\n",
      "File \u001b[0;32m~/Projects/polychroma/chromadb/db/postgres.py:255\u001b[0m, in \u001b[0;36mPostgres.get_collection_uuid_from_name\u001b[0;34m(self, collection_name)\u001b[0m\n\u001b[1;32m    252\u001b[0m \u001b[39m@override\u001b[39m\n\u001b[1;32m    253\u001b[0m \u001b[39mdef\u001b[39;00m \u001b[39mget_collection_uuid_from_name\u001b[39m(\u001b[39mself\u001b[39m, collection_name: \u001b[39mstr\u001b[39m) \u001b[39m-\u001b[39m\u001b[39m>\u001b[39m UUID:\n\u001b[1;32m    254\u001b[0m     query \u001b[39m=\u001b[39m \u001b[39mf\u001b[39m\u001b[39m\"\u001b[39m\u001b[39mSELECT uuid FROM collections WHERE name = \u001b[39m\u001b[39m'\u001b[39m\u001b[39m{\u001b[39;00mcollection_name\u001b[39m}\u001b[39;00m\u001b[39m'\u001b[39m\u001b[39m\"\u001b[39m\n\u001b[0;32m--> 255\u001b[0m     \u001b[39mreturn\u001b[39;00m cast(UUID, \u001b[39mself\u001b[39;49m\u001b[39m.\u001b[39;49m_execute_query_with_response(query)[\u001b[39m0\u001b[39;49m][\u001b[39m0\u001b[39m])\n",
      "\u001b[0;31mIndexError\u001b[0m: list index out of range"
     ]
    }
   ],
   "source": [
    "# delete a collection that doesn't exist\n",
    "client.delete_collection(\"dne-connection\")"
   ]
  },
  {
   "cell_type": "code",
   "execution_count": null,
   "metadata": {},
   "outputs": [],
   "source": [
    "# delete a collection that exists\n",
    "client.delete_collection(\"empty-collection\")"
   ]
  },
  {
   "cell_type": "code",
   "execution_count": 10,
   "metadata": {},
   "outputs": [
    {
     "ename": "InFailedSqlTransaction",
     "evalue": "current transaction is aborted, commands ignored until end of transaction block\n",
     "output_type": "error",
     "traceback": [
      "\u001b[0;31m---------------------------------------------------------------------------\u001b[0m",
      "\u001b[0;31mInFailedSqlTransaction\u001b[0m                    Traceback (most recent call last)",
      "Cell \u001b[0;32mIn[10], line 1\u001b[0m\n\u001b[0;32m----> 1\u001b[0m collection\u001b[39m.\u001b[39;49mmodify(name\u001b[39m=\u001b[39;49m\u001b[39m\"\u001b[39;49m\u001b[39mupdated-documents\u001b[39;49m\u001b[39m\"\u001b[39;49m, metadata\u001b[39m=\u001b[39;49m{\u001b[39m\"\u001b[39;49m\u001b[39mtest\u001b[39;49m\u001b[39m\"\u001b[39;49m: \u001b[39m\"\u001b[39;49m\u001b[39mmetadata-test-success\u001b[39;49m\u001b[39m\"\u001b[39;49m})\n",
      "File \u001b[0;32m~/Projects/polychroma/chromadb/api/models/Collection.py:244\u001b[0m, in \u001b[0;36mCollection.modify\u001b[0;34m(self, name, metadata)\u001b[0m\n\u001b[1;32m    232\u001b[0m \u001b[39mdef\u001b[39;00m \u001b[39mmodify\u001b[39m(\n\u001b[1;32m    233\u001b[0m     \u001b[39mself\u001b[39m, name: Optional[\u001b[39mstr\u001b[39m] \u001b[39m=\u001b[39m \u001b[39mNone\u001b[39;00m, metadata: Optional[CollectionMetadata] \u001b[39m=\u001b[39m \u001b[39mNone\u001b[39;00m\n\u001b[1;32m    234\u001b[0m ) \u001b[39m-\u001b[39m\u001b[39m>\u001b[39m \u001b[39mNone\u001b[39;00m:\n\u001b[1;32m    235\u001b[0m \u001b[39m    \u001b[39m\u001b[39m\"\"\"Modify the collection name or metadata\u001b[39;00m\n\u001b[1;32m    236\u001b[0m \n\u001b[1;32m    237\u001b[0m \u001b[39m    Args:\u001b[39;00m\n\u001b[0;32m   (...)\u001b[0m\n\u001b[1;32m    242\u001b[0m \u001b[39m        None\u001b[39;00m\n\u001b[1;32m    243\u001b[0m \u001b[39m    \"\"\"\u001b[39;00m\n\u001b[0;32m--> 244\u001b[0m     \u001b[39mself\u001b[39;49m\u001b[39m.\u001b[39;49m_client\u001b[39m.\u001b[39;49m_modify(\u001b[39mid\u001b[39;49m\u001b[39m=\u001b[39;49m\u001b[39mself\u001b[39;49m\u001b[39m.\u001b[39;49mid, new_name\u001b[39m=\u001b[39;49mname, new_metadata\u001b[39m=\u001b[39;49mmetadata)\n\u001b[1;32m    245\u001b[0m     \u001b[39mif\u001b[39;00m name:\n\u001b[1;32m    246\u001b[0m         \u001b[39mself\u001b[39m\u001b[39m.\u001b[39mname \u001b[39m=\u001b[39m name\n",
      "File \u001b[0;32m~/Projects/polychroma/chromadb/api/local.py:214\u001b[0m, in \u001b[0;36mLocalAPI._modify\u001b[0;34m(self, id, new_name, new_metadata)\u001b[0m\n\u001b[1;32m    211\u001b[0m \u001b[39mif\u001b[39;00m new_name \u001b[39mis\u001b[39;00m \u001b[39mnot\u001b[39;00m \u001b[39mNone\u001b[39;00m:\n\u001b[1;32m    212\u001b[0m     check_index_name(new_name)\n\u001b[0;32m--> 214\u001b[0m \u001b[39mself\u001b[39;49m\u001b[39m.\u001b[39;49m_db\u001b[39m.\u001b[39;49mupdate_collection(\u001b[39mid\u001b[39;49m, new_name, new_metadata)\n",
      "File \u001b[0;32m~/Projects/polychroma/chromadb/db/postgres.py:198\u001b[0m, in \u001b[0;36mPostgres.update_collection\u001b[0;34m(self, id, new_name, new_metadata)\u001b[0m\n\u001b[1;32m    195\u001b[0m update_query \u001b[39m=\u001b[39m Query\u001b[39m.\u001b[39mupdate(collections_table)\n\u001b[1;32m    197\u001b[0m \u001b[39mif\u001b[39;00m new_name \u001b[39mis\u001b[39;00m \u001b[39mnot\u001b[39;00m \u001b[39mNone\u001b[39;00m:\n\u001b[0;32m--> 198\u001b[0m     dupe_check \u001b[39m=\u001b[39m \u001b[39mself\u001b[39;49m\u001b[39m.\u001b[39;49mget_collection(new_name)\n\u001b[1;32m    199\u001b[0m     \u001b[39mif\u001b[39;00m \u001b[39mlen\u001b[39m(dupe_check) \u001b[39m>\u001b[39m \u001b[39m0\u001b[39m \u001b[39mand\u001b[39;00m dupe_check[\u001b[39m0\u001b[39m][\u001b[39m0\u001b[39m] \u001b[39m!=\u001b[39m \u001b[39mid\u001b[39m:\n\u001b[1;32m    200\u001b[0m         \u001b[39mraise\u001b[39;00m \u001b[39mValueError\u001b[39;00m(\u001b[39mf\u001b[39m\u001b[39m\"\u001b[39m\u001b[39mCollection with name \u001b[39m\u001b[39m{\u001b[39;00mnew_name\u001b[39m}\u001b[39;00m\u001b[39m already exists\u001b[39m\u001b[39m\"\u001b[39m)\n",
      "File \u001b[0;32m~/Projects/polychroma/chromadb/db/postgres.py:170\u001b[0m, in \u001b[0;36mPostgres.get_collection\u001b[0;34m(self, name)\u001b[0m\n\u001b[1;32m    167\u001b[0m \u001b[39m@override\u001b[39m  \u001b[39m# TODO: Add optional column parameters to include/rm\u001b[39;00m\n\u001b[1;32m    168\u001b[0m \u001b[39mdef\u001b[39;00m \u001b[39mget_collection\u001b[39m(\u001b[39mself\u001b[39m, name: \u001b[39mstr\u001b[39m) \u001b[39m-\u001b[39m\u001b[39m>\u001b[39m Sequence[Any]:\n\u001b[1;32m    169\u001b[0m     query \u001b[39m=\u001b[39m \u001b[39mf\u001b[39m\u001b[39m\"\u001b[39m\u001b[39mSELECT * FROM collections WHERE name = \u001b[39m\u001b[39m'\u001b[39m\u001b[39m{\u001b[39;00mname\u001b[39m}\u001b[39;00m\u001b[39m'\u001b[39m\u001b[39m\"\u001b[39m\n\u001b[0;32m--> 170\u001b[0m     res \u001b[39m=\u001b[39m \u001b[39mself\u001b[39;49m\u001b[39m.\u001b[39;49m_execute_query_with_response(query)\n\u001b[1;32m    171\u001b[0m     \u001b[39m# json.loads for metadata not needed, psycopg2 does it automatically\u001b[39;00m\n\u001b[1;32m    172\u001b[0m     \u001b[39mreturn\u001b[39;00m [[x[\u001b[39m0\u001b[39m], x[\u001b[39m1\u001b[39m], x[\u001b[39m2\u001b[39m], x[\u001b[39m3\u001b[39m]] \u001b[39mfor\u001b[39;00m x \u001b[39min\u001b[39;00m res]\n",
      "File \u001b[0;32m~/Projects/polychroma/chromadb/db/postgres.py:105\u001b[0m, in \u001b[0;36mPostgres._execute_query_with_response\u001b[0;34m(self, query)\u001b[0m\n\u001b[1;32m    103\u001b[0m \u001b[39mdef\u001b[39;00m \u001b[39m_execute_query_with_response\u001b[39m(\u001b[39mself\u001b[39m, query: \u001b[39mstr\u001b[39m):  \u001b[39m# type: ignore\u001b[39;00m\n\u001b[1;32m    104\u001b[0m     \u001b[39mwith\u001b[39;00m \u001b[39mself\u001b[39m\u001b[39m.\u001b[39m_get_conn()\u001b[39m.\u001b[39mcursor() \u001b[39mas\u001b[39;00m curs:\n\u001b[0;32m--> 105\u001b[0m         curs\u001b[39m.\u001b[39;49mexecute(query)\n\u001b[1;32m    106\u001b[0m         res \u001b[39m=\u001b[39m curs\u001b[39m.\u001b[39mfetchall()\n\u001b[1;32m    107\u001b[0m     \u001b[39mself\u001b[39m\u001b[39m.\u001b[39m_conn\u001b[39m.\u001b[39mcommit()\n",
      "\u001b[0;31mInFailedSqlTransaction\u001b[0m: current transaction is aborted, commands ignored until end of transaction block\n"
     ]
    }
   ],
   "source": [
    "# collection.modify(name=\"updated-documents\", metadata={\"test\": \"metadata-test-success\"})"
   ]
  },
  {
   "cell_type": "code",
   "execution_count": 4,
   "metadata": {},
   "outputs": [
    {
     "ename": "IDAlreadyExistsError",
     "evalue": "IDs ['ef72bdc8-be14-449d-a643-0528144a3cbc', 'ef72bdc8-be14-449d-a643-0528144a3cbc'] already exist in collection ef72bdc8-be14-449d-a643-0528144a3cbc",
     "output_type": "error",
     "traceback": [
      "\u001b[0;31m---------------------------------------------------------------------------\u001b[0m",
      "\u001b[0;31mIDAlreadyExistsError\u001b[0m                      Traceback (most recent call last)",
      "Cell \u001b[0;32mIn[4], line 2\u001b[0m\n\u001b[1;32m      1\u001b[0m \u001b[39m# Add docs to the collection. Can also update and delete. Row-based API coming soon!\u001b[39;00m\n\u001b[0;32m----> 2\u001b[0m collection\u001b[39m.\u001b[39;49madd(\n\u001b[1;32m      3\u001b[0m     documents\u001b[39m=\u001b[39;49m[\u001b[39m\"\u001b[39;49m\u001b[39mThis is document1\u001b[39;49m\u001b[39m\"\u001b[39;49m, \u001b[39m\"\u001b[39;49m\u001b[39mThis is document2\u001b[39;49m\u001b[39m\"\u001b[39;49m], \u001b[39m# we handle tokenization, embedding, and indexing automatically. You can skip that and add your own embeddings as well\u001b[39;49;00m\n\u001b[1;32m      4\u001b[0m     metadatas\u001b[39m=\u001b[39;49m[{\u001b[39m\"\u001b[39;49m\u001b[39msource\u001b[39;49m\u001b[39m\"\u001b[39;49m: \u001b[39m\"\u001b[39;49m\u001b[39mnotion\u001b[39;49m\u001b[39m\"\u001b[39;49m}, {\u001b[39m\"\u001b[39;49m\u001b[39msource\u001b[39;49m\u001b[39m\"\u001b[39;49m: \u001b[39m\"\u001b[39;49m\u001b[39mgoogle-docs\u001b[39;49m\u001b[39m\"\u001b[39;49m}], \u001b[39m# filter on these!\u001b[39;49;00m\n\u001b[1;32m      5\u001b[0m     ids\u001b[39m=\u001b[39;49m[\u001b[39m\"\u001b[39;49m\u001b[39mdoc1\u001b[39;49m\u001b[39m\"\u001b[39;49m, \u001b[39m\"\u001b[39;49m\u001b[39mdoc2\u001b[39;49m\u001b[39m\"\u001b[39;49m], \u001b[39m# unique for each doc\u001b[39;49;00m\n\u001b[1;32m      6\u001b[0m )\n",
      "File \u001b[0;32m~/Projects/polychroma/chromadb/api/models/Collection.py:100\u001b[0m, in \u001b[0;36mCollection.add\u001b[0;34m(self, ids, embeddings, metadatas, documents, increment_index)\u001b[0m\n\u001b[1;32m     76\u001b[0m \u001b[39m\u001b[39m\u001b[39m\"\"\"Add embeddings to the data store.\u001b[39;00m\n\u001b[1;32m     77\u001b[0m \u001b[39mArgs:\u001b[39;00m\n\u001b[1;32m     78\u001b[0m \u001b[39m    ids: The ids of the embeddings you wish to add\u001b[39;00m\n\u001b[0;32m   (...)\u001b[0m\n\u001b[1;32m     93\u001b[0m \n\u001b[1;32m     94\u001b[0m \u001b[39m\"\"\"\u001b[39;00m\n\u001b[1;32m     96\u001b[0m ids, embeddings, metadatas, documents \u001b[39m=\u001b[39m \u001b[39mself\u001b[39m\u001b[39m.\u001b[39m_validate_embedding_set(\n\u001b[1;32m     97\u001b[0m     ids, embeddings, metadatas, documents\n\u001b[1;32m     98\u001b[0m )\n\u001b[0;32m--> 100\u001b[0m \u001b[39mself\u001b[39;49m\u001b[39m.\u001b[39;49m_client\u001b[39m.\u001b[39;49m_add(\n\u001b[1;32m    101\u001b[0m     ids, \u001b[39mself\u001b[39;49m\u001b[39m.\u001b[39;49mid, embeddings, metadatas, documents, increment_index\n\u001b[1;32m    102\u001b[0m )\n",
      "File \u001b[0;32m~/Projects/polychroma/chromadb/api/local.py:247\u001b[0m, in \u001b[0;36mLocalAPI._add\u001b[0;34m(self, ids, collection_id, embeddings, metadatas, documents, increment_index)\u001b[0m\n\u001b[1;32m    245\u001b[0m existing_ids \u001b[39m=\u001b[39m \u001b[39mself\u001b[39m\u001b[39m.\u001b[39m_get(collection_id, ids\u001b[39m=\u001b[39mids, include\u001b[39m=\u001b[39m[])[\u001b[39m\"\u001b[39m\u001b[39mids\u001b[39m\u001b[39m\"\u001b[39m]\n\u001b[1;32m    246\u001b[0m \u001b[39mif\u001b[39;00m \u001b[39mlen\u001b[39m(existing_ids) \u001b[39m>\u001b[39m \u001b[39m0\u001b[39m:\n\u001b[0;32m--> 247\u001b[0m     \u001b[39mraise\u001b[39;00m errors\u001b[39m.\u001b[39mIDAlreadyExistsError(\n\u001b[1;32m    248\u001b[0m         \u001b[39mf\u001b[39m\u001b[39m\"\u001b[39m\u001b[39mIDs \u001b[39m\u001b[39m{\u001b[39;00mexisting_ids\u001b[39m}\u001b[39;00m\u001b[39m already exist in collection \u001b[39m\u001b[39m{\u001b[39;00mcollection_id\u001b[39m}\u001b[39;00m\u001b[39m\"\u001b[39m\n\u001b[1;32m    249\u001b[0m     )\n\u001b[1;32m    251\u001b[0m added_uuids \u001b[39m=\u001b[39m \u001b[39mself\u001b[39m\u001b[39m.\u001b[39m_db\u001b[39m.\u001b[39madd(\n\u001b[1;32m    252\u001b[0m     collection_id,\n\u001b[1;32m    253\u001b[0m     embeddings\u001b[39m=\u001b[39membeddings,\n\u001b[0;32m   (...)\u001b[0m\n\u001b[1;32m    256\u001b[0m     ids\u001b[39m=\u001b[39mids,\n\u001b[1;32m    257\u001b[0m )\n\u001b[1;32m    259\u001b[0m \u001b[39mif\u001b[39;00m increment_index:\n",
      "\u001b[0;31mIDAlreadyExistsError\u001b[0m: IDs ['ef72bdc8-be14-449d-a643-0528144a3cbc', 'ef72bdc8-be14-449d-a643-0528144a3cbc'] already exist in collection ef72bdc8-be14-449d-a643-0528144a3cbc"
     ]
    }
   ],
   "source": [
    "# Add docs to the collection. Can also update and delete. Row-based API coming soon!\n",
    "collection.add(\n",
    "    documents=[\"This is document1\", \"This is document2\"], # we handle tokenization, embedding, and indexing automatically. You can skip that and add your own embeddings as well\n",
    "    metadatas=[{\"source\": \"notion\"}, {\"source\": \"google-docs\"}], # filter on these!\n",
    "    ids=[\"doc1\", \"doc2\"], # unique for each doc\n",
    ")"
   ]
  },
  {
   "cell_type": "code",
   "execution_count": 5,
   "metadata": {},
   "outputs": [
    {
     "data": {
      "text/plain": [
       "2"
      ]
     },
     "execution_count": 5,
     "metadata": {},
     "output_type": "execute_result"
    }
   ],
   "source": [
    "collection.count()"
   ]
  },
  {
   "cell_type": "code",
   "execution_count": 6,
   "metadata": {},
   "outputs": [
    {
     "name": "stdout",
     "output_type": "stream",
     "text": [
      "0\n"
     ]
    }
   ],
   "source": []
  },
  {
   "cell_type": "code",
   "execution_count": null,
   "metadata": {},
   "outputs": [],
   "source": []
  }
 ],
 "metadata": {
  "kernelspec": {
   "display_name": "venv",
   "language": "python",
   "name": "python3"
  },
  "language_info": {
   "codemirror_mode": {
    "name": "ipython",
    "version": 3
   },
   "file_extension": ".py",
   "mimetype": "text/x-python",
   "name": "python",
   "nbconvert_exporter": "python",
   "pygments_lexer": "ipython3",
   "version": "3.9.6"
  },
  "orig_nbformat": 4
 },
 "nbformat": 4,
 "nbformat_minor": 2
}
