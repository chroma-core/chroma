{
 "cells": [
  {
   "cell_type": "code",
   "execution_count": 1,
   "metadata": {},
   "outputs": [],
   "source": [
    "import chromadb\n",
    "from chromadb.api.types import Embeddings, Metadata\n",
    "from chromadb.api.types import Documents, EmbeddingFunction, Embeddings\n",
    "from chromadb.config import Settings"
   ]
  },
  {
   "cell_type": "code",
   "execution_count": 2,
   "metadata": {},
   "outputs": [],
   "source": [
    "api = chromadb.Client(\n",
    "    Settings(chroma_db_impl=\"postgres\", postgres_username=\"postgres\", \n",
    "                                postgres_password=\"postgres\", \n",
    "                                postgres_hostname=\"localhost\", \n",
    "                                postgres_port=\"5445\", \n",
    "                                postgres_databasename=\"postgres\")\n",
    "    )"
   ]
  },
  {
   "cell_type": "code",
   "execution_count": 3,
   "metadata": {},
   "outputs": [],
   "source": [
    "class MyEmbeddingFunction(EmbeddingFunction):\n",
    "    def __call__(self, texts: Documents) -> Embeddings:\n",
    "        # embed the documents somehow\n",
    "        return [[1, 2, 3, 4, 5] for _ in texts]\n"
   ]
  },
  {
   "cell_type": "code",
   "execution_count": 5,
   "metadata": {},
   "outputs": [],
   "source": [
    "collection = api.create_collection(\"all-my-documents\", get_or_create=True)"
   ]
  },
  {
   "cell_type": "code",
   "execution_count": 6,
   "metadata": {},
   "outputs": [],
   "source": [
    "collection.modify(name=\"updated-documents-6\")"
   ]
  },
  {
   "cell_type": "code",
   "execution_count": 6,
   "metadata": {},
   "outputs": [
    {
     "ename": "UndefinedTable",
     "evalue": "relation \"embeddings5\" does not exist\nLINE 1: SELECT * FROM \"embeddings5\"\n                      ^\n",
     "output_type": "error",
     "traceback": [
      "\u001b[0;31m---------------------------------------------------------------------------\u001b[0m",
      "\u001b[0;31mUndefinedTable\u001b[0m                            Traceback (most recent call last)",
      "Cell \u001b[0;32mIn[6], line 2\u001b[0m\n\u001b[1;32m      1\u001b[0m \u001b[39m# Add docs to the collection. Can also update and delete. Row-based API coming soon!\u001b[39;00m\n\u001b[0;32m----> 2\u001b[0m collection\u001b[39m.\u001b[39;49madd(\n\u001b[1;32m      3\u001b[0m     documents\u001b[39m=\u001b[39;49m[\u001b[39m\"\u001b[39;49m\u001b[39mThis is document1\u001b[39;49m\u001b[39m\"\u001b[39;49m, \u001b[39m\"\u001b[39;49m\u001b[39mThis is document2\u001b[39;49m\u001b[39m\"\u001b[39;49m], \u001b[39m# we handle tokenization, embedding, and indexing automatically. You can skip that and add your own embeddings as well\u001b[39;49;00m\n\u001b[1;32m      4\u001b[0m     metadatas\u001b[39m=\u001b[39;49m[{\u001b[39m\"\u001b[39;49m\u001b[39msource\u001b[39;49m\u001b[39m\"\u001b[39;49m: \u001b[39m\"\u001b[39;49m\u001b[39mnotion\u001b[39;49m\u001b[39m\"\u001b[39;49m}, {\u001b[39m\"\u001b[39;49m\u001b[39msource\u001b[39;49m\u001b[39m\"\u001b[39;49m: \u001b[39m\"\u001b[39;49m\u001b[39mgoogle-docs\u001b[39;49m\u001b[39m\"\u001b[39;49m}], \u001b[39m# filter on these!\u001b[39;49;00m\n\u001b[1;32m      5\u001b[0m     ids\u001b[39m=\u001b[39;49m[\u001b[39m\"\u001b[39;49m\u001b[39mdoc1\u001b[39;49m\u001b[39m\"\u001b[39;49m, \u001b[39m\"\u001b[39;49m\u001b[39mdoc2\u001b[39;49m\u001b[39m\"\u001b[39;49m], \u001b[39m# unique for each doc\u001b[39;49;00m\n\u001b[1;32m      6\u001b[0m )\n",
      "File \u001b[0;32m~/Projects/polychroma/chromadb/api/models/Collection.py:100\u001b[0m, in \u001b[0;36mCollection.add\u001b[0;34m(self, ids, embeddings, metadatas, documents, increment_index)\u001b[0m\n\u001b[1;32m     76\u001b[0m \u001b[39m\u001b[39m\u001b[39m\"\"\"Add embeddings to the data store.\u001b[39;00m\n\u001b[1;32m     77\u001b[0m \u001b[39mArgs:\u001b[39;00m\n\u001b[1;32m     78\u001b[0m \u001b[39m    ids: The ids of the embeddings you wish to add\u001b[39;00m\n\u001b[0;32m   (...)\u001b[0m\n\u001b[1;32m     93\u001b[0m \n\u001b[1;32m     94\u001b[0m \u001b[39m\"\"\"\u001b[39;00m\n\u001b[1;32m     96\u001b[0m ids, embeddings, metadatas, documents \u001b[39m=\u001b[39m \u001b[39mself\u001b[39m\u001b[39m.\u001b[39m_validate_embedding_set(\n\u001b[1;32m     97\u001b[0m     ids, embeddings, metadatas, documents\n\u001b[1;32m     98\u001b[0m )\n\u001b[0;32m--> 100\u001b[0m \u001b[39mself\u001b[39;49m\u001b[39m.\u001b[39;49m_client\u001b[39m.\u001b[39;49m_add(\n\u001b[1;32m    101\u001b[0m     ids, \u001b[39mself\u001b[39;49m\u001b[39m.\u001b[39;49mid, embeddings, metadatas, documents, increment_index\n\u001b[1;32m    102\u001b[0m )\n",
      "File \u001b[0;32m~/Projects/polychroma/chromadb/api/local.py:245\u001b[0m, in \u001b[0;36mLocalAPI._add\u001b[0;34m(self, ids, collection_id, embeddings, metadatas, documents, increment_index)\u001b[0m\n\u001b[1;32m    235\u001b[0m \u001b[39m@override\u001b[39m\n\u001b[1;32m    236\u001b[0m \u001b[39mdef\u001b[39;00m \u001b[39m_add\u001b[39m(\n\u001b[1;32m    237\u001b[0m     \u001b[39mself\u001b[39m,\n\u001b[0;32m   (...)\u001b[0m\n\u001b[1;32m    243\u001b[0m     increment_index: \u001b[39mbool\u001b[39m \u001b[39m=\u001b[39m \u001b[39mTrue\u001b[39;00m,\n\u001b[1;32m    244\u001b[0m ) \u001b[39m-\u001b[39m\u001b[39m>\u001b[39m \u001b[39mbool\u001b[39m:\n\u001b[0;32m--> 245\u001b[0m     existing_ids \u001b[39m=\u001b[39m \u001b[39mself\u001b[39;49m\u001b[39m.\u001b[39;49m_get(collection_id, ids\u001b[39m=\u001b[39;49mids, include\u001b[39m=\u001b[39;49m[])[\u001b[39m\"\u001b[39m\u001b[39mids\u001b[39m\u001b[39m\"\u001b[39m]\n\u001b[1;32m    246\u001b[0m     \u001b[39mif\u001b[39;00m \u001b[39mlen\u001b[39m(existing_ids) \u001b[39m>\u001b[39m \u001b[39m0\u001b[39m:\n\u001b[1;32m    247\u001b[0m         \u001b[39mraise\u001b[39;00m errors\u001b[39m.\u001b[39mIDAlreadyExistsError(\n\u001b[1;32m    248\u001b[0m             \u001b[39mf\u001b[39m\u001b[39m\"\u001b[39m\u001b[39mIDs \u001b[39m\u001b[39m{\u001b[39;00mexisting_ids\u001b[39m}\u001b[39;00m\u001b[39m already exist in collection \u001b[39m\u001b[39m{\u001b[39;00mcollection_id\u001b[39m}\u001b[39;00m\u001b[39m\"\u001b[39m\n\u001b[1;32m    249\u001b[0m         )\n",
      "File \u001b[0;32m~/Projects/polychroma/chromadb/api/local.py:373\u001b[0m, in \u001b[0;36mLocalAPI._get\u001b[0;34m(self, collection_id, ids, where, sort, limit, offset, page, page_size, where_document, include)\u001b[0m\n\u001b[1;32m    368\u001b[0m db_columns \u001b[39m=\u001b[39m [column[:\u001b[39m-\u001b[39m\u001b[39m1\u001b[39m] \u001b[39mfor\u001b[39;00m column \u001b[39min\u001b[39;00m include] \u001b[39m+\u001b[39m [\u001b[39m\"\u001b[39m\u001b[39mid\u001b[39m\u001b[39m\"\u001b[39m]\n\u001b[1;32m    369\u001b[0m column_index \u001b[39m=\u001b[39m {\n\u001b[1;32m    370\u001b[0m     column_name: index \u001b[39mfor\u001b[39;00m index, column_name \u001b[39min\u001b[39;00m \u001b[39menumerate\u001b[39m(db_columns)\n\u001b[1;32m    371\u001b[0m }\n\u001b[0;32m--> 373\u001b[0m db_result \u001b[39m=\u001b[39m \u001b[39mself\u001b[39;49m\u001b[39m.\u001b[39;49m_db\u001b[39m.\u001b[39;49mget(\n\u001b[1;32m    374\u001b[0m     collection_uuid\u001b[39m=\u001b[39;49mcollection_id,\n\u001b[1;32m    375\u001b[0m     ids\u001b[39m=\u001b[39;49mids,\n\u001b[1;32m    376\u001b[0m     where\u001b[39m=\u001b[39;49mwhere,\n\u001b[1;32m    377\u001b[0m     sort\u001b[39m=\u001b[39;49msort,\n\u001b[1;32m    378\u001b[0m     limit\u001b[39m=\u001b[39;49mlimit,\n\u001b[1;32m    379\u001b[0m     offset\u001b[39m=\u001b[39;49moffset,\n\u001b[1;32m    380\u001b[0m     where_document\u001b[39m=\u001b[39;49mwhere_document,\n\u001b[1;32m    381\u001b[0m     columns\u001b[39m=\u001b[39;49mdb_columns,\n\u001b[1;32m    382\u001b[0m )\n\u001b[1;32m    384\u001b[0m get_result \u001b[39m=\u001b[39m GetResult(\n\u001b[1;32m    385\u001b[0m     ids\u001b[39m=\u001b[39m[],\n\u001b[1;32m    386\u001b[0m     embeddings\u001b[39m=\u001b[39m[] \u001b[39mif\u001b[39;00m include_embeddings \u001b[39melse\u001b[39;00m \u001b[39mNone\u001b[39;00m,\n\u001b[1;32m    387\u001b[0m     documents\u001b[39m=\u001b[39m[] \u001b[39mif\u001b[39;00m include_documents \u001b[39melse\u001b[39;00m \u001b[39mNone\u001b[39;00m,\n\u001b[1;32m    388\u001b[0m     metadatas\u001b[39m=\u001b[39m[] \u001b[39mif\u001b[39;00m include_metadatas \u001b[39melse\u001b[39;00m \u001b[39mNone\u001b[39;00m,\n\u001b[1;32m    389\u001b[0m )\n\u001b[1;32m    391\u001b[0m \u001b[39mfor\u001b[39;00m entry \u001b[39min\u001b[39;00m db_result:\n",
      "File \u001b[0;32m~/Projects/polychroma/chromadb/db/postgres.py:355\u001b[0m, in \u001b[0;36mPostgres.get\u001b[0;34m(self, where, collection_name, collection_uuid, ids, sort, limit, offset, where_document, columns)\u001b[0m\n\u001b[1;32m    352\u001b[0m \u001b[39mif\u001b[39;00m offset \u001b[39mis\u001b[39;00m \u001b[39mnot\u001b[39;00m \u001b[39mNone\u001b[39;00m \u001b[39mor\u001b[39;00m \u001b[39misinstance\u001b[39m(offset, \u001b[39mint\u001b[39m):\n\u001b[1;32m    353\u001b[0m     get_query\u001b[39m.\u001b[39moffset(offset)\n\u001b[0;32m--> 355\u001b[0m res \u001b[39m=\u001b[39m \u001b[39mself\u001b[39;49m\u001b[39m.\u001b[39;49m_execute_query_with_response(\u001b[39mstr\u001b[39;49m(get_query))\n\u001b[1;32m    356\u001b[0m \u001b[39mreturn\u001b[39;00m [[x[\u001b[39m0\u001b[39m], x[\u001b[39m1\u001b[39m], x[\u001b[39m2\u001b[39m]] \u001b[39mfor\u001b[39;00m x \u001b[39min\u001b[39;00m res]\n",
      "File \u001b[0;32m~/Projects/polychroma/chromadb/db/postgres.py:105\u001b[0m, in \u001b[0;36mPostgres._execute_query_with_response\u001b[0;34m(self, query)\u001b[0m\n\u001b[1;32m    103\u001b[0m \u001b[39mdef\u001b[39;00m \u001b[39m_execute_query_with_response\u001b[39m(\u001b[39mself\u001b[39m, query: \u001b[39mstr\u001b[39m):  \u001b[39m# type: ignore\u001b[39;00m\n\u001b[1;32m    104\u001b[0m     \u001b[39mwith\u001b[39;00m \u001b[39mself\u001b[39m\u001b[39m.\u001b[39m_get_conn()\u001b[39m.\u001b[39mcursor() \u001b[39mas\u001b[39;00m curs:\n\u001b[0;32m--> 105\u001b[0m         curs\u001b[39m.\u001b[39;49mexecute(query)\n\u001b[1;32m    106\u001b[0m         res \u001b[39m=\u001b[39m curs\u001b[39m.\u001b[39mfetchall()\n\u001b[1;32m    107\u001b[0m     \u001b[39mself\u001b[39m\u001b[39m.\u001b[39m_conn\u001b[39m.\u001b[39mcommit()\n",
      "\u001b[0;31mUndefinedTable\u001b[0m: relation \"embeddings5\" does not exist\nLINE 1: SELECT * FROM \"embeddings5\"\n                      ^\n"
     ]
    }
   ],
   "source": [
    "# Add docs to the collection. Can also update and delete. Row-based API coming soon!\n",
    "collection.add(\n",
    "    documents=[\"This is document1\", \"This is document2\"], # we handle tokenization, embedding, and indexing automatically. You can skip that and add your own embeddings as well\n",
    "    metadatas=[{\"source\": \"notion\"}, {\"source\": \"google-docs\"}], # filter on these!\n",
    "    ids=[\"doc1\", \"doc2\"], # unique for each doc\n",
    ")"
   ]
  },
  {
   "cell_type": "code",
   "execution_count": null,
   "metadata": {},
   "outputs": [],
   "source": []
  },
  {
   "cell_type": "code",
   "execution_count": null,
   "metadata": {},
   "outputs": [],
   "source": []
  }
 ],
 "metadata": {
  "kernelspec": {
   "display_name": "venv",
   "language": "python",
   "name": "python3"
  },
  "language_info": {
   "codemirror_mode": {
    "name": "ipython",
    "version": 3
   },
   "file_extension": ".py",
   "mimetype": "text/x-python",
   "name": "python",
   "nbconvert_exporter": "python",
   "pygments_lexer": "ipython3",
   "version": "3.9.6"
  },
  "orig_nbformat": 4
 },
 "nbformat": 4,
 "nbformat_minor": 2
}
