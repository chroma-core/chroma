{
 "cells": [
  {
   "cell_type": "code",
   "execution_count": 1,
   "metadata": {},
   "outputs": [],
   "source": [
    "import chromadb\n",
    "from chromadb.api.types import Embeddings, Metadata\n",
    "from chromadb.api.types import Documents, EmbeddingFunction, Embeddings\n",
    "from chromadb.config import Settings"
   ]
  },
  {
   "cell_type": "code",
   "execution_count": 3,
   "metadata": {},
   "outputs": [],
   "source": [
    "client = chromadb.Client(\n",
    "    Settings(chroma_db_impl=\"postgres\", postgres_username=\"postgres\", \n",
    "                                postgres_password=\"postgres\", \n",
    "                                postgres_hostname=\"localhost\", \n",
    "                                postgres_port=\"5445\", \n",
    "                                postgres_databasename=\"postgres\")\n",
    "    )\n",
    "\n",
    "# Everything that works with the client below should work with the above client\n",
    "# client = chromadb.Client()"
   ]
  },
  {
   "cell_type": "code",
   "execution_count": null,
   "metadata": {},
   "outputs": [],
   "source": []
  },
  {
   "cell_type": "code",
   "execution_count": 4,
   "metadata": {},
   "outputs": [],
   "source": [
    "collection = client.create_collection(\"all-my-documents\", get_or_create=True)\n",
    "collection2 = client.create_collection(\"empty-collection\", get_or_create=True)\n",
    "collection3 = client.get_or_create_collection(\"extra-documents\")"
   ]
  },
  {
   "cell_type": "code",
   "execution_count": 4,
   "metadata": {},
   "outputs": [
    {
     "name": "stdout",
     "output_type": "stream",
     "text": [
      "[Collection(name=all-my-documents), Collection(name=empty-collection), Collection(name=extra-documents)]\n",
      "name='all-my-documents' id=UUID('00724d6b-1ec3-4bd2-abf2-ced99ee43503') metadata=None\n"
     ]
    }
   ],
   "source": [
    "# list all collections\n",
    "print(client.list_collections())\n",
    "# get an existing collection\n",
    "print(client.get_collection(\"all-my-documents\"))"
   ]
  },
  {
   "cell_type": "code",
   "execution_count": 4,
   "metadata": {},
   "outputs": [
    {
     "name": "stdout",
     "output_type": "stream",
     "text": [
      "2\n",
      "0\n"
     ]
    }
   ],
   "source": [
    "print(collection.count())\n",
    "print(collection2.count())"
   ]
  },
  {
   "cell_type": "code",
   "execution_count": 5,
   "metadata": {},
   "outputs": [
    {
     "name": "stdout",
     "output_type": "stream",
     "text": [
      "Collection doesn't exist and throws exception as expected\n"
     ]
    }
   ],
   "source": [
    "# delete a collection that doesn't exist\n",
    "try:\n",
    "    client.delete_collection(\"dne-connection\")\n",
    "except ValueError:\n",
    "    print(\"Collection doesn't exist and throws exception as expected\")"
   ]
  },
  {
   "cell_type": "code",
   "execution_count": 9,
   "metadata": {},
   "outputs": [
    {
     "ename": "ValueError",
     "evalue": "Collection empty-collection does not exist",
     "output_type": "error",
     "traceback": [
      "\u001b[0;31m---------------------------------------------------------------------------\u001b[0m",
      "\u001b[0;31mValueError\u001b[0m                                Traceback (most recent call last)",
      "Cell \u001b[0;32mIn[9], line 2\u001b[0m\n\u001b[1;32m      1\u001b[0m \u001b[39m# delete a collection that exists\u001b[39;00m\n\u001b[0;32m----> 2\u001b[0m client\u001b[39m.\u001b[39;49mdelete_collection(\u001b[39m\"\u001b[39;49m\u001b[39mempty-collection\u001b[39;49m\u001b[39m\"\u001b[39;49m)\n",
      "File \u001b[0;32m~/Projects/polychroma/chromadb/api/local.py:230\u001b[0m, in \u001b[0;36mLocalAPI.delete_collection\u001b[0;34m(self, name)\u001b[0m\n\u001b[1;32m    216\u001b[0m \u001b[39m@override\u001b[39m\n\u001b[1;32m    217\u001b[0m \u001b[39mdef\u001b[39;00m \u001b[39mdelete_collection\u001b[39m(\u001b[39mself\u001b[39m, name: \u001b[39mstr\u001b[39m) \u001b[39m-\u001b[39m\u001b[39m>\u001b[39m \u001b[39mNone\u001b[39;00m:\n\u001b[1;32m    218\u001b[0m \u001b[39m    \u001b[39m\u001b[39m\"\"\"Delete a collection with the given name.\u001b[39;00m\n\u001b[1;32m    219\u001b[0m \u001b[39m    Args:\u001b[39;00m\n\u001b[1;32m    220\u001b[0m \u001b[39m        name: The name of the collection to delete\u001b[39;00m\n\u001b[0;32m   (...)\u001b[0m\n\u001b[1;32m    228\u001b[0m \u001b[39m        ```\u001b[39;00m\n\u001b[1;32m    229\u001b[0m \u001b[39m    \"\"\"\u001b[39;00m\n\u001b[0;32m--> 230\u001b[0m     \u001b[39mself\u001b[39;49m\u001b[39m.\u001b[39;49m_db\u001b[39m.\u001b[39;49mdelete_collection(name)\n",
      "File \u001b[0;32m~/Projects/polychroma/chromadb/db/postgres.py:247\u001b[0m, in \u001b[0;36mPostgres.delete_collection\u001b[0;34m(self, name)\u001b[0m\n\u001b[1;32m    245\u001b[0m \u001b[39m@override\u001b[39m\n\u001b[1;32m    246\u001b[0m \u001b[39mdef\u001b[39;00m \u001b[39mdelete_collection\u001b[39m(\u001b[39mself\u001b[39m, name: \u001b[39mstr\u001b[39m) \u001b[39m-\u001b[39m\u001b[39m>\u001b[39m \u001b[39mNone\u001b[39;00m:\n\u001b[0;32m--> 247\u001b[0m     collection_uuid \u001b[39m=\u001b[39m \u001b[39mself\u001b[39;49m\u001b[39m.\u001b[39;49mget_collection_uuid_from_name(name)\n\u001b[1;32m    249\u001b[0m     \u001b[39mif\u001b[39;00m \u001b[39mself\u001b[39m\u001b[39m.\u001b[39mindex_cache\u001b[39m.\u001b[39mget(collection_uuid) \u001b[39mis\u001b[39;00m \u001b[39mnot\u001b[39;00m \u001b[39mNone\u001b[39;00m:\n\u001b[1;32m    250\u001b[0m         \u001b[39mself\u001b[39m\u001b[39m.\u001b[39m_delete_index(collection_uuid)\n",
      "File \u001b[0;32m~/Projects/polychroma/chromadb/db/postgres.py:270\u001b[0m, in \u001b[0;36mPostgres.get_collection_uuid_from_name\u001b[0;34m(self, collection_name)\u001b[0m\n\u001b[1;32m    268\u001b[0m query \u001b[39m=\u001b[39m \u001b[39mf\u001b[39m\u001b[39m\"\u001b[39m\u001b[39mSELECT uuid FROM collections WHERE name = \u001b[39m\u001b[39m'\u001b[39m\u001b[39m{\u001b[39;00mcollection_name\u001b[39m}\u001b[39;00m\u001b[39m'\u001b[39m\u001b[39m\"\u001b[39m\n\u001b[1;32m    269\u001b[0m res \u001b[39m=\u001b[39m \u001b[39mself\u001b[39m\u001b[39m.\u001b[39m_execute_query_with_response(query)\n\u001b[0;32m--> 270\u001b[0m \u001b[39mself\u001b[39;49m\u001b[39m.\u001b[39;49m_screen_get_collection_response(res, collection_name)\n\u001b[1;32m    271\u001b[0m \u001b[39mreturn\u001b[39;00m cast(UUID, res[\u001b[39m0\u001b[39m][\u001b[39m0\u001b[39m])\n",
      "File \u001b[0;32m~/Projects/polychroma/chromadb/db/postgres.py:101\u001b[0m, in \u001b[0;36mPostgres._screen_get_collection_response\u001b[0;34m(self, res, collection_identifier)\u001b[0m\n\u001b[1;32m     97\u001b[0m \u001b[39mdef\u001b[39;00m \u001b[39m_screen_get_collection_response\u001b[39m(\n\u001b[1;32m     98\u001b[0m     \u001b[39mself\u001b[39m, res: \u001b[39mlist\u001b[39m[\u001b[39mtuple\u001b[39m[Any, \u001b[39m.\u001b[39m\u001b[39m.\u001b[39m\u001b[39m.\u001b[39m]], collection_identifier: \u001b[39mstr\u001b[39m\n\u001b[1;32m     99\u001b[0m ) \u001b[39m-\u001b[39m\u001b[39m>\u001b[39m \u001b[39mNone\u001b[39;00m:\n\u001b[1;32m    100\u001b[0m     \u001b[39mif\u001b[39;00m \u001b[39mlen\u001b[39m(res) \u001b[39m==\u001b[39m \u001b[39m0\u001b[39m:\n\u001b[0;32m--> 101\u001b[0m         \u001b[39mraise\u001b[39;00m \u001b[39mValueError\u001b[39;00m(\u001b[39mf\u001b[39m\u001b[39m\"\u001b[39m\u001b[39mCollection \u001b[39m\u001b[39m{\u001b[39;00mcollection_identifier\u001b[39m}\u001b[39;00m\u001b[39m does not exist\u001b[39m\u001b[39m\"\u001b[39m)\n\u001b[1;32m    102\u001b[0m     \u001b[39mif\u001b[39;00m \u001b[39mlen\u001b[39m(res) \u001b[39m>\u001b[39m \u001b[39m1\u001b[39m:\n\u001b[1;32m    103\u001b[0m         \u001b[39mraise\u001b[39;00m \u001b[39mValueError\u001b[39;00m(\n\u001b[1;32m    104\u001b[0m             \u001b[39m\"\u001b[39m\u001b[39mMore than one collection with identifier\u001b[39m\u001b[39m\"\u001b[39m\n\u001b[1;32m    105\u001b[0m             \u001b[39mf\u001b[39m\u001b[39m\"\u001b[39m\u001b[39m \u001b[39m\u001b[39m{\u001b[39;00mcollection_identifier\u001b[39m}\u001b[39;00m\u001b[39m found\u001b[39m\u001b[39m\"\u001b[39m\n\u001b[1;32m    106\u001b[0m         )\n",
      "\u001b[0;31mValueError\u001b[0m: Collection empty-collection does not exist"
     ]
    }
   ],
   "source": [
    "# delete a collection that exists\n",
    "client.delete_collection(\"empty-collection\")"
   ]
  },
  {
   "cell_type": "code",
   "execution_count": 10,
   "metadata": {},
   "outputs": [
    {
     "ename": "InFailedSqlTransaction",
     "evalue": "current transaction is aborted, commands ignored until end of transaction block\n",
     "output_type": "error",
     "traceback": [
      "\u001b[0;31m---------------------------------------------------------------------------\u001b[0m",
      "\u001b[0;31mInFailedSqlTransaction\u001b[0m                    Traceback (most recent call last)",
      "Cell \u001b[0;32mIn[10], line 1\u001b[0m\n\u001b[0;32m----> 1\u001b[0m collection\u001b[39m.\u001b[39;49mmodify(name\u001b[39m=\u001b[39;49m\u001b[39m\"\u001b[39;49m\u001b[39mupdated-documents\u001b[39;49m\u001b[39m\"\u001b[39;49m, metadata\u001b[39m=\u001b[39;49m{\u001b[39m\"\u001b[39;49m\u001b[39mtest\u001b[39;49m\u001b[39m\"\u001b[39;49m: \u001b[39m\"\u001b[39;49m\u001b[39mmetadata-test-success\u001b[39;49m\u001b[39m\"\u001b[39;49m})\n",
      "File \u001b[0;32m~/Projects/polychroma/chromadb/api/models/Collection.py:244\u001b[0m, in \u001b[0;36mCollection.modify\u001b[0;34m(self, name, metadata)\u001b[0m\n\u001b[1;32m    232\u001b[0m \u001b[39mdef\u001b[39;00m \u001b[39mmodify\u001b[39m(\n\u001b[1;32m    233\u001b[0m     \u001b[39mself\u001b[39m, name: Optional[\u001b[39mstr\u001b[39m] \u001b[39m=\u001b[39m \u001b[39mNone\u001b[39;00m, metadata: Optional[CollectionMetadata] \u001b[39m=\u001b[39m \u001b[39mNone\u001b[39;00m\n\u001b[1;32m    234\u001b[0m ) \u001b[39m-\u001b[39m\u001b[39m>\u001b[39m \u001b[39mNone\u001b[39;00m:\n\u001b[1;32m    235\u001b[0m \u001b[39m    \u001b[39m\u001b[39m\"\"\"Modify the collection name or metadata\u001b[39;00m\n\u001b[1;32m    236\u001b[0m \n\u001b[1;32m    237\u001b[0m \u001b[39m    Args:\u001b[39;00m\n\u001b[0;32m   (...)\u001b[0m\n\u001b[1;32m    242\u001b[0m \u001b[39m        None\u001b[39;00m\n\u001b[1;32m    243\u001b[0m \u001b[39m    \"\"\"\u001b[39;00m\n\u001b[0;32m--> 244\u001b[0m     \u001b[39mself\u001b[39;49m\u001b[39m.\u001b[39;49m_client\u001b[39m.\u001b[39;49m_modify(\u001b[39mid\u001b[39;49m\u001b[39m=\u001b[39;49m\u001b[39mself\u001b[39;49m\u001b[39m.\u001b[39;49mid, new_name\u001b[39m=\u001b[39;49mname, new_metadata\u001b[39m=\u001b[39;49mmetadata)\n\u001b[1;32m    245\u001b[0m     \u001b[39mif\u001b[39;00m name:\n\u001b[1;32m    246\u001b[0m         \u001b[39mself\u001b[39m\u001b[39m.\u001b[39mname \u001b[39m=\u001b[39m name\n",
      "File \u001b[0;32m~/Projects/polychroma/chromadb/api/local.py:214\u001b[0m, in \u001b[0;36mLocalAPI._modify\u001b[0;34m(self, id, new_name, new_metadata)\u001b[0m\n\u001b[1;32m    211\u001b[0m \u001b[39mif\u001b[39;00m new_name \u001b[39mis\u001b[39;00m \u001b[39mnot\u001b[39;00m \u001b[39mNone\u001b[39;00m:\n\u001b[1;32m    212\u001b[0m     check_index_name(new_name)\n\u001b[0;32m--> 214\u001b[0m \u001b[39mself\u001b[39;49m\u001b[39m.\u001b[39;49m_db\u001b[39m.\u001b[39;49mupdate_collection(\u001b[39mid\u001b[39;49m, new_name, new_metadata)\n",
      "File \u001b[0;32m~/Projects/polychroma/chromadb/db/postgres.py:198\u001b[0m, in \u001b[0;36mPostgres.update_collection\u001b[0;34m(self, id, new_name, new_metadata)\u001b[0m\n\u001b[1;32m    195\u001b[0m update_query \u001b[39m=\u001b[39m Query\u001b[39m.\u001b[39mupdate(collections_table)\n\u001b[1;32m    197\u001b[0m \u001b[39mif\u001b[39;00m new_name \u001b[39mis\u001b[39;00m \u001b[39mnot\u001b[39;00m \u001b[39mNone\u001b[39;00m:\n\u001b[0;32m--> 198\u001b[0m     dupe_check \u001b[39m=\u001b[39m \u001b[39mself\u001b[39;49m\u001b[39m.\u001b[39;49mget_collection(new_name)\n\u001b[1;32m    199\u001b[0m     \u001b[39mif\u001b[39;00m \u001b[39mlen\u001b[39m(dupe_check) \u001b[39m>\u001b[39m \u001b[39m0\u001b[39m \u001b[39mand\u001b[39;00m dupe_check[\u001b[39m0\u001b[39m][\u001b[39m0\u001b[39m] \u001b[39m!=\u001b[39m \u001b[39mid\u001b[39m:\n\u001b[1;32m    200\u001b[0m         \u001b[39mraise\u001b[39;00m \u001b[39mValueError\u001b[39;00m(\u001b[39mf\u001b[39m\u001b[39m\"\u001b[39m\u001b[39mCollection with name \u001b[39m\u001b[39m{\u001b[39;00mnew_name\u001b[39m}\u001b[39;00m\u001b[39m already exists\u001b[39m\u001b[39m\"\u001b[39m)\n",
      "File \u001b[0;32m~/Projects/polychroma/chromadb/db/postgres.py:170\u001b[0m, in \u001b[0;36mPostgres.get_collection\u001b[0;34m(self, name)\u001b[0m\n\u001b[1;32m    167\u001b[0m \u001b[39m@override\u001b[39m  \u001b[39m# TODO: Add optional column parameters to include/rm\u001b[39;00m\n\u001b[1;32m    168\u001b[0m \u001b[39mdef\u001b[39;00m \u001b[39mget_collection\u001b[39m(\u001b[39mself\u001b[39m, name: \u001b[39mstr\u001b[39m) \u001b[39m-\u001b[39m\u001b[39m>\u001b[39m Sequence[Any]:\n\u001b[1;32m    169\u001b[0m     query \u001b[39m=\u001b[39m \u001b[39mf\u001b[39m\u001b[39m\"\u001b[39m\u001b[39mSELECT * FROM collections WHERE name = \u001b[39m\u001b[39m'\u001b[39m\u001b[39m{\u001b[39;00mname\u001b[39m}\u001b[39;00m\u001b[39m'\u001b[39m\u001b[39m\"\u001b[39m\n\u001b[0;32m--> 170\u001b[0m     res \u001b[39m=\u001b[39m \u001b[39mself\u001b[39;49m\u001b[39m.\u001b[39;49m_execute_query_with_response(query)\n\u001b[1;32m    171\u001b[0m     \u001b[39m# json.loads for metadata not needed, psycopg2 does it automatically\u001b[39;00m\n\u001b[1;32m    172\u001b[0m     \u001b[39mreturn\u001b[39;00m [[x[\u001b[39m0\u001b[39m], x[\u001b[39m1\u001b[39m], x[\u001b[39m2\u001b[39m], x[\u001b[39m3\u001b[39m]] \u001b[39mfor\u001b[39;00m x \u001b[39min\u001b[39;00m res]\n",
      "File \u001b[0;32m~/Projects/polychroma/chromadb/db/postgres.py:105\u001b[0m, in \u001b[0;36mPostgres._execute_query_with_response\u001b[0;34m(self, query)\u001b[0m\n\u001b[1;32m    103\u001b[0m \u001b[39mdef\u001b[39;00m \u001b[39m_execute_query_with_response\u001b[39m(\u001b[39mself\u001b[39m, query: \u001b[39mstr\u001b[39m):  \u001b[39m# type: ignore\u001b[39;00m\n\u001b[1;32m    104\u001b[0m     \u001b[39mwith\u001b[39;00m \u001b[39mself\u001b[39m\u001b[39m.\u001b[39m_get_conn()\u001b[39m.\u001b[39mcursor() \u001b[39mas\u001b[39;00m curs:\n\u001b[0;32m--> 105\u001b[0m         curs\u001b[39m.\u001b[39;49mexecute(query)\n\u001b[1;32m    106\u001b[0m         res \u001b[39m=\u001b[39m curs\u001b[39m.\u001b[39mfetchall()\n\u001b[1;32m    107\u001b[0m     \u001b[39mself\u001b[39m\u001b[39m.\u001b[39m_conn\u001b[39m.\u001b[39mcommit()\n",
      "\u001b[0;31mInFailedSqlTransaction\u001b[0m: current transaction is aborted, commands ignored until end of transaction block\n"
     ]
    }
   ],
   "source": [
    "# collection.modify(name=\"updated-documents\", metadata={\"test\": \"metadata-test-success\"})"
   ]
  },
  {
   "cell_type": "code",
   "execution_count": 5,
   "metadata": {},
   "outputs": [
    {
     "ename": "IDAlreadyExistsError",
     "evalue": "IDs ['doc1', 'doc2'] already exist in collection 2a48e5df-f275-4915-b97f-82805e8c2536",
     "output_type": "error",
     "traceback": [
      "\u001b[0;31m---------------------------------------------------------------------------\u001b[0m",
      "\u001b[0;31mIDAlreadyExistsError\u001b[0m                      Traceback (most recent call last)",
      "Cell \u001b[0;32mIn[5], line 2\u001b[0m\n\u001b[1;32m      1\u001b[0m \u001b[39m# Add docs to the collection. Can also update and delete. Row-based API coming soon!\u001b[39;00m\n\u001b[0;32m----> 2\u001b[0m collection\u001b[39m.\u001b[39;49madd(\n\u001b[1;32m      3\u001b[0m     documents\u001b[39m=\u001b[39;49m[\u001b[39m\"\u001b[39;49m\u001b[39mThis is document1\u001b[39;49m\u001b[39m\"\u001b[39;49m, \u001b[39m\"\u001b[39;49m\u001b[39mThis is document2\u001b[39;49m\u001b[39m\"\u001b[39;49m], \u001b[39m# we handle tokenization, embedding, and indexing automatically. You can skip that and add your own embeddings as well\u001b[39;49;00m\n\u001b[1;32m      4\u001b[0m     metadatas\u001b[39m=\u001b[39;49m[{\u001b[39m\"\u001b[39;49m\u001b[39msource\u001b[39;49m\u001b[39m\"\u001b[39;49m: \u001b[39m\"\u001b[39;49m\u001b[39mnotion\u001b[39;49m\u001b[39m\"\u001b[39;49m}, {\u001b[39m\"\u001b[39;49m\u001b[39msource\u001b[39;49m\u001b[39m\"\u001b[39;49m: \u001b[39m\"\u001b[39;49m\u001b[39mgoogle-docs\u001b[39;49m\u001b[39m\"\u001b[39;49m}], \u001b[39m# filter on these!\u001b[39;49;00m\n\u001b[1;32m      5\u001b[0m     ids\u001b[39m=\u001b[39;49m[\u001b[39m\"\u001b[39;49m\u001b[39mdoc1\u001b[39;49m\u001b[39m\"\u001b[39;49m, \u001b[39m\"\u001b[39;49m\u001b[39mdoc2\u001b[39;49m\u001b[39m\"\u001b[39;49m], \u001b[39m# unique for each doc\u001b[39;49;00m\n\u001b[1;32m      6\u001b[0m )\n",
      "File \u001b[0;32m~/Projects/polychroma/chromadb/api/models/Collection.py:100\u001b[0m, in \u001b[0;36mCollection.add\u001b[0;34m(self, ids, embeddings, metadatas, documents, increment_index)\u001b[0m\n\u001b[1;32m     76\u001b[0m \u001b[39m\u001b[39m\u001b[39m\"\"\"Add embeddings to the data store.\u001b[39;00m\n\u001b[1;32m     77\u001b[0m \u001b[39mArgs:\u001b[39;00m\n\u001b[1;32m     78\u001b[0m \u001b[39m    ids: The ids of the embeddings you wish to add\u001b[39;00m\n\u001b[0;32m   (...)\u001b[0m\n\u001b[1;32m     93\u001b[0m \n\u001b[1;32m     94\u001b[0m \u001b[39m\"\"\"\u001b[39;00m\n\u001b[1;32m     96\u001b[0m ids, embeddings, metadatas, documents \u001b[39m=\u001b[39m \u001b[39mself\u001b[39m\u001b[39m.\u001b[39m_validate_embedding_set(\n\u001b[1;32m     97\u001b[0m     ids, embeddings, metadatas, documents\n\u001b[1;32m     98\u001b[0m )\n\u001b[0;32m--> 100\u001b[0m \u001b[39mself\u001b[39;49m\u001b[39m.\u001b[39;49m_client\u001b[39m.\u001b[39;49m_add(\n\u001b[1;32m    101\u001b[0m     ids, \u001b[39mself\u001b[39;49m\u001b[39m.\u001b[39;49mid, embeddings, metadatas, documents, increment_index\n\u001b[1;32m    102\u001b[0m )\n",
      "File \u001b[0;32m~/Projects/polychroma/chromadb/api/local.py:247\u001b[0m, in \u001b[0;36mLocalAPI._add\u001b[0;34m(self, ids, collection_id, embeddings, metadatas, documents, increment_index)\u001b[0m\n\u001b[1;32m    245\u001b[0m existing_ids \u001b[39m=\u001b[39m \u001b[39mself\u001b[39m\u001b[39m.\u001b[39m_get(collection_id, ids\u001b[39m=\u001b[39mids, include\u001b[39m=\u001b[39m[])[\u001b[39m\"\u001b[39m\u001b[39mids\u001b[39m\u001b[39m\"\u001b[39m]\n\u001b[1;32m    246\u001b[0m \u001b[39mif\u001b[39;00m \u001b[39mlen\u001b[39m(existing_ids) \u001b[39m>\u001b[39m \u001b[39m0\u001b[39m:\n\u001b[0;32m--> 247\u001b[0m     \u001b[39mraise\u001b[39;00m errors\u001b[39m.\u001b[39mIDAlreadyExistsError(\n\u001b[1;32m    248\u001b[0m         \u001b[39mf\u001b[39m\u001b[39m\"\u001b[39m\u001b[39mIDs \u001b[39m\u001b[39m{\u001b[39;00mexisting_ids\u001b[39m}\u001b[39;00m\u001b[39m already exist in collection \u001b[39m\u001b[39m{\u001b[39;00mcollection_id\u001b[39m}\u001b[39;00m\u001b[39m\"\u001b[39m\n\u001b[1;32m    249\u001b[0m     )\n\u001b[1;32m    251\u001b[0m added_uuids \u001b[39m=\u001b[39m \u001b[39mself\u001b[39m\u001b[39m.\u001b[39m_db\u001b[39m.\u001b[39madd(\n\u001b[1;32m    252\u001b[0m     collection_id,\n\u001b[1;32m    253\u001b[0m     embeddings\u001b[39m=\u001b[39membeddings,\n\u001b[0;32m   (...)\u001b[0m\n\u001b[1;32m    256\u001b[0m     ids\u001b[39m=\u001b[39mids,\n\u001b[1;32m    257\u001b[0m )\n\u001b[1;32m    259\u001b[0m \u001b[39mif\u001b[39;00m increment_index:\n",
      "\u001b[0;31mIDAlreadyExistsError\u001b[0m: IDs ['doc1', 'doc2'] already exist in collection 2a48e5df-f275-4915-b97f-82805e8c2536"
     ]
    }
   ],
   "source": [
    "# Add docs to the collection. Can also update and delete. Row-based API coming soon!\n",
    "collection.add(\n",
    "    documents=[\"This is document1\", \"This is document2\"], # we handle tokenization, embedding, and indexing automatically. You can skip that and add your own embeddings as well\n",
    "    metadatas=[{\"source\": \"notion\"}, {\"source\": \"google-docs\"}], # filter on these!\n",
    "    ids=[\"doc1\", \"doc2\"], # unique for each doc\n",
    ")"
   ]
  },
  {
   "cell_type": "code",
   "execution_count": 5,
   "metadata": {},
   "outputs": [
    {
     "data": {
      "text/plain": [
       "2"
      ]
     },
     "execution_count": 5,
     "metadata": {},
     "output_type": "execute_result"
    }
   ],
   "source": [
    "collection.count()"
   ]
  },
  {
   "cell_type": "code",
   "execution_count": 6,
   "metadata": {},
   "outputs": [
    {
     "ename": "IDAlreadyExistsError",
     "evalue": "IDs ['doc1', 'doc2'] already exist in collection 2a48e5df-f275-4915-b97f-82805e8c2536",
     "output_type": "error",
     "traceback": [
      "\u001b[0;31m---------------------------------------------------------------------------\u001b[0m",
      "\u001b[0;31mIDAlreadyExistsError\u001b[0m                      Traceback (most recent call last)",
      "Cell \u001b[0;32mIn[6], line 2\u001b[0m\n\u001b[1;32m      1\u001b[0m \u001b[39m# upsert items. new items will be added, existing items will be updated.\u001b[39;00m\n\u001b[0;32m----> 2\u001b[0m collection\u001b[39m.\u001b[39;49mupsert(\n\u001b[1;32m      3\u001b[0m     ids\u001b[39m=\u001b[39;49m[\u001b[39m\"\u001b[39;49m\u001b[39mdoc1\u001b[39;49m\u001b[39m\"\u001b[39;49m, \u001b[39m\"\u001b[39;49m\u001b[39mdoc2\u001b[39;49m\u001b[39m\"\u001b[39;49m, \u001b[39m\"\u001b[39;49m\u001b[39mdoc3\u001b[39;49m\u001b[39m\"\u001b[39;49m],\n\u001b[1;32m      4\u001b[0m     metadatas\u001b[39m=\u001b[39;49m[{\u001b[39m\"\u001b[39;49m\u001b[39mchapter\u001b[39;49m\u001b[39m\"\u001b[39;49m: \u001b[39m\"\u001b[39;49m\u001b[39m3\u001b[39;49m\u001b[39m\"\u001b[39;49m, \u001b[39m\"\u001b[39;49m\u001b[39mverse\u001b[39;49m\u001b[39m\"\u001b[39;49m: \u001b[39m\"\u001b[39;49m\u001b[39m16\u001b[39;49m\u001b[39m\"\u001b[39;49m}, {\u001b[39m\"\u001b[39;49m\u001b[39mchapter\u001b[39;49m\u001b[39m\"\u001b[39;49m: \u001b[39m\"\u001b[39;49m\u001b[39m3\u001b[39;49m\u001b[39m\"\u001b[39;49m, \u001b[39m\"\u001b[39;49m\u001b[39mverse\u001b[39;49m\u001b[39m\"\u001b[39;49m: \u001b[39m\"\u001b[39;49m\u001b[39m5\u001b[39;49m\u001b[39m\"\u001b[39;49m}, {\u001b[39m\"\u001b[39;49m\u001b[39mchapter\u001b[39;49m\u001b[39m\"\u001b[39;49m: \u001b[39m\"\u001b[39;49m\u001b[39m29\u001b[39;49m\u001b[39m\"\u001b[39;49m, \u001b[39m\"\u001b[39;49m\u001b[39mverse\u001b[39;49m\u001b[39m\"\u001b[39;49m: \u001b[39m\"\u001b[39;49m\u001b[39m11\u001b[39;49m\u001b[39m\"\u001b[39;49m}],\n\u001b[1;32m      5\u001b[0m     documents\u001b[39m=\u001b[39;49m[\u001b[39m\"\u001b[39;49m\u001b[39mdoc1\u001b[39;49m\u001b[39m\"\u001b[39;49m, \u001b[39m\"\u001b[39;49m\u001b[39mdoc2\u001b[39;49m\u001b[39m\"\u001b[39;49m, \u001b[39m\"\u001b[39;49m\u001b[39mdoc3\u001b[39;49m\u001b[39m\"\u001b[39;49m],\n\u001b[1;32m      6\u001b[0m )\n",
      "File \u001b[0;32m~/Projects/polychroma/chromadb/api/models/Collection.py:299\u001b[0m, in \u001b[0;36mCollection.upsert\u001b[0;34m(self, ids, embeddings, metadatas, documents, increment_index)\u001b[0m\n\u001b[1;32m    283\u001b[0m \u001b[39m\u001b[39m\u001b[39m\"\"\"Update the embeddings, metadatas or documents for provided ids, or create them if they don't exist.\u001b[39;00m\n\u001b[1;32m    284\u001b[0m \n\u001b[1;32m    285\u001b[0m \u001b[39mArgs:\u001b[39;00m\n\u001b[0;32m   (...)\u001b[0m\n\u001b[1;32m    292\u001b[0m \u001b[39m    None\u001b[39;00m\n\u001b[1;32m    293\u001b[0m \u001b[39m\"\"\"\u001b[39;00m\n\u001b[1;32m    295\u001b[0m ids, embeddings, metadatas, documents \u001b[39m=\u001b[39m \u001b[39mself\u001b[39m\u001b[39m.\u001b[39m_validate_embedding_set(\n\u001b[1;32m    296\u001b[0m     ids, embeddings, metadatas, documents\n\u001b[1;32m    297\u001b[0m )\n\u001b[0;32m--> 299\u001b[0m \u001b[39mself\u001b[39;49m\u001b[39m.\u001b[39;49m_client\u001b[39m.\u001b[39;49m_upsert(\n\u001b[1;32m    300\u001b[0m     collection_id\u001b[39m=\u001b[39;49m\u001b[39mself\u001b[39;49m\u001b[39m.\u001b[39;49mid,\n\u001b[1;32m    301\u001b[0m     ids\u001b[39m=\u001b[39;49mids,\n\u001b[1;32m    302\u001b[0m     embeddings\u001b[39m=\u001b[39;49membeddings,\n\u001b[1;32m    303\u001b[0m     metadatas\u001b[39m=\u001b[39;49mmetadatas,\n\u001b[1;32m    304\u001b[0m     documents\u001b[39m=\u001b[39;49mdocuments,\n\u001b[1;32m    305\u001b[0m     increment_index\u001b[39m=\u001b[39;49mincrement_index,\n\u001b[1;32m    306\u001b[0m )\n",
      "File \u001b[0;32m~/Projects/polychroma/chromadb/api/local.py:318\u001b[0m, in \u001b[0;36mLocalAPI._upsert\u001b[0;34m(self, collection_id, ids, embeddings, metadatas, documents, increment_index)\u001b[0m\n\u001b[1;32m    315\u001b[0m             documents_to_add\u001b[39m.\u001b[39mappend(documents[i])  \u001b[39m# type: ignore\u001b[39;00m\n\u001b[1;32m    317\u001b[0m \u001b[39mif\u001b[39;00m \u001b[39mlen\u001b[39m(ids_to_add) \u001b[39m>\u001b[39m \u001b[39m0\u001b[39m:\n\u001b[0;32m--> 318\u001b[0m     \u001b[39mself\u001b[39;49m\u001b[39m.\u001b[39;49m_add(\n\u001b[1;32m    319\u001b[0m         ids_to_add,\n\u001b[1;32m    320\u001b[0m         collection_id,\n\u001b[1;32m    321\u001b[0m         embeddings_to_add,\n\u001b[1;32m    322\u001b[0m         metadatas_to_add,\n\u001b[1;32m    323\u001b[0m         documents_to_add,\n\u001b[1;32m    324\u001b[0m         increment_index\u001b[39m=\u001b[39;49mincrement_index,\n\u001b[1;32m    325\u001b[0m     )\n\u001b[1;32m    327\u001b[0m \u001b[39mif\u001b[39;00m \u001b[39mlen\u001b[39m(ids_to_update) \u001b[39m>\u001b[39m \u001b[39m0\u001b[39m:\n\u001b[1;32m    328\u001b[0m     \u001b[39mself\u001b[39m\u001b[39m.\u001b[39m_update(\n\u001b[1;32m    329\u001b[0m         collection_id,\n\u001b[1;32m    330\u001b[0m         ids_to_update,\n\u001b[0;32m   (...)\u001b[0m\n\u001b[1;32m    333\u001b[0m         documents_to_update,\n\u001b[1;32m    334\u001b[0m     )\n",
      "File \u001b[0;32m~/Projects/polychroma/chromadb/api/local.py:247\u001b[0m, in \u001b[0;36mLocalAPI._add\u001b[0;34m(self, ids, collection_id, embeddings, metadatas, documents, increment_index)\u001b[0m\n\u001b[1;32m    245\u001b[0m existing_ids \u001b[39m=\u001b[39m \u001b[39mself\u001b[39m\u001b[39m.\u001b[39m_get(collection_id, ids\u001b[39m=\u001b[39mids, include\u001b[39m=\u001b[39m[])[\u001b[39m\"\u001b[39m\u001b[39mids\u001b[39m\u001b[39m\"\u001b[39m]\n\u001b[1;32m    246\u001b[0m \u001b[39mif\u001b[39;00m \u001b[39mlen\u001b[39m(existing_ids) \u001b[39m>\u001b[39m \u001b[39m0\u001b[39m:\n\u001b[0;32m--> 247\u001b[0m     \u001b[39mraise\u001b[39;00m errors\u001b[39m.\u001b[39mIDAlreadyExistsError(\n\u001b[1;32m    248\u001b[0m         \u001b[39mf\u001b[39m\u001b[39m\"\u001b[39m\u001b[39mIDs \u001b[39m\u001b[39m{\u001b[39;00mexisting_ids\u001b[39m}\u001b[39;00m\u001b[39m already exist in collection \u001b[39m\u001b[39m{\u001b[39;00mcollection_id\u001b[39m}\u001b[39;00m\u001b[39m\"\u001b[39m\n\u001b[1;32m    249\u001b[0m     )\n\u001b[1;32m    251\u001b[0m added_uuids \u001b[39m=\u001b[39m \u001b[39mself\u001b[39m\u001b[39m.\u001b[39m_db\u001b[39m.\u001b[39madd(\n\u001b[1;32m    252\u001b[0m     collection_id,\n\u001b[1;32m    253\u001b[0m     embeddings\u001b[39m=\u001b[39membeddings,\n\u001b[0;32m   (...)\u001b[0m\n\u001b[1;32m    256\u001b[0m     ids\u001b[39m=\u001b[39mids,\n\u001b[1;32m    257\u001b[0m )\n\u001b[1;32m    259\u001b[0m \u001b[39mif\u001b[39;00m increment_index:\n",
      "\u001b[0;31mIDAlreadyExistsError\u001b[0m: IDs ['doc1', 'doc2'] already exist in collection 2a48e5df-f275-4915-b97f-82805e8c2536"
     ]
    }
   ],
   "source": [
    "# upsert items. new items will be added, existing items will be updated.\n",
    "collection.upsert(\n",
    "    ids=[\"doc1\", \"doc2\", \"doc3\"],\n",
    "    metadatas=[{\"chapter\": \"3\", \"verse\": \"16\"}, {\"chapter\": \"3\", \"verse\": \"5\"}, {\"chapter\": \"29\", \"verse\": \"11\"}],\n",
    "    documents=[\"doc1\", \"doc2\", \"doc3\"],\n",
    ")"
   ]
  },
  {
   "cell_type": "code",
   "execution_count": 5,
   "metadata": {},
   "outputs": [],
   "source": [
    "from pypika import Query, Table\n",
    "\n",
    "pg_embeddings_table = Table(\"embeddings711\")\n",
    "query = Query.from_(pg_embeddings_table).select(\"*\").limit(10).orderby(\"%s\", \"%s\").where(pg_embeddings_table.uuid.isin([1,2,3]))"
   ]
  },
  {
   "cell_type": "code",
   "execution_count": 18,
   "metadata": {},
   "outputs": [
    {
     "name": "stdout",
     "output_type": "stream",
     "text": [
      "SELECT * FROM \"embeddings711\" WHERE \"uuid\" IN ('12341231-12341234-123412343-32342341234123') ORDER BY \"embedding <=> '[1, 2, 3]'\",\"embedding <=> '[4, 5, 6]'\" LIMIT 10\n",
      "SELECT * FROM \"embeddings711\" WHERE \"uuid\" IN ('12341231-12341234-123412343-32342341234123') ORDER BY \"embedding\" <=> '[1, 2, 3]',\"embedding\" <=> '[4, 5, 6]' LIMIT 10\n"
     ]
    }
   ],
   "source": [
    "import re\n",
    "pg_embeddings_table = Table(\"embeddings711\")\n",
    "query = (\n",
    "    Query.from_(pg_embeddings_table)\n",
    "    .select(\"*\")\n",
    "    .limit(10)\n",
    "    .where(pg_embeddings_table.uuid.isin(['12341231-12341234-123412343-32342341234123']))\n",
    ")\n",
    "embeddings = [[1,2,3], [4,5,6]]\n",
    "if embeddings is not None:\n",
    "    for embedding in embeddings:\n",
    "        query = query.orderby(\n",
    "            f\"embedding <=> '{embedding}'\"\n",
    "        )\n",
    "\n",
    "print(query)\n",
    "split_query = re.split('ORDER BY|LIMIT', str(query))\n",
    "split_query[1] = split_query[1].replace('\"', '').replace('embedding', '\"embedding\"')\n",
    "query = split_query[0] + 'ORDER BY' + split_query[1] + 'LIMIT' + split_query[2]\n",
    "print(query)\n"
   ]
  },
  {
   "cell_type": "code",
   "execution_count": 8,
   "metadata": {},
   "outputs": [
    {
     "name": "stdout",
     "output_type": "stream",
     "text": [
      "SELECT * FROM table_name ORDER BY column_name, ---\" LIMIT 10\n"
     ]
    }
   ],
   "source": [
    "import regex as re\n",
    "\n",
    "text = 'SELECT * FROM table_name ORDER BY column_name, \"field1\", \"field2\" LIMIT 10'\n",
    "pattern = r'(?<=ORDER BY.*?)\"(.*?)(?=\".*?LIMIT)'\n",
    "\n",
    "substitution = '-'\n",
    "\n",
    "result = re.sub(pattern, substitution, text)\n",
    "print(result)"
   ]
  },
  {
   "cell_type": "code",
   "execution_count": null,
   "metadata": {},
   "outputs": [],
   "source": []
  }
 ],
 "metadata": {
  "kernelspec": {
   "display_name": "venv",
   "language": "python",
   "name": "python3"
  },
  "language_info": {
   "codemirror_mode": {
    "name": "ipython",
    "version": 3
   },
   "file_extension": ".py",
   "mimetype": "text/x-python",
   "name": "python",
   "nbconvert_exporter": "python",
   "pygments_lexer": "ipython3",
   "version": "3.9.6"
  },
  "orig_nbformat": 4
 },
 "nbformat": 4,
 "nbformat_minor": 2
}
