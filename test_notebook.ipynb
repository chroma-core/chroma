{
 "cells": [
  {
   "cell_type": "code",
   "execution_count": 1,
   "metadata": {},
   "outputs": [],
   "source": [
    "import chromadb\n",
    "from chromadb.api.types import Embeddings, Metadata\n",
    "from chromadb.api.types import Documents, EmbeddingFunction, Embeddings\n",
    "from chromadb.config import Settings"
   ]
  },
  {
   "cell_type": "code",
   "execution_count": 2,
   "metadata": {},
   "outputs": [],
   "source": [
    "client = chromadb.Client(\n",
    "    Settings(chroma_db_impl=\"postgres\", postgres_username=\"postgres\", \n",
    "                                postgres_password=\"postgres\", \n",
    "                                postgres_hostname=\"localhost\", \n",
    "                                postgres_port=\"5445\", \n",
    "                                postgres_databasename=\"postgres\")\n",
    "    )\n",
    "\n",
    "# Everything that works with the client below should work with the above client\n",
    "# client = chromadb.Client()"
   ]
  },
  {
   "cell_type": "code",
   "execution_count": null,
   "metadata": {},
   "outputs": [],
   "source": []
  },
  {
   "cell_type": "code",
   "execution_count": 3,
   "metadata": {},
   "outputs": [],
   "source": [
    "collection = client.create_collection(\"all-my-documents\", get_or_create=True)\n",
    "collection2 = client.create_collection(\"empty-collection\", get_or_create=True)\n",
    "collection3 = client.get_or_create_collection(\"extra-documents\")"
   ]
  },
  {
   "cell_type": "code",
   "execution_count": 4,
   "metadata": {},
   "outputs": [
    {
     "name": "stdout",
     "output_type": "stream",
     "text": [
      "[Collection(name=extra-documents), Collection(name=all-my-documents), Collection(name=empty-collection)]\n",
      "name='all-my-documents' id=UUID('2a48e5df-f275-4915-b97f-82805e8c2536') metadata=None\n"
     ]
    }
   ],
   "source": [
    "# list all collections\n",
    "print(client.list_collections())\n",
    "# get an existing collection\n",
    "print(client.get_collection(\"all-my-documents\"))"
   ]
  },
  {
   "cell_type": "code",
   "execution_count": 5,
   "metadata": {},
   "outputs": [
    {
     "name": "stdout",
     "output_type": "stream",
     "text": [
      "2\n",
      "0\n"
     ]
    }
   ],
   "source": [
    "print(collection.count())\n",
    "print(collection2.count())"
   ]
  },
  {
   "cell_type": "code",
   "execution_count": 6,
   "metadata": {},
   "outputs": [
    {
     "name": "stdout",
     "output_type": "stream",
     "text": [
      "Collection doesn't exist and throws exception as expected\n"
     ]
    }
   ],
   "source": [
    "# delete a collection that doesn't exist\n",
    "try:\n",
    "    client.delete_collection(\"dne-connection\")\n",
    "except ValueError:\n",
    "    print(\"Collection doesn't exist and throws exception as expected\")"
   ]
  },
  {
   "cell_type": "code",
   "execution_count": 9,
   "metadata": {},
   "outputs": [
    {
     "ename": "ValueError",
     "evalue": "Collection empty-collection does not exist",
     "output_type": "error",
     "traceback": [
      "\u001b[0;31m---------------------------------------------------------------------------\u001b[0m",
      "\u001b[0;31mValueError\u001b[0m                                Traceback (most recent call last)",
      "Cell \u001b[0;32mIn[9], line 2\u001b[0m\n\u001b[1;32m      1\u001b[0m \u001b[39m# delete a collection that exists\u001b[39;00m\n\u001b[0;32m----> 2\u001b[0m client\u001b[39m.\u001b[39;49mdelete_collection(\u001b[39m\"\u001b[39;49m\u001b[39mempty-collection\u001b[39;49m\u001b[39m\"\u001b[39;49m)\n",
      "File \u001b[0;32m~/Projects/polychroma/chromadb/api/local.py:230\u001b[0m, in \u001b[0;36mLocalAPI.delete_collection\u001b[0;34m(self, name)\u001b[0m\n\u001b[1;32m    216\u001b[0m \u001b[39m@override\u001b[39m\n\u001b[1;32m    217\u001b[0m \u001b[39mdef\u001b[39;00m \u001b[39mdelete_collection\u001b[39m(\u001b[39mself\u001b[39m, name: \u001b[39mstr\u001b[39m) \u001b[39m-\u001b[39m\u001b[39m>\u001b[39m \u001b[39mNone\u001b[39;00m:\n\u001b[1;32m    218\u001b[0m \u001b[39m    \u001b[39m\u001b[39m\"\"\"Delete a collection with the given name.\u001b[39;00m\n\u001b[1;32m    219\u001b[0m \u001b[39m    Args:\u001b[39;00m\n\u001b[1;32m    220\u001b[0m \u001b[39m        name: The name of the collection to delete\u001b[39;00m\n\u001b[0;32m   (...)\u001b[0m\n\u001b[1;32m    228\u001b[0m \u001b[39m        ```\u001b[39;00m\n\u001b[1;32m    229\u001b[0m \u001b[39m    \"\"\"\u001b[39;00m\n\u001b[0;32m--> 230\u001b[0m     \u001b[39mself\u001b[39;49m\u001b[39m.\u001b[39;49m_db\u001b[39m.\u001b[39;49mdelete_collection(name)\n",
      "File \u001b[0;32m~/Projects/polychroma/chromadb/db/postgres.py:247\u001b[0m, in \u001b[0;36mPostgres.delete_collection\u001b[0;34m(self, name)\u001b[0m\n\u001b[1;32m    245\u001b[0m \u001b[39m@override\u001b[39m\n\u001b[1;32m    246\u001b[0m \u001b[39mdef\u001b[39;00m \u001b[39mdelete_collection\u001b[39m(\u001b[39mself\u001b[39m, name: \u001b[39mstr\u001b[39m) \u001b[39m-\u001b[39m\u001b[39m>\u001b[39m \u001b[39mNone\u001b[39;00m:\n\u001b[0;32m--> 247\u001b[0m     collection_uuid \u001b[39m=\u001b[39m \u001b[39mself\u001b[39;49m\u001b[39m.\u001b[39;49mget_collection_uuid_from_name(name)\n\u001b[1;32m    249\u001b[0m     \u001b[39mif\u001b[39;00m \u001b[39mself\u001b[39m\u001b[39m.\u001b[39mindex_cache\u001b[39m.\u001b[39mget(collection_uuid) \u001b[39mis\u001b[39;00m \u001b[39mnot\u001b[39;00m \u001b[39mNone\u001b[39;00m:\n\u001b[1;32m    250\u001b[0m         \u001b[39mself\u001b[39m\u001b[39m.\u001b[39m_delete_index(collection_uuid)\n",
      "File \u001b[0;32m~/Projects/polychroma/chromadb/db/postgres.py:270\u001b[0m, in \u001b[0;36mPostgres.get_collection_uuid_from_name\u001b[0;34m(self, collection_name)\u001b[0m\n\u001b[1;32m    268\u001b[0m query \u001b[39m=\u001b[39m \u001b[39mf\u001b[39m\u001b[39m\"\u001b[39m\u001b[39mSELECT uuid FROM collections WHERE name = \u001b[39m\u001b[39m'\u001b[39m\u001b[39m{\u001b[39;00mcollection_name\u001b[39m}\u001b[39;00m\u001b[39m'\u001b[39m\u001b[39m\"\u001b[39m\n\u001b[1;32m    269\u001b[0m res \u001b[39m=\u001b[39m \u001b[39mself\u001b[39m\u001b[39m.\u001b[39m_execute_query_with_response(query)\n\u001b[0;32m--> 270\u001b[0m \u001b[39mself\u001b[39;49m\u001b[39m.\u001b[39;49m_screen_get_collection_response(res, collection_name)\n\u001b[1;32m    271\u001b[0m \u001b[39mreturn\u001b[39;00m cast(UUID, res[\u001b[39m0\u001b[39m][\u001b[39m0\u001b[39m])\n",
      "File \u001b[0;32m~/Projects/polychroma/chromadb/db/postgres.py:101\u001b[0m, in \u001b[0;36mPostgres._screen_get_collection_response\u001b[0;34m(self, res, collection_identifier)\u001b[0m\n\u001b[1;32m     97\u001b[0m \u001b[39mdef\u001b[39;00m \u001b[39m_screen_get_collection_response\u001b[39m(\n\u001b[1;32m     98\u001b[0m     \u001b[39mself\u001b[39m, res: \u001b[39mlist\u001b[39m[\u001b[39mtuple\u001b[39m[Any, \u001b[39m.\u001b[39m\u001b[39m.\u001b[39m\u001b[39m.\u001b[39m]], collection_identifier: \u001b[39mstr\u001b[39m\n\u001b[1;32m     99\u001b[0m ) \u001b[39m-\u001b[39m\u001b[39m>\u001b[39m \u001b[39mNone\u001b[39;00m:\n\u001b[1;32m    100\u001b[0m     \u001b[39mif\u001b[39;00m \u001b[39mlen\u001b[39m(res) \u001b[39m==\u001b[39m \u001b[39m0\u001b[39m:\n\u001b[0;32m--> 101\u001b[0m         \u001b[39mraise\u001b[39;00m \u001b[39mValueError\u001b[39;00m(\u001b[39mf\u001b[39m\u001b[39m\"\u001b[39m\u001b[39mCollection \u001b[39m\u001b[39m{\u001b[39;00mcollection_identifier\u001b[39m}\u001b[39;00m\u001b[39m does not exist\u001b[39m\u001b[39m\"\u001b[39m)\n\u001b[1;32m    102\u001b[0m     \u001b[39mif\u001b[39;00m \u001b[39mlen\u001b[39m(res) \u001b[39m>\u001b[39m \u001b[39m1\u001b[39m:\n\u001b[1;32m    103\u001b[0m         \u001b[39mraise\u001b[39;00m \u001b[39mValueError\u001b[39;00m(\n\u001b[1;32m    104\u001b[0m             \u001b[39m\"\u001b[39m\u001b[39mMore than one collection with identifier\u001b[39m\u001b[39m\"\u001b[39m\n\u001b[1;32m    105\u001b[0m             \u001b[39mf\u001b[39m\u001b[39m\"\u001b[39m\u001b[39m \u001b[39m\u001b[39m{\u001b[39;00mcollection_identifier\u001b[39m}\u001b[39;00m\u001b[39m found\u001b[39m\u001b[39m\"\u001b[39m\n\u001b[1;32m    106\u001b[0m         )\n",
      "\u001b[0;31mValueError\u001b[0m: Collection empty-collection does not exist"
     ]
    }
   ],
   "source": [
    "# delete a collection that exists\n",
    "client.delete_collection(\"empty-collection\")"
   ]
  },
  {
   "cell_type": "code",
   "execution_count": 10,
   "metadata": {},
   "outputs": [
    {
     "ename": "InFailedSqlTransaction",
     "evalue": "current transaction is aborted, commands ignored until end of transaction block\n",
     "output_type": "error",
     "traceback": [
      "\u001b[0;31m---------------------------------------------------------------------------\u001b[0m",
      "\u001b[0;31mInFailedSqlTransaction\u001b[0m                    Traceback (most recent call last)",
      "Cell \u001b[0;32mIn[10], line 1\u001b[0m\n\u001b[0;32m----> 1\u001b[0m collection\u001b[39m.\u001b[39;49mmodify(name\u001b[39m=\u001b[39;49m\u001b[39m\"\u001b[39;49m\u001b[39mupdated-documents\u001b[39;49m\u001b[39m\"\u001b[39;49m, metadata\u001b[39m=\u001b[39;49m{\u001b[39m\"\u001b[39;49m\u001b[39mtest\u001b[39;49m\u001b[39m\"\u001b[39;49m: \u001b[39m\"\u001b[39;49m\u001b[39mmetadata-test-success\u001b[39;49m\u001b[39m\"\u001b[39;49m})\n",
      "File \u001b[0;32m~/Projects/polychroma/chromadb/api/models/Collection.py:244\u001b[0m, in \u001b[0;36mCollection.modify\u001b[0;34m(self, name, metadata)\u001b[0m\n\u001b[1;32m    232\u001b[0m \u001b[39mdef\u001b[39;00m \u001b[39mmodify\u001b[39m(\n\u001b[1;32m    233\u001b[0m     \u001b[39mself\u001b[39m, name: Optional[\u001b[39mstr\u001b[39m] \u001b[39m=\u001b[39m \u001b[39mNone\u001b[39;00m, metadata: Optional[CollectionMetadata] \u001b[39m=\u001b[39m \u001b[39mNone\u001b[39;00m\n\u001b[1;32m    234\u001b[0m ) \u001b[39m-\u001b[39m\u001b[39m>\u001b[39m \u001b[39mNone\u001b[39;00m:\n\u001b[1;32m    235\u001b[0m \u001b[39m    \u001b[39m\u001b[39m\"\"\"Modify the collection name or metadata\u001b[39;00m\n\u001b[1;32m    236\u001b[0m \n\u001b[1;32m    237\u001b[0m \u001b[39m    Args:\u001b[39;00m\n\u001b[0;32m   (...)\u001b[0m\n\u001b[1;32m    242\u001b[0m \u001b[39m        None\u001b[39;00m\n\u001b[1;32m    243\u001b[0m \u001b[39m    \"\"\"\u001b[39;00m\n\u001b[0;32m--> 244\u001b[0m     \u001b[39mself\u001b[39;49m\u001b[39m.\u001b[39;49m_client\u001b[39m.\u001b[39;49m_modify(\u001b[39mid\u001b[39;49m\u001b[39m=\u001b[39;49m\u001b[39mself\u001b[39;49m\u001b[39m.\u001b[39;49mid, new_name\u001b[39m=\u001b[39;49mname, new_metadata\u001b[39m=\u001b[39;49mmetadata)\n\u001b[1;32m    245\u001b[0m     \u001b[39mif\u001b[39;00m name:\n\u001b[1;32m    246\u001b[0m         \u001b[39mself\u001b[39m\u001b[39m.\u001b[39mname \u001b[39m=\u001b[39m name\n",
      "File \u001b[0;32m~/Projects/polychroma/chromadb/api/local.py:214\u001b[0m, in \u001b[0;36mLocalAPI._modify\u001b[0;34m(self, id, new_name, new_metadata)\u001b[0m\n\u001b[1;32m    211\u001b[0m \u001b[39mif\u001b[39;00m new_name \u001b[39mis\u001b[39;00m \u001b[39mnot\u001b[39;00m \u001b[39mNone\u001b[39;00m:\n\u001b[1;32m    212\u001b[0m     check_index_name(new_name)\n\u001b[0;32m--> 214\u001b[0m \u001b[39mself\u001b[39;49m\u001b[39m.\u001b[39;49m_db\u001b[39m.\u001b[39;49mupdate_collection(\u001b[39mid\u001b[39;49m, new_name, new_metadata)\n",
      "File \u001b[0;32m~/Projects/polychroma/chromadb/db/postgres.py:198\u001b[0m, in \u001b[0;36mPostgres.update_collection\u001b[0;34m(self, id, new_name, new_metadata)\u001b[0m\n\u001b[1;32m    195\u001b[0m update_query \u001b[39m=\u001b[39m Query\u001b[39m.\u001b[39mupdate(collections_table)\n\u001b[1;32m    197\u001b[0m \u001b[39mif\u001b[39;00m new_name \u001b[39mis\u001b[39;00m \u001b[39mnot\u001b[39;00m \u001b[39mNone\u001b[39;00m:\n\u001b[0;32m--> 198\u001b[0m     dupe_check \u001b[39m=\u001b[39m \u001b[39mself\u001b[39;49m\u001b[39m.\u001b[39;49mget_collection(new_name)\n\u001b[1;32m    199\u001b[0m     \u001b[39mif\u001b[39;00m \u001b[39mlen\u001b[39m(dupe_check) \u001b[39m>\u001b[39m \u001b[39m0\u001b[39m \u001b[39mand\u001b[39;00m dupe_check[\u001b[39m0\u001b[39m][\u001b[39m0\u001b[39m] \u001b[39m!=\u001b[39m \u001b[39mid\u001b[39m:\n\u001b[1;32m    200\u001b[0m         \u001b[39mraise\u001b[39;00m \u001b[39mValueError\u001b[39;00m(\u001b[39mf\u001b[39m\u001b[39m\"\u001b[39m\u001b[39mCollection with name \u001b[39m\u001b[39m{\u001b[39;00mnew_name\u001b[39m}\u001b[39;00m\u001b[39m already exists\u001b[39m\u001b[39m\"\u001b[39m)\n",
      "File \u001b[0;32m~/Projects/polychroma/chromadb/db/postgres.py:170\u001b[0m, in \u001b[0;36mPostgres.get_collection\u001b[0;34m(self, name)\u001b[0m\n\u001b[1;32m    167\u001b[0m \u001b[39m@override\u001b[39m  \u001b[39m# TODO: Add optional column parameters to include/rm\u001b[39;00m\n\u001b[1;32m    168\u001b[0m \u001b[39mdef\u001b[39;00m \u001b[39mget_collection\u001b[39m(\u001b[39mself\u001b[39m, name: \u001b[39mstr\u001b[39m) \u001b[39m-\u001b[39m\u001b[39m>\u001b[39m Sequence[Any]:\n\u001b[1;32m    169\u001b[0m     query \u001b[39m=\u001b[39m \u001b[39mf\u001b[39m\u001b[39m\"\u001b[39m\u001b[39mSELECT * FROM collections WHERE name = \u001b[39m\u001b[39m'\u001b[39m\u001b[39m{\u001b[39;00mname\u001b[39m}\u001b[39;00m\u001b[39m'\u001b[39m\u001b[39m\"\u001b[39m\n\u001b[0;32m--> 170\u001b[0m     res \u001b[39m=\u001b[39m \u001b[39mself\u001b[39;49m\u001b[39m.\u001b[39;49m_execute_query_with_response(query)\n\u001b[1;32m    171\u001b[0m     \u001b[39m# json.loads for metadata not needed, psycopg2 does it automatically\u001b[39;00m\n\u001b[1;32m    172\u001b[0m     \u001b[39mreturn\u001b[39;00m [[x[\u001b[39m0\u001b[39m], x[\u001b[39m1\u001b[39m], x[\u001b[39m2\u001b[39m], x[\u001b[39m3\u001b[39m]] \u001b[39mfor\u001b[39;00m x \u001b[39min\u001b[39;00m res]\n",
      "File \u001b[0;32m~/Projects/polychroma/chromadb/db/postgres.py:105\u001b[0m, in \u001b[0;36mPostgres._execute_query_with_response\u001b[0;34m(self, query)\u001b[0m\n\u001b[1;32m    103\u001b[0m \u001b[39mdef\u001b[39;00m \u001b[39m_execute_query_with_response\u001b[39m(\u001b[39mself\u001b[39m, query: \u001b[39mstr\u001b[39m):  \u001b[39m# type: ignore\u001b[39;00m\n\u001b[1;32m    104\u001b[0m     \u001b[39mwith\u001b[39;00m \u001b[39mself\u001b[39m\u001b[39m.\u001b[39m_get_conn()\u001b[39m.\u001b[39mcursor() \u001b[39mas\u001b[39;00m curs:\n\u001b[0;32m--> 105\u001b[0m         curs\u001b[39m.\u001b[39;49mexecute(query)\n\u001b[1;32m    106\u001b[0m         res \u001b[39m=\u001b[39m curs\u001b[39m.\u001b[39mfetchall()\n\u001b[1;32m    107\u001b[0m     \u001b[39mself\u001b[39m\u001b[39m.\u001b[39m_conn\u001b[39m.\u001b[39mcommit()\n",
      "\u001b[0;31mInFailedSqlTransaction\u001b[0m: current transaction is aborted, commands ignored until end of transaction block\n"
     ]
    }
   ],
   "source": [
    "# collection.modify(name=\"updated-documents\", metadata={\"test\": \"metadata-test-success\"})"
   ]
  },
  {
   "cell_type": "code",
   "execution_count": 7,
   "metadata": {},
   "outputs": [
    {
     "ename": "IDAlreadyExistsError",
     "evalue": "IDs ['doc1', 'doc2'] already exist in collection 2a48e5df-f275-4915-b97f-82805e8c2536",
     "output_type": "error",
     "traceback": [
      "\u001b[0;31m---------------------------------------------------------------------------\u001b[0m",
      "\u001b[0;31mIDAlreadyExistsError\u001b[0m                      Traceback (most recent call last)",
      "Cell \u001b[0;32mIn[7], line 2\u001b[0m\n\u001b[1;32m      1\u001b[0m \u001b[39m# Add docs to the collection. Can also update and delete. Row-based API coming soon!\u001b[39;00m\n\u001b[0;32m----> 2\u001b[0m collection\u001b[39m.\u001b[39;49madd(\n\u001b[1;32m      3\u001b[0m     documents\u001b[39m=\u001b[39;49m[\u001b[39m\"\u001b[39;49m\u001b[39mThis is document1\u001b[39;49m\u001b[39m\"\u001b[39;49m, \u001b[39m\"\u001b[39;49m\u001b[39mThis is document2\u001b[39;49m\u001b[39m\"\u001b[39;49m], \u001b[39m# we handle tokenization, embedding, and indexing automatically. You can skip that and add your own embeddings as well\u001b[39;49;00m\n\u001b[1;32m      4\u001b[0m     metadatas\u001b[39m=\u001b[39;49m[{\u001b[39m\"\u001b[39;49m\u001b[39msource\u001b[39;49m\u001b[39m\"\u001b[39;49m: \u001b[39m\"\u001b[39;49m\u001b[39mnotion\u001b[39;49m\u001b[39m\"\u001b[39;49m}, {\u001b[39m\"\u001b[39;49m\u001b[39msource\u001b[39;49m\u001b[39m\"\u001b[39;49m: \u001b[39m\"\u001b[39;49m\u001b[39mgoogle-docs\u001b[39;49m\u001b[39m\"\u001b[39;49m}], \u001b[39m# filter on these!\u001b[39;49;00m\n\u001b[1;32m      5\u001b[0m     ids\u001b[39m=\u001b[39;49m[\u001b[39m\"\u001b[39;49m\u001b[39mdoc1\u001b[39;49m\u001b[39m\"\u001b[39;49m, \u001b[39m\"\u001b[39;49m\u001b[39mdoc2\u001b[39;49m\u001b[39m\"\u001b[39;49m], \u001b[39m# unique for each doc\u001b[39;49;00m\n\u001b[1;32m      6\u001b[0m )\n",
      "File \u001b[0;32m~/Projects/polychroma/chromadb/api/models/Collection.py:100\u001b[0m, in \u001b[0;36mCollection.add\u001b[0;34m(self, ids, embeddings, metadatas, documents, increment_index)\u001b[0m\n\u001b[1;32m     76\u001b[0m \u001b[39m\u001b[39m\u001b[39m\"\"\"Add embeddings to the data store.\u001b[39;00m\n\u001b[1;32m     77\u001b[0m \u001b[39mArgs:\u001b[39;00m\n\u001b[1;32m     78\u001b[0m \u001b[39m    ids: The ids of the embeddings you wish to add\u001b[39;00m\n\u001b[0;32m   (...)\u001b[0m\n\u001b[1;32m     93\u001b[0m \n\u001b[1;32m     94\u001b[0m \u001b[39m\"\"\"\u001b[39;00m\n\u001b[1;32m     96\u001b[0m ids, embeddings, metadatas, documents \u001b[39m=\u001b[39m \u001b[39mself\u001b[39m\u001b[39m.\u001b[39m_validate_embedding_set(\n\u001b[1;32m     97\u001b[0m     ids, embeddings, metadatas, documents\n\u001b[1;32m     98\u001b[0m )\n\u001b[0;32m--> 100\u001b[0m \u001b[39mself\u001b[39;49m\u001b[39m.\u001b[39;49m_client\u001b[39m.\u001b[39;49m_add(\n\u001b[1;32m    101\u001b[0m     ids, \u001b[39mself\u001b[39;49m\u001b[39m.\u001b[39;49mid, embeddings, metadatas, documents, increment_index\n\u001b[1;32m    102\u001b[0m )\n",
      "File \u001b[0;32m~/Projects/polychroma/chromadb/api/local.py:247\u001b[0m, in \u001b[0;36mLocalAPI._add\u001b[0;34m(self, ids, collection_id, embeddings, metadatas, documents, increment_index)\u001b[0m\n\u001b[1;32m    245\u001b[0m existing_ids \u001b[39m=\u001b[39m \u001b[39mself\u001b[39m\u001b[39m.\u001b[39m_get(collection_id, ids\u001b[39m=\u001b[39mids, include\u001b[39m=\u001b[39m[])[\u001b[39m\"\u001b[39m\u001b[39mids\u001b[39m\u001b[39m\"\u001b[39m]\n\u001b[1;32m    246\u001b[0m \u001b[39mif\u001b[39;00m \u001b[39mlen\u001b[39m(existing_ids) \u001b[39m>\u001b[39m \u001b[39m0\u001b[39m:\n\u001b[0;32m--> 247\u001b[0m     \u001b[39mraise\u001b[39;00m errors\u001b[39m.\u001b[39mIDAlreadyExistsError(\n\u001b[1;32m    248\u001b[0m         \u001b[39mf\u001b[39m\u001b[39m\"\u001b[39m\u001b[39mIDs \u001b[39m\u001b[39m{\u001b[39;00mexisting_ids\u001b[39m}\u001b[39;00m\u001b[39m already exist in collection \u001b[39m\u001b[39m{\u001b[39;00mcollection_id\u001b[39m}\u001b[39;00m\u001b[39m\"\u001b[39m\n\u001b[1;32m    249\u001b[0m     )\n\u001b[1;32m    251\u001b[0m added_uuids \u001b[39m=\u001b[39m \u001b[39mself\u001b[39m\u001b[39m.\u001b[39m_db\u001b[39m.\u001b[39madd(\n\u001b[1;32m    252\u001b[0m     collection_id,\n\u001b[1;32m    253\u001b[0m     embeddings\u001b[39m=\u001b[39membeddings,\n\u001b[0;32m   (...)\u001b[0m\n\u001b[1;32m    256\u001b[0m     ids\u001b[39m=\u001b[39mids,\n\u001b[1;32m    257\u001b[0m )\n\u001b[1;32m    259\u001b[0m \u001b[39mif\u001b[39;00m increment_index:\n",
      "\u001b[0;31mIDAlreadyExistsError\u001b[0m: IDs ['doc1', 'doc2'] already exist in collection 2a48e5df-f275-4915-b97f-82805e8c2536"
     ]
    }
   ],
   "source": [
    "# Add docs to the collection. Can also update and delete. Row-based API coming soon!\n",
    "collection.add(\n",
    "    documents=[\"This is document1\", \"This is document2\"], # we handle tokenization, embedding, and indexing automatically. You can skip that and add your own embeddings as well\n",
    "    metadatas=[{\"source\": \"notion\"}, {\"source\": \"google-docs\"}], # filter on these!\n",
    "    ids=[\"doc1\", \"doc2\"], # unique for each doc\n",
    ")"
   ]
  },
  {
   "cell_type": "code",
   "execution_count": 4,
   "metadata": {},
   "outputs": [
    {
     "data": {
      "text/plain": [
       "2"
      ]
     },
     "execution_count": 4,
     "metadata": {},
     "output_type": "execute_result"
    }
   ],
   "source": [
    "collection.count()"
   ]
  },
  {
   "cell_type": "code",
   "execution_count": 6,
   "metadata": {},
   "outputs": [
    {
     "ename": "IDAlreadyExistsError",
     "evalue": "IDs ['doc1', 'doc2'] already exist in collection 2a48e5df-f275-4915-b97f-82805e8c2536",
     "output_type": "error",
     "traceback": [
      "\u001b[0;31m---------------------------------------------------------------------------\u001b[0m",
      "\u001b[0;31mIDAlreadyExistsError\u001b[0m                      Traceback (most recent call last)",
      "Cell \u001b[0;32mIn[6], line 2\u001b[0m\n\u001b[1;32m      1\u001b[0m \u001b[39m# upsert items. new items will be added, existing items will be updated.\u001b[39;00m\n\u001b[0;32m----> 2\u001b[0m collection\u001b[39m.\u001b[39;49mupsert(\n\u001b[1;32m      3\u001b[0m     ids\u001b[39m=\u001b[39;49m[\u001b[39m\"\u001b[39;49m\u001b[39mdoc1\u001b[39;49m\u001b[39m\"\u001b[39;49m, \u001b[39m\"\u001b[39;49m\u001b[39mdoc2\u001b[39;49m\u001b[39m\"\u001b[39;49m, \u001b[39m\"\u001b[39;49m\u001b[39mdoc3\u001b[39;49m\u001b[39m\"\u001b[39;49m],\n\u001b[1;32m      4\u001b[0m     metadatas\u001b[39m=\u001b[39;49m[{\u001b[39m\"\u001b[39;49m\u001b[39mchapter\u001b[39;49m\u001b[39m\"\u001b[39;49m: \u001b[39m\"\u001b[39;49m\u001b[39m3\u001b[39;49m\u001b[39m\"\u001b[39;49m, \u001b[39m\"\u001b[39;49m\u001b[39mverse\u001b[39;49m\u001b[39m\"\u001b[39;49m: \u001b[39m\"\u001b[39;49m\u001b[39m16\u001b[39;49m\u001b[39m\"\u001b[39;49m}, {\u001b[39m\"\u001b[39;49m\u001b[39mchapter\u001b[39;49m\u001b[39m\"\u001b[39;49m: \u001b[39m\"\u001b[39;49m\u001b[39m3\u001b[39;49m\u001b[39m\"\u001b[39;49m, \u001b[39m\"\u001b[39;49m\u001b[39mverse\u001b[39;49m\u001b[39m\"\u001b[39;49m: \u001b[39m\"\u001b[39;49m\u001b[39m5\u001b[39;49m\u001b[39m\"\u001b[39;49m}, {\u001b[39m\"\u001b[39;49m\u001b[39mchapter\u001b[39;49m\u001b[39m\"\u001b[39;49m: \u001b[39m\"\u001b[39;49m\u001b[39m29\u001b[39;49m\u001b[39m\"\u001b[39;49m, \u001b[39m\"\u001b[39;49m\u001b[39mverse\u001b[39;49m\u001b[39m\"\u001b[39;49m: \u001b[39m\"\u001b[39;49m\u001b[39m11\u001b[39;49m\u001b[39m\"\u001b[39;49m}],\n\u001b[1;32m      5\u001b[0m     documents\u001b[39m=\u001b[39;49m[\u001b[39m\"\u001b[39;49m\u001b[39mdoc1\u001b[39;49m\u001b[39m\"\u001b[39;49m, \u001b[39m\"\u001b[39;49m\u001b[39mdoc2\u001b[39;49m\u001b[39m\"\u001b[39;49m, \u001b[39m\"\u001b[39;49m\u001b[39mdoc3\u001b[39;49m\u001b[39m\"\u001b[39;49m],\n\u001b[1;32m      6\u001b[0m )\n",
      "File \u001b[0;32m~/Projects/polychroma/chromadb/api/models/Collection.py:299\u001b[0m, in \u001b[0;36mCollection.upsert\u001b[0;34m(self, ids, embeddings, metadatas, documents, increment_index)\u001b[0m\n\u001b[1;32m    283\u001b[0m \u001b[39m\u001b[39m\u001b[39m\"\"\"Update the embeddings, metadatas or documents for provided ids, or create them if they don't exist.\u001b[39;00m\n\u001b[1;32m    284\u001b[0m \n\u001b[1;32m    285\u001b[0m \u001b[39mArgs:\u001b[39;00m\n\u001b[0;32m   (...)\u001b[0m\n\u001b[1;32m    292\u001b[0m \u001b[39m    None\u001b[39;00m\n\u001b[1;32m    293\u001b[0m \u001b[39m\"\"\"\u001b[39;00m\n\u001b[1;32m    295\u001b[0m ids, embeddings, metadatas, documents \u001b[39m=\u001b[39m \u001b[39mself\u001b[39m\u001b[39m.\u001b[39m_validate_embedding_set(\n\u001b[1;32m    296\u001b[0m     ids, embeddings, metadatas, documents\n\u001b[1;32m    297\u001b[0m )\n\u001b[0;32m--> 299\u001b[0m \u001b[39mself\u001b[39;49m\u001b[39m.\u001b[39;49m_client\u001b[39m.\u001b[39;49m_upsert(\n\u001b[1;32m    300\u001b[0m     collection_id\u001b[39m=\u001b[39;49m\u001b[39mself\u001b[39;49m\u001b[39m.\u001b[39;49mid,\n\u001b[1;32m    301\u001b[0m     ids\u001b[39m=\u001b[39;49mids,\n\u001b[1;32m    302\u001b[0m     embeddings\u001b[39m=\u001b[39;49membeddings,\n\u001b[1;32m    303\u001b[0m     metadatas\u001b[39m=\u001b[39;49mmetadatas,\n\u001b[1;32m    304\u001b[0m     documents\u001b[39m=\u001b[39;49mdocuments,\n\u001b[1;32m    305\u001b[0m     increment_index\u001b[39m=\u001b[39;49mincrement_index,\n\u001b[1;32m    306\u001b[0m )\n",
      "File \u001b[0;32m~/Projects/polychroma/chromadb/api/local.py:318\u001b[0m, in \u001b[0;36mLocalAPI._upsert\u001b[0;34m(self, collection_id, ids, embeddings, metadatas, documents, increment_index)\u001b[0m\n\u001b[1;32m    315\u001b[0m             documents_to_add\u001b[39m.\u001b[39mappend(documents[i])  \u001b[39m# type: ignore\u001b[39;00m\n\u001b[1;32m    317\u001b[0m \u001b[39mif\u001b[39;00m \u001b[39mlen\u001b[39m(ids_to_add) \u001b[39m>\u001b[39m \u001b[39m0\u001b[39m:\n\u001b[0;32m--> 318\u001b[0m     \u001b[39mself\u001b[39;49m\u001b[39m.\u001b[39;49m_add(\n\u001b[1;32m    319\u001b[0m         ids_to_add,\n\u001b[1;32m    320\u001b[0m         collection_id,\n\u001b[1;32m    321\u001b[0m         embeddings_to_add,\n\u001b[1;32m    322\u001b[0m         metadatas_to_add,\n\u001b[1;32m    323\u001b[0m         documents_to_add,\n\u001b[1;32m    324\u001b[0m         increment_index\u001b[39m=\u001b[39;49mincrement_index,\n\u001b[1;32m    325\u001b[0m     )\n\u001b[1;32m    327\u001b[0m \u001b[39mif\u001b[39;00m \u001b[39mlen\u001b[39m(ids_to_update) \u001b[39m>\u001b[39m \u001b[39m0\u001b[39m:\n\u001b[1;32m    328\u001b[0m     \u001b[39mself\u001b[39m\u001b[39m.\u001b[39m_update(\n\u001b[1;32m    329\u001b[0m         collection_id,\n\u001b[1;32m    330\u001b[0m         ids_to_update,\n\u001b[0;32m   (...)\u001b[0m\n\u001b[1;32m    333\u001b[0m         documents_to_update,\n\u001b[1;32m    334\u001b[0m     )\n",
      "File \u001b[0;32m~/Projects/polychroma/chromadb/api/local.py:247\u001b[0m, in \u001b[0;36mLocalAPI._add\u001b[0;34m(self, ids, collection_id, embeddings, metadatas, documents, increment_index)\u001b[0m\n\u001b[1;32m    245\u001b[0m existing_ids \u001b[39m=\u001b[39m \u001b[39mself\u001b[39m\u001b[39m.\u001b[39m_get(collection_id, ids\u001b[39m=\u001b[39mids, include\u001b[39m=\u001b[39m[])[\u001b[39m\"\u001b[39m\u001b[39mids\u001b[39m\u001b[39m\"\u001b[39m]\n\u001b[1;32m    246\u001b[0m \u001b[39mif\u001b[39;00m \u001b[39mlen\u001b[39m(existing_ids) \u001b[39m>\u001b[39m \u001b[39m0\u001b[39m:\n\u001b[0;32m--> 247\u001b[0m     \u001b[39mraise\u001b[39;00m errors\u001b[39m.\u001b[39mIDAlreadyExistsError(\n\u001b[1;32m    248\u001b[0m         \u001b[39mf\u001b[39m\u001b[39m\"\u001b[39m\u001b[39mIDs \u001b[39m\u001b[39m{\u001b[39;00mexisting_ids\u001b[39m}\u001b[39;00m\u001b[39m already exist in collection \u001b[39m\u001b[39m{\u001b[39;00mcollection_id\u001b[39m}\u001b[39;00m\u001b[39m\"\u001b[39m\n\u001b[1;32m    249\u001b[0m     )\n\u001b[1;32m    251\u001b[0m added_uuids \u001b[39m=\u001b[39m \u001b[39mself\u001b[39m\u001b[39m.\u001b[39m_db\u001b[39m.\u001b[39madd(\n\u001b[1;32m    252\u001b[0m     collection_id,\n\u001b[1;32m    253\u001b[0m     embeddings\u001b[39m=\u001b[39membeddings,\n\u001b[0;32m   (...)\u001b[0m\n\u001b[1;32m    256\u001b[0m     ids\u001b[39m=\u001b[39mids,\n\u001b[1;32m    257\u001b[0m )\n\u001b[1;32m    259\u001b[0m \u001b[39mif\u001b[39;00m increment_index:\n",
      "\u001b[0;31mIDAlreadyExistsError\u001b[0m: IDs ['doc1', 'doc2'] already exist in collection 2a48e5df-f275-4915-b97f-82805e8c2536"
     ]
    }
   ],
   "source": [
    "# upsert items. new items will be added, existing items will be updated.\n",
    "collection.upsert(\n",
    "    ids=[\"doc1\", \"doc2\", \"doc3\"],\n",
    "    metadatas=[{\"chapter\": \"3\", \"verse\": \"16\"}, {\"chapter\": \"3\", \"verse\": \"5\"}, {\"chapter\": \"29\", \"verse\": \"11\"}],\n",
    "    documents=[\"doc1\", \"doc2\", \"doc3\"],\n",
    ")"
   ]
  },
  {
   "cell_type": "code",
   "execution_count": 4,
   "metadata": {},
   "outputs": [
    {
     "name": "stdout",
     "output_type": "stream",
     "text": [
      "[('2a48e5df-f275-4915-b97f-82805e8c2536', '3a70a6c2-a33e-47c8-b6fd-0318b7d86edf', '[-0.079880714,0.089616835,0.033762287,0.026681308,0.058535565,-0.011690716,0.008396599,0.023979163,0.009647535,-0.005084895,0.0010960803,0.08359419,-0.0005668837,-0.03032098,-0.08796833,0.024921473,-0.041935537,-0.03401016,0.00011679966,0.074820645,0.05398246,0.115735106,0.0062643783,-0.033620644,0.052878756,0.043765463,-0.099466264,0.028168574,0.039464276,-0.08018195,0.05720446,0.03847993,0.030348057,0.018265044,0.07134868,-0.0043168003,0.067193426,7.0845526e-05,-0.0028624372,0.06793803,0.016321283,-0.08489549,-0.05061706,-0.024112187,0.008140208,0.031960197,-0.0639242,0.038530238,-0.005406315,0.045207668,-0.04911522,-0.05539698,-0.10752249,0.0063627316,0.059205785,0.025650987,-0.049948655,0.06886511,-0.022425245,0.015455835,0.006478292,0.029562294,-0.061302174,0.032796662,0.10894897,0.009696123,0.016009642,-0.07203673,-0.10457947,-0.0041873166,-0.065601766,0.014561871,0.031771827,-0.04817276,-0.008692845,-0.048376553,-0.026314024,0.022517,0.05628289,-0.110826775,-0.0011354027,-0.035587803,-0.01307578,-0.033181246,-0.086283274,0.046656407,0.0041479757,-0.04880379,0.049264435,0.003978513,-0.0065151327,-0.07957951,0.124320045,0.009140511,-0.0970393,-0.011407434,-0.0017206599,0.008127694,0.096087456,0.11799021,-0.0221587,0.05697673,0.06519378,-0.023128161,-0.0091933645,-0.05928203,-0.049166117,-0.031633876,0.018335184,-0.039493464,-0.015376635,-0.046638962,-0.118426286,-0.03750565,-0.001437718,0.0007225027,0.052060597,0.021450512,0.09962187,0.0077526486,0.064525776,-0.035683803,0.0044359667,-0.049771514,-0.08470102,-0.12455282,0.058561247,-5.0986796e-33,0.011718175,-0.048634898,-0.10041351,0.06908416,0.033596374,0.023061503,-0.016533101,0.022523655,-0.11558638,-0.08733349,-0.059754893,0.0120492745,-0.008438189,-0.007300099,-0.02646722,0.004429863,-0.04356175,0.12677997,0.010786258,-0.0075662886,-0.0017277817,0.08140447,0.048414294,-0.04080183,-0.012887878,0.049913794,0.0007056043,-0.038823273,-0.015297158,0.016499195,-0.026915845,0.04167138,-0.03832997,-0.0663537,-0.03765677,0.05962344,0.020812761,-0.09438733,0.01831307,-0.012265714,-0.056115724,-0.0006267272,0.01595777,-0.022780055,0.033385172,0.010274961,0.024561957,0.016128574,0.05839535,-0.012270296,-0.03032658,0.031722628,-0.017394615,-0.004876338,0.044554792,-0.008383667,-0.008081506,0.08732092,-0.00991836,-0.013570542,0.0068991333,0.07150961,-0.025356578,0.002546126,-0.024178486,0.011485857,-0.06652501,0.060004987,0.07687823,-0.033811655,-0.055917326,0.029002765,0.04221621,-0.023396386,0.046482015,-0.03101911,0.027341561,-0.016415173,-0.07879224,0.008676189,-0.15430477,-0.042192318,0.029127069,0.01965216,-0.036677446,0.072606765,0.043869607,-0.067728825,0.031663828,0.011410139,-0.02548258,0.057221655,-0.038364746,-0.055489272,0.10538152,2.8700642e-33,-0.06727441,-0.032005474,-0.035609923,0.061509658,0.020966504,0.085814625,0.033331037,0.015307896,-0.028056283,0.083908886,-0.0059124744,0.015308791,-0.014321984,-0.028387746,0.010832869,-0.044836637,0.03781671,-0.029544873,-0.0118059255,0.063389316,-0.0042970986,0.038801443,-0.020202734,0.08789057,0.021037987,0.027328534,0.057495777,-0.02636517,0.016223043,-0.015700744,-0.0340988,0.005443489,-0.023162806,0.035737075,0.014655061,-0.06443896,0.0469513,-0.010034358,-0.01293353,0.06507177,0.055095647,0.042591743,0.036149416,0.046624772,-0.073803395,-0.025552731,0.039288223,0.02401273,0.04932958,0.022473019,-0.07273633,-0.012808444,0.02619439,-0.05455662,-0.07580216,0.034544453,-0.03747011,-0.031341758,0.006470493,0.06555903,0.045613293,0.061781645,-0.040811416,0.08769571,0.09502077,-0.0631881,-0.094074234,0.060919628,-0.056234315,0.052661806,0.03850901,-0.060538694,-0.033972763,-0.10686971,0.08546975,-0.046555657,0.013889341,-0.01777133,-0.034271047,-0.09541611,0.16523278,0.020145038,-0.05628863,0.018663896,0.08727291,0.016132655,0.020868933,0.06285767,-0.031356685,-0.0010398655,-0.054428656,0.044899642,-0.013703565,0.047228593,-0.049910486,-1.5186297e-08,0.0006005571,-0.0120164445,-0.011422724,-0.029772678,-0.004684449,0.045448173,-0.008095494,-0.0016957154,-0.07031999,-0.033423204,0.039740015,0.039218046,0.039241776,-0.054020856,-0.008447106,0.0059395325,-0.01498271,-0.07359089,-0.056579128,-0.013965672,-0.0017169504,-0.029434182,-0.003141612,-0.07817603,-0.034696516,0.04381518,-0.037091702,0.11074392,0.026260212,-0.043618064,-0.017293788,0.11907124,-0.024770904,0.022007534,0.09286574,0.035089377,0.06700963,0.030930132,-0.020481383,-0.033082295,0.04452769,0.022950355,-0.067038864,0.038284894,0.061554786,0.042462412,0.013908334,-0.0931289,-0.0030042478,-0.11622881,-0.05354561,-0.031771883,0.10677882,0.026947364,-0.05169074,0.015454098,0.012667869,0.04685241,0.022546839,0.0059759277,0.047877986,0.06949931,0.09046913,0.016835226]', 'This is document1', 'doc1', '{\"source\": \"notion\"}'), ('2a48e5df-f275-4915-b97f-82805e8c2536', 'f7dbf9d5-ddd9-425e-a9af-94942b003d2a', '[-0.051260814,0.08448433,0.025265483,0.030414382,0.049349636,-0.018957237,-0.022841243,0.025112586,0.033976045,0.008127203,0.012595164,0.0868378,-0.008888088,-0.026258014,-0.06606392,0.027702533,-0.013436755,0.001622904,0.0135962535,0.05890859,0.06838683,0.079033084,0.04216162,-0.07429157,0.031415015,0.07479644,-0.10253534,0.024849935,0.046956707,-0.07437828,0.04467129,0.04035078,-0.030073058,-0.007066699,0.044829894,-0.024397446,0.09262017,0.010504521,-0.020501282,0.025348919,0.015903454,-0.08031393,-0.06427882,-0.001265809,0.02948674,0.036747925,-0.027027287,-0.0015084047,-0.011857667,0.029762752,-0.08332578,-0.047882643,-0.07767757,-0.015308146,0.057500772,0.064716145,-0.035630908,0.07090999,0.0070387777,0.00889966,0.04581529,0.040134236,-0.08833902,0.04867993,0.080608845,0.02085685,0.020659102,-0.047254637,-0.09275575,-0.013989011,-0.060954772,0.037576288,0.06303695,-0.05333606,0.042159952,-0.062363468,-0.02409801,-0.008663495,0.045077384,-0.11241614,0.016496502,-0.05823093,0.013392844,-0.017871913,-0.101468556,0.03975593,-0.0012052591,-0.061279416,0.009917264,0.009147357,-0.030013219,-0.06515378,0.12146608,0.021936988,-0.08581564,-0.0010141014,0.010351982,0.00813918,0.07798697,0.1298388,-0.02698338,0.029708344,0.019201826,-0.10369173,0.03490401,-0.077235326,-0.04955218,-0.03310293,0.03456163,-0.0401419,0.037024632,-0.020516077,-0.123194814,-0.035027772,0.04224478,0.029164745,0.077552326,0.008450405,0.08247838,0.023899835,0.08131366,-0.009797641,-0.03551654,-0.06588375,-0.068427525,-0.1104125,0.06352928,-4.9752354e-33,0.0031288923,-0.03715783,-0.06200921,0.09889647,0.013892335,0.003597612,-0.03677671,0.011183814,-0.08415047,-0.08962512,-0.071656816,-0.03997232,-0.0197945,0.022365363,0.047822386,-0.026207214,-0.019894648,0.10856596,0.05494941,-0.009105618,0.0055260127,0.09747514,0.052616496,-0.05886379,0.03892772,0.064205684,0.033620685,-0.06006628,0.020628262,0.03486973,-0.006652933,0.020152926,-0.0016406993,-0.036789298,-0.021879233,0.012469035,-0.020573653,-0.07520044,0.006673586,-0.013188887,-0.01960938,0.0030510826,0.024559045,-0.0040503647,0.013444121,-0.017958628,0.05913309,-0.038549464,0.08320363,-0.018245487,-0.016626557,0.02951042,-0.01478094,0.03120751,0.06351973,-0.009258258,0.004538532,0.098996855,0.026681352,0.01236871,-0.00033117697,0.08237773,-0.024635669,0.00913255,-0.03662483,0.017358337,-0.09122498,0.05178851,0.0467742,0.008394909,-0.030716574,0.014117282,0.07983954,-0.015915535,0.05291712,-0.05388273,0.029989753,-0.04705566,-0.034977045,0.013200264,-0.16137797,-0.03855019,0.032408163,-0.009825458,-0.038502038,0.017047655,0.014837508,-0.06676816,0.012689789,0.046488922,-0.055031106,0.059552528,-0.060180925,-0.059487373,0.12674499,2.8820666e-33,-0.05274234,-0.020057637,-0.06515102,0.06771344,0.0117511265,0.045746267,0.01840194,0.029272614,-0.0123584485,0.079885945,0.018621817,0.019382007,0.0446357,-0.008421642,0.035910767,-0.052213993,0.024237871,-0.02810306,0.018222844,0.024647856,0.020719757,0.022949655,0.0100463005,0.067670576,0.06284356,0.010918028,0.044909317,-0.03175271,-0.0011999568,-0.014432865,-0.037042532,-0.005119201,-0.060709845,0.02613685,0.008356153,-0.06844466,0.04253503,-0.01714835,-0.061852895,0.029538162,0.030688008,0.048906956,0.025478674,0.038030103,-0.089450225,-0.021924159,0.07390408,-0.0013036377,0.027287947,0.020428041,-0.06535648,-0.058346014,0.023855042,-0.034633845,-0.09356137,0.036380157,-0.08121684,-0.04523787,0.038133755,0.06846178,0.055546086,0.010447258,-0.056733787,0.0383247,0.0824579,-0.053101905,-0.11540722,0.093990415,-0.06571249,0.08299637,0.008940431,-0.06678022,-0.077086635,-0.06968995,0.04502373,-0.052502237,0.022581868,-0.009959404,-0.01727935,-0.11307744,0.14339466,0.020825438,0.0117707625,0.03868396,0.06474923,0.010433217,-0.024538385,0.07232051,-0.05197365,0.0014229479,-0.035733875,0.054326158,-0.0028710014,0.048140917,-0.017107511,-1.4645369e-08,-0.03560394,-0.026950376,0.026899233,-0.035587966,-0.0094124125,0.023339324,-0.020659065,0.04297933,-0.05930358,-0.011451128,-0.009532653,0.030282056,0.048503138,-0.0671299,-0.008024292,0.04847321,0.05139739,-0.061202653,-0.0689207,-0.03436349,-0.002528279,-0.04056949,0.013966472,-0.050998658,-0.042890433,0.065918565,-0.04905218,0.054806452,0.018747514,-0.06781647,-0.02432679,0.102939375,-0.02531523,-0.0049500964,0.06524933,0.0077472213,0.05124279,-0.0015057034,-0.049151942,-0.054454528,0.04679596,0.043839753,-0.024753831,0.07643313,0.070921846,0.0242187,0.036025763,-0.07936696,-0.005771605,-0.13439102,-0.016003737,-0.04261785,0.09907798,0.023070827,-0.043588042,0.011674387,-0.011643945,0.048570678,-0.00068147713,-0.006597187,0.060729455,0.087632544,0.08098843,0.018885126]', 'This is document2', 'doc2', '{\"source\": \"google-docs\"}')]\n"
     ]
    },
    {
     "ename": "NotImplementedError",
     "evalue": "",
     "output_type": "error",
     "traceback": [
      "\u001b[0;31m---------------------------------------------------------------------------\u001b[0m",
      "\u001b[0;31mNotImplementedError\u001b[0m                       Traceback (most recent call last)",
      "Cell \u001b[0;32mIn[4], line 1\u001b[0m\n\u001b[0;32m----> 1\u001b[0m collection\u001b[39m.\u001b[39;49mquery(\n\u001b[1;32m      2\u001b[0m     query_texts\u001b[39m=\u001b[39;49m[\u001b[39m\"\u001b[39;49m\u001b[39mdoc10\u001b[39;49m\u001b[39m\"\u001b[39;49m, \u001b[39m\"\u001b[39;49m\u001b[39mthus spake zarathustra\u001b[39;49m\u001b[39m\"\u001b[39;49m], \n\u001b[1;32m      3\u001b[0m     n_results\u001b[39m=\u001b[39;49m\u001b[39m10\u001b[39;49m\n\u001b[1;32m      4\u001b[0m     \u001b[39m#where={\"metadata_field\": \"is_equal_to_this\"},\u001b[39;49;00m\n\u001b[1;32m      5\u001b[0m     \u001b[39m#where_document={\"$contains\":\"search_string\"}\u001b[39;49;00m\n\u001b[1;32m      6\u001b[0m     )\n",
      "File \u001b[0;32m~/Projects/polychroma/chromadb/api/models/Collection.py:223\u001b[0m, in \u001b[0;36mCollection.query\u001b[0;34m(self, query_embeddings, query_texts, n_results, where, where_document, include)\u001b[0m\n\u001b[1;32m    220\u001b[0m \u001b[39mif\u001b[39;00m where_document \u001b[39mis\u001b[39;00m \u001b[39mNone\u001b[39;00m:\n\u001b[1;32m    221\u001b[0m     where_document \u001b[39m=\u001b[39m {}\n\u001b[0;32m--> 223\u001b[0m \u001b[39mreturn\u001b[39;00m \u001b[39mself\u001b[39;49m\u001b[39m.\u001b[39;49m_client\u001b[39m.\u001b[39;49m_query(\n\u001b[1;32m    224\u001b[0m     collection_id\u001b[39m=\u001b[39;49m\u001b[39mself\u001b[39;49m\u001b[39m.\u001b[39;49mid,\n\u001b[1;32m    225\u001b[0m     query_embeddings\u001b[39m=\u001b[39;49mquery_embeddings,\n\u001b[1;32m    226\u001b[0m     n_results\u001b[39m=\u001b[39;49mn_results,\n\u001b[1;32m    227\u001b[0m     where\u001b[39m=\u001b[39;49mwhere,\n\u001b[1;32m    228\u001b[0m     where_document\u001b[39m=\u001b[39;49mwhere_document,\n\u001b[1;32m    229\u001b[0m     include\u001b[39m=\u001b[39;49minclude,\n\u001b[1;32m    230\u001b[0m )\n",
      "File \u001b[0;32m~/Projects/polychroma/chromadb/api/local.py:457\u001b[0m, in \u001b[0;36mLocalAPI._query\u001b[0;34m(self, collection_id, query_embeddings, n_results, where, where_document, include)\u001b[0m\n\u001b[1;32m    447\u001b[0m \u001b[39m@override\u001b[39m\n\u001b[1;32m    448\u001b[0m \u001b[39mdef\u001b[39;00m \u001b[39m_query\u001b[39m(\n\u001b[1;32m    449\u001b[0m     \u001b[39mself\u001b[39m,\n\u001b[0;32m   (...)\u001b[0m\n\u001b[1;32m    455\u001b[0m     include: Include \u001b[39m=\u001b[39m [\u001b[39m\"\u001b[39m\u001b[39mdocuments\u001b[39m\u001b[39m\"\u001b[39m, \u001b[39m\"\u001b[39m\u001b[39mmetadatas\u001b[39m\u001b[39m\"\u001b[39m, \u001b[39m\"\u001b[39m\u001b[39mdistances\u001b[39m\u001b[39m\"\u001b[39m],\n\u001b[1;32m    456\u001b[0m ) \u001b[39m-\u001b[39m\u001b[39m>\u001b[39m QueryResult:\n\u001b[0;32m--> 457\u001b[0m     uuids, distances \u001b[39m=\u001b[39m \u001b[39mself\u001b[39;49m\u001b[39m.\u001b[39;49m_db\u001b[39m.\u001b[39;49mget_nearest_neighbors(\n\u001b[1;32m    458\u001b[0m         collection_uuid\u001b[39m=\u001b[39;49mcollection_id,\n\u001b[1;32m    459\u001b[0m         where\u001b[39m=\u001b[39;49mwhere,\n\u001b[1;32m    460\u001b[0m         where_document\u001b[39m=\u001b[39;49mwhere_document,\n\u001b[1;32m    461\u001b[0m         embeddings\u001b[39m=\u001b[39;49mquery_embeddings,\n\u001b[1;32m    462\u001b[0m         n_results\u001b[39m=\u001b[39;49mn_results,\n\u001b[1;32m    463\u001b[0m     )\n\u001b[1;32m    465\u001b[0m     include_embeddings \u001b[39m=\u001b[39m \u001b[39m\"\u001b[39m\u001b[39membeddings\u001b[39m\u001b[39m\"\u001b[39m \u001b[39min\u001b[39;00m include\n\u001b[1;32m    466\u001b[0m     include_documents \u001b[39m=\u001b[39m \u001b[39m\"\u001b[39m\u001b[39mdocuments\u001b[39m\u001b[39m\"\u001b[39m \u001b[39min\u001b[39;00m include\n",
      "File \u001b[0;32m~/Projects/polychroma/chromadb/db/postgres.py:509\u001b[0m, in \u001b[0;36mPostgres.get_nearest_neighbors\u001b[0;34m(self, collection_uuid, where, embeddings, n_results, where_document)\u001b[0m\n\u001b[1;32m    507\u001b[0m \u001b[39mif\u001b[39;00m embeddings \u001b[39mis\u001b[39;00m \u001b[39mnot\u001b[39;00m \u001b[39mNone\u001b[39;00m:\n\u001b[1;32m    508\u001b[0m     index \u001b[39m=\u001b[39m \u001b[39mself\u001b[39m\u001b[39m.\u001b[39m_index(collection_uuid, \u001b[39mlen\u001b[39m(embeddings[\u001b[39m0\u001b[39m]))\n\u001b[0;32m--> 509\u001b[0m     uuids, distances \u001b[39m=\u001b[39m index\u001b[39m.\u001b[39;49mget_nearest_neighbors(embeddings, n_results, ids)\n\u001b[1;32m    510\u001b[0m     \u001b[39mreturn\u001b[39;00m uuids, distances\n\u001b[1;32m    512\u001b[0m \u001b[39mreturn\u001b[39;00m [], np\u001b[39m.\u001b[39marray([])\n",
      "File \u001b[0;32m~/Projects/polychroma/chromadb/db/index/pgvector.py:128\u001b[0m, in \u001b[0;36mPgvector.get_nearest_neighbors\u001b[0;34m(self, embeddings, n_results, ids)\u001b[0m\n\u001b[1;32m    126\u001b[0m \u001b[39mprint\u001b[39m(res)\n\u001b[1;32m    127\u001b[0m \u001b[39m# return [[*x] for x in res]  # type: ignore\u001b[39;00m\n\u001b[0;32m--> 128\u001b[0m \u001b[39mraise\u001b[39;00m \u001b[39mNotImplementedError\u001b[39;00m\n",
      "\u001b[0;31mNotImplementedError\u001b[0m: "
     ]
    }
   ],
   "source": [
    "collection.query(\n",
    "    query_texts=[\"doc10\", \"thus spake zarathustra\"], \n",
    "    n_results=10\n",
    "    #where={\"metadata_field\": \"is_equal_to_this\"},\n",
    "    #where_document={\"$contains\":\"search_string\"}\n",
    "    )"
   ]
  },
  {
   "cell_type": "code",
   "execution_count": null,
   "metadata": {},
   "outputs": [],
   "source": [
    "\n",
    "\n"
   ]
  },
  {
   "cell_type": "code",
   "execution_count": null,
   "metadata": {},
   "outputs": [],
   "source": []
  },
  {
   "cell_type": "code",
   "execution_count": null,
   "metadata": {},
   "outputs": [],
   "source": []
  }
 ],
 "metadata": {
  "kernelspec": {
   "display_name": "venv",
   "language": "python",
   "name": "python3"
  },
  "language_info": {
   "codemirror_mode": {
    "name": "ipython",
    "version": 3
   },
   "file_extension": ".py",
   "mimetype": "text/x-python",
   "name": "python",
   "nbconvert_exporter": "python",
   "pygments_lexer": "ipython3",
   "version": "3.9.6"
  },
  "orig_nbformat": 4
 },
 "nbformat": 4,
 "nbformat_minor": 2
}
